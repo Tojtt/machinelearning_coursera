{
 "cells": [
  {
   "cell_type": "markdown",
   "metadata": {},
   "source": [
    "# Deep Q-Learning - Lunar Lander\n",
    "\n",
    "In this assignment, you will train an agent to land a lunar lander safely on a landing pad on the surface of the moon.\n",
    "\n",
    "\n",
    "# Outline\n",
    "- [ 1 - Import Packages <img align=\"Right\" src=\"./images/lunar_lander.gif\" width = 60% >](#1)\n",
    "- [ 2 - Hyperparameters](#2)\n",
    "- [ 3 - The Lunar Lander Environment](#3)\n",
    "  - [ 3.1 Action Space](#3.1)\n",
    "  - [ 3.2 Observation Space](#3.2)\n",
    "  - [ 3.3 Rewards](#3.3)\n",
    "  - [ 3.4 Episode Termination](#3.4)\n",
    "- [ 4 - Load the Environment](#4)\n",
    "- [ 5 - Interacting with the Gym Environment](#5)\n",
    "    - [ 5.1 Exploring the Environment's Dynamics](#5.1)\n",
    "- [ 6 - Deep Q-Learning](#6)\n",
    "  - [ 6.1 Target Network](#6.1)\n",
    "    - [ Exercise 1](#ex01)\n",
    "  - [ 6.2 Experience Replay](#6.2)\n",
    "- [ 7 - Deep Q-Learning Algorithm with Experience Replay](#7)\n",
    "  - [ Exercise 2](#ex02)\n",
    "- [ 8 - Update the Network Weights](#8)\n",
    "- [ 9 - Train the Agent](#9)\n",
    "- [ 10 - See the Trained Agent In Action](#10)\n",
    "- [ 11 - Congratulations!](#11)\n",
    "- [ 12 - References](#12)\n"
   ]
  },
  {
   "cell_type": "markdown",
   "metadata": {},
   "source": [
    "<a name=\"1\"></a>\n",
    "## 1 - Import Packages\n",
    "\n",
    "We'll make use of the following packages:\n",
    "- `numpy` is a package for scientific computing in python.\n",
    "- `deque` will be our data structure for our memory buffer.\n",
    "- `namedtuple` will be used to store the experience tuples.\n",
    "- The `gym` toolkit is a collection of environments that can be used to test reinforcement learning algorithms. We should note that in this notebook we are using `gym` version `0.24.0`.\n",
    "- `PIL.Image` and `pyvirtualdisplay` are needed to render the Lunar Lander environment.\n",
    "- We will use several modules from the `tensorflow.keras` framework for building deep learning models.\n",
    "- `utils` is a module that contains helper functions for this assignment. You do not need to modify the code in this file.\n",
    "\n",
    "Run the cell below to import all the necessary packages."
   ]
  },
  {
   "cell_type": "code",
   "execution_count": 2,
   "metadata": {
    "id": "KYbOPKRtfQOr"
   },
   "outputs": [],
   "source": [
    "import time\n",
    "from collections import deque, namedtuple\n",
    "\n",
    "import gym\n",
    "import numpy as np\n",
    "import PIL.Image\n",
    "import tensorflow as tf\n",
    "import utils\n",
    "\n",
    "from pyvirtualdisplay import Display\n",
    "from tensorflow.keras import Sequential\n",
    "from tensorflow.keras.layers import Dense, Input\n",
    "from tensorflow.keras.losses import MSE\n",
    "from tensorflow.keras.optimizers import Adam"
   ]
  },
  {
   "cell_type": "code",
   "execution_count": 3,
   "metadata": {},
   "outputs": [],
   "source": [
    "# Set up a virtual display to render the Lunar Lander environment.\n",
    "Display(visible=0, size=(840, 480)).start();\n",
    "\n",
    "# Set the random seed for TensorFlow.\n",
    "tf.random.set_seed(utils.SEED)"
   ]
  },
  {
   "cell_type": "markdown",
   "metadata": {},
   "source": [
    "<a name=\"2\"></a>\n",
    "## 2 - Hyperparameters\n",
    "\n",
    "Run the cell below to set the hyperparameters."
   ]
  },
  {
   "cell_type": "code",
   "execution_count": 4,
   "metadata": {},
   "outputs": [],
   "source": [
    "MEMORY_SIZE = 100_000     # size of memory buffer.\n",
    "GAMMA = 0.995             # discount factor.\n",
    "ALPHA = 1e-3              # learning rate.\n",
    "NUM_STEPS_FOR_UPDATE = 4  # perform a learning update every C time steps."
   ]
  },
  {
   "cell_type": "markdown",
   "metadata": {},
   "source": [
    "<a name=\"3\"></a>\n",
    "## 3 - The Lunar Lander Environment\n",
    "\n",
    "In this notebook we will be using [OpenAI's Gym Library](https://www.gymlibrary.dev/). The Gym library provides a wide variety of environments for reinforcement learning. To put it simply, an environment represents a problem or task to be solved. In this notebook, we will try to solve the Lunar Lander environment using reinforcement learning.\n",
    "\n",
    "The goal of the Lunar Lander environment is to land the lunar lander safely on the landing pad on the surface of the moon. The landing pad is designated by two flag poles and it is always at coordinates `(0,0)` but the lander is also allowed to land outside of the landing pad. The lander starts at the top center of the environment with a random initial force applied to its center of mass and has infinite fuel. The environment is considered solved if you get `200` points. \n",
    "\n",
    "<br>\n",
    "<br>\n",
    "<figure>\n",
    "  <img src = \"images/lunar_lander.gif\" width = 40%>\n",
    "      <figcaption style = \"text-align: center; font-style: italic\">Fig 1. Lunar Lander Environment.</figcaption>\n",
    "</figure>\n",
    "\n",
    "\n",
    "\n",
    "<a name=\"3.1\"></a>\n",
    "### 3.1 Action Space\n",
    "\n",
    "The agent has four discrete actions available:\n",
    "\n",
    "* Do nothing.\n",
    "* Fire right engine.\n",
    "* Fire main engine.\n",
    "* Fire left engine.\n",
    "\n",
    "Each action has a corresponding numerical value:\n",
    "\n",
    "```python\n",
    "Do nothing = 0\n",
    "Fire right engine = 1\n",
    "Fire main engine = 2\n",
    "Fire left engine = 3\n",
    "```\n",
    "\n",
    "<a name=\"3.2\"></a>\n",
    "### 3.2 Observation Space\n",
    "\n",
    "The agent's observation space consists of a state vector with 8 variables:\n",
    "\n",
    "* Its $(x,y)$ coordinates. The landing pad is always at coordinates $(0,0)$.\n",
    "* Its linear velocities $(\\dot x,\\dot y)$.\n",
    "* Its angle $\\theta$.\n",
    "* Its angular velocity $\\dot \\theta$.\n",
    "* Two booleans, $l$ and $r$, that represent whether each leg is in contact with the ground or not.\n",
    "\n",
    "<a name=\"3.3\"></a>\n",
    "### 3.3 Rewards\n",
    "\n",
    "The Lunar Lander environment has the following reward system:\n",
    "\n",
    "* Landing on the landing pad and coming to rest is about 100-140 points.\n",
    "* If the lander moves away from the landing pad, it loses reward. \n",
    "* If the lander crashes, it receives -100 points.\n",
    "* If the lander comes to rest, it receives +100 points.\n",
    "* Each leg with ground contact is +10 points.\n",
    "* Firing the main engine is -0.3 points each frame.\n",
    "* Firing the side engine is -0.03 points each frame.\n",
    "\n",
    "<a name=\"3.4\"></a>\n",
    "### 3.4 Episode Termination\n",
    "\n",
    "An episode ends (i.e the environment enters a terminal state) if:\n",
    "\n",
    "* The lunar lander crashes (i.e if the body of the lunar lander comes in contact with the surface of the moon).\n",
    "\n",
    "* The absolute value of the lander's $x$-coordinate is greater than 1 (i.e. it goes beyond the left or right border)\n",
    "\n",
    "You can check out the [Open AI Gym documentation](https://www.gymlibrary.dev/environments/box2d/lunar_lander/) for a full description of the environment. "
   ]
  },
  {
   "cell_type": "markdown",
   "metadata": {},
   "source": [
    "<a name=\"4\"></a>\n",
    "## 4 - Load the Environment\n",
    "\n",
    "We start by loading the `LunarLander-v2` environment from the `gym` library by using the `.make()` method. `LunarLander-v2` is the latest version of the Lunar Lander environment and you can read about its version history in the [Open AI Gym documentation](https://www.gymlibrary.dev/environments/box2d/lunar_lander/#version-history)."
   ]
  },
  {
   "cell_type": "code",
   "execution_count": 5,
   "metadata": {
    "id": "ILVMYKewfR0n"
   },
   "outputs": [],
   "source": [
    "env = gym.make('LunarLander-v2')"
   ]
  },
  {
   "cell_type": "markdown",
   "metadata": {},
   "source": [
    "Once we load the environment we use the `.reset()` method to reset the environment to the initial state. The lander starts at the top center of the environment and we can render the first frame of the environment by using the `.render()` method."
   ]
  },
  {
   "cell_type": "code",
   "execution_count": 6,
   "metadata": {},
   "outputs": [
    {
     "data": {
      "image/png": "[encoded data removed]",
      "text/plain": [
       "<PIL.Image.Image image mode=RGB size=600x400 at 0x7FBC3DF93C90>"
      ]
     },
     "execution_count": 6,
     "metadata": {},
     "output_type": "execute_result"
    }
   ],
   "source": [
    "env.reset()\n",
    "PIL.Image.fromarray(env.render(mode='rgb_array'))"
   ]
  },
  {
   "cell_type": "markdown",
   "metadata": {},
   "source": [
    "In order to build our neural network later on we need to know the size of the state vector and the number of valid actions. We can get this information from our environment by using the `.observation_space.shape` and `action_space.n` methods, respectively."
   ]
  },
  {
   "cell_type": "code",
   "execution_count": 7,
   "metadata": {
    "id": "x3fdqdG4CUu2"
   },
   "outputs": [
    {
     "name": "stdout",
     "output_type": "stream",
     "text": [
      "State Shape: (8,)\n",
      "Number of actions: 4\n"
     ]
    }
   ],
   "source": [
    "state_size = env.observation_space.shape\n",
    "num_actions = env.action_space.n\n",
    "\n",
    "print('State Shape:', state_size)\n",
    "print('Number of actions:', num_actions)"
   ]
  },
  {
   "cell_type": "markdown",
   "metadata": {},
   "source": [
    "<a name=\"5\"></a>\n",
    "## 5 - Interacting with the Gym Environment\n",
    "\n",
    "The Gym library implements the standard “agent-environment loop” formalism:\n",
    "\n",
    "<br>\n",
    "<center>\n",
    "<video src = \"./videos/rl_formalism.m4v\" width=\"840\" height=\"480\" controls autoplay loop poster=\"./images/rl_formalism.png\"> </video>\n",
    "<figcaption style = \"text-align:center; font-style:italic\">Fig 2. Agent-environment Loop Formalism.</figcaption>\n",
    "</center>\n",
    "<br>\n",
    "\n",
    "In the standard “agent-environment loop” formalism, an agent interacts with the environment in discrete time steps $t=0,1,2,...$. At each time step $t$, the agent uses a policy $\\pi$ to select an action $A_t$ based on its observation of the environment's state $S_t$. The agent receives a numerical reward $R_t$ and on the next time step, moves to a new state $S_{t+1}$.\n",
    "\n",
    "<a name=\"5.1\"></a>\n",
    "### 5.1 Exploring the Environment's Dynamics\n",
    "\n",
    "In Open AI's Gym environments, we use the `.step()` method to run a single time step of the environment's dynamics. In the version of `gym` that we are using the `.step()` method accepts an action and returns four values:\n",
    "\n",
    "* `observation` (**object**): an environment-specific object representing your observation of the environment. In the Lunar Lander environment this corresponds to a numpy array containing the positions and velocities of the lander as described in section [3.2 Observation Space](#3.2).\n",
    "\n",
    "\n",
    "* `reward` (**float**): amount of reward returned as a result of taking the given action. In the Lunar Lander environment this corresponds to a float of type `numpy.float64` as described in section [3.3 Rewards](#3.3).\n",
    "\n",
    "\n",
    "* `done` (**boolean**): When done is `True`, it indicates the episode has terminated and it’s time to reset the environment. \n",
    "\n",
    "\n",
    "* `info` (**dictionary**): diagnostic information useful for debugging. We won't be using this variable in this notebook but it is shown here for completeness.\n",
    "\n",
    "To begin an episode, we need to reset the environment to an initial state. We do this by using the `.reset()` method. "
   ]
  },
  {
   "cell_type": "code",
   "execution_count": 8,
   "metadata": {},
   "outputs": [],
   "source": [
    "# Reset the environment and get the initial state.\n",
    "initial_state = env.reset()"
   ]
  },
  {
   "cell_type": "markdown",
   "metadata": {},
   "source": [
    "Once the environment is reset, the agent can start taking actions in the environment by using the `.step()` method. Note that the agent can only take one action per time step. \n",
    "\n",
    "In the cell below you can select different actions and see how the returned values change depending on the action taken. Remember that in this environment the agent has four discrete actions available and we specify them in code by using their corresponding numerical value:\n",
    "\n",
    "```python\n",
    "Do nothing = 0\n",
    "Fire right engine = 1\n",
    "Fire main engine = 2\n",
    "Fire left engine = 3\n",
    "```"
   ]
  },
  {
   "cell_type": "code",
   "execution_count": 98,
   "metadata": {},
   "outputs": [
    {
     "data": {
      "text/html": [
       "<table class=\"simpletable\">\n",
       "<tr>\n",
       "  <th>Initial State:</th>      <td>[0.002 1.422 0.194 0.506 -0.002 -0.044 0.000 0.000]</td>\n",
       "</tr>\n",
       "<tr>\n",
       "  <th>Action:</th>                              <td>Fire right engine</td>                 \n",
       "</tr>\n",
       "<tr>\n",
       "  <th>Next State:</th>         <td>[0.132 0.116 -0.146 -1.845 1.415 1.828 0.000 0.000]</td>\n",
       "</tr>\n",
       "<tr>\n",
       "  <th>Reward Received:</th>                          <td>-9.674</td>                       \n",
       "</tr>\n",
       "<tr>\n",
       "  <th>Episode Terminated:</th>                        <td>False</td>                       \n",
       "</tr>\n",
       "</table>"
      ],
      "text/plain": [
       "<class 'statsmodels.iolib.table.SimpleTable'>"
      ]
     },
     "execution_count": 98,
     "metadata": {},
     "output_type": "execute_result"
    }
   ],
   "source": [
    "# Select an action.\n",
    "action = 1\n",
    "\n",
    "# Run a single time step of the environment's dynamics with the given action.\n",
    "next_state, reward, done, _ = env.step(action)\n",
    "\n",
    "# Display table with values. All values are displayed to 3 decimal places.\n",
    "utils.display_table(initial_state, action, next_state, reward, done)"
   ]
  },
  {
   "cell_type": "markdown",
   "metadata": {},
   "source": [
    "In practice, when we train the agent we use a loop to allow the agent to take many consecutive actions during an episode."
   ]
  },
  {
   "cell_type": "markdown",
   "metadata": {},
   "source": [
    "<a name=\"6\"></a>\n",
    "## 6 - Deep Q-Learning\n",
    "\n",
    "In cases where both the state and action space are discrete we can estimate the action-value function iteratively by using the Bellman equation:\n",
    "\n",
    "$$\n",
    "Q_{i+1}(s,a) = R + \\gamma \\max_{a'}Q_i(s',a')\n",
    "$$\n",
    "\n",
    "This iterative method converges to the optimal action-value function $Q^*(s,a)$ as $i\\to\\infty$. This means that the agent just needs to gradually explore the state-action space and keep updating the estimate of $Q(s,a)$ until it converges to the optimal action-value function $Q^*(s,a)$. However, in cases where the state space is continuous it becomes practically impossible to explore the entire state-action space. Consequently, this also makes it practically impossible to gradually estimate $Q(s,a)$ until it converges to $Q^*(s,a)$.\n",
    "\n",
    "In the Deep $Q$-Learning, we solve this problem by using a neural network to estimate the action-value function $Q(s,a)\\approx Q^*(s,a)$. We call this neural network a $Q$-Network and it can be trained by adjusting its weights at each iteration to minimize the mean-squared error in the Bellman equation.\n",
    "\n",
    "Unfortunately, using neural networks in reinforcement learning to estimate action-value functions has proven to be highly unstable. Luckily, there's a couple of techniques that can be employed to avoid instabilities. These techniques consist of using a ***Target Network*** and ***Experience Replay***. We will explore these two techniques in the following sections."
   ]
  },
  {
   "cell_type": "markdown",
   "metadata": {},
   "source": [
    "<a name=\"6.1\"></a>\n",
    "### 6.1 Target Network\n",
    "\n",
    "We can train the $Q$-Network by adjusting it's weights at each iteration to minimize the mean-squared error in the Bellman equation, where the target values are given by:\n",
    "\n",
    "$$\n",
    "y = R + \\gamma \\max_{a'}Q(s',a';w)\n",
    "$$\n",
    "\n",
    "where $w$ are the weights of the $Q$-Network. This means that we are adjusting the weights $w$ at each iteration to minimize the following error:\n",
    "\n",
    "$$\n",
    "\\overbrace{\\underbrace{R + \\gamma \\max_{a'}Q(s',a'; w)}_{\\rm {y~target}} - Q(s,a;w)}^{\\rm {Error}}\n",
    "$$\n",
    "\n",
    "Notice that this forms a problem because the $y$ target is changing on every iteration. Having a constantly moving target can lead to oscillations and instabilities. To avoid this, we can create\n",
    "a separate neural network for generating the $y$ targets. We call this separate neural network the **target $\\hat Q$-Network** and it will have the same architecture as the original $Q$-Network. By using the target $\\hat Q$-Network, the above error becomes:\n",
    "\n",
    "$$\n",
    "\\overbrace{\\underbrace{R + \\gamma \\max_{a'}\\hat{Q}(s',a'; w^-)}_{\\rm {y~target}} - Q(s,a;w)}^{\\rm {Error}}\n",
    "$$\n",
    "\n",
    "where $w^-$ and $w$ are the weights the target $\\hat Q$-Network and $Q$-Network, respectively.\n",
    "\n",
    "In practice, we will use the following algorithm: every $C$ time steps we will use the $\\hat Q$-Network to generate the $y$ targets and update the weights of the target $\\hat Q$-Network using the weights of the $Q$-Network. We will update the weights $w^-$ of the the target $\\hat Q$-Network using a **soft update**. This means that we will update the weights $w^-$ using the following rule:\n",
    " \n",
    "$$\n",
    "w^-\\leftarrow \\tau w + (1 - \\tau) w^-\n",
    "$$\n",
    "\n",
    "where $\\tau\\ll 1$. By using the soft update, we are ensuring that the target values, $y$, change slowly, which greatly improves the stability of our learning algorithm."
   ]
  },
  {
   "cell_type": "markdown",
   "metadata": {},
   "source": [
    "<a name=\"ex01\"></a>\n",
    "### Exercise 1\n",
    "\n",
    "In this exercise you will create the $Q$ and target $\\hat Q$ networks and set the optimizer. Remember that the Deep $Q$-Network (DQN) is a neural network that approximates the action-value function $Q(s,a)\\approx Q^*(s,a)$. It does this by learning how to map states to $Q$ values.\n",
    "\n",
    "To solve the Lunar Lander environment, we are going to employ a DQN with the following architecture:\n",
    "\n",
    "* An `Input` layer that takes `state_size` as input.\n",
    "\n",
    "* A `Dense` layer with `64` units and a `relu` activation function.\n",
    "\n",
    "* A `Dense` layer with `64` units and a `relu` activation function.\n",
    "\n",
    "* A `Dense` layer with `num_actions` units and a `linear` activation function. This will be the output layer of our network.\n",
    "\n",
    "\n",
    "In the cell below you should create the $Q$-Network and the target $\\hat Q$-Network using the model architecture described above. Remember that both the $Q$-Network and the target $\\hat Q$-Network have the same architecture.\n",
    "\n",
    "Lastly, you should set `Adam` as the optimizer with a learning rate equal to `ALPHA`. Recall that `ALPHA` was defined in the [Hyperparameters](#2) section. We should note that for this exercise you should use the already imported packages:\n",
    "```python\n",
    "from tensorflow.keras.layers import Dense, Input\n",
    "from tensorflow.keras.optimizers import Adam\n",
    "```"
   ]
  },
  {
   "cell_type": "code",
   "execution_count": 103,
   "metadata": {},
   "outputs": [],
   "source": [
    "# UNQ_C1\n",
    "# GRADED CELL\n",
    "\n",
    "# Create the Q-Network.\n",
    "q_network = Sequential([\n",
    "    ### START CODE HERE ###\n",
    "    Input(shape = state_size),\n",
    "    Dense(64, activation = 'relu'),\n",
    "    Dense(64, activation = 'relu'),\n",
    "    Dense(4)\n",
    "    ### END CODE HERE ### \n",
    "    ])\n",
    "\n",
    "# Create the target Q^-Network.\n",
    "target_q_network = Sequential([\n",
    "    ### START CODE HERE ### \n",
    "    Input(shape = state_size),\n",
    "    Dense(64, activation = 'relu'),\n",
    "    Dense(64, activation = 'relu'),\n",
    "    Dense(4)\n",
    "    ### END CODE HERE ###\n",
    "    ])\n",
    "\n",
    "### START CODE HERE ### \n",
    "optimizer = Adam(learning_rate=ALPHA)\n",
    "\n",
    "### END CODE HERE ###"
   ]
  },
  {
   "cell_type": "code",
   "execution_count": 104,
   "metadata": {},
   "outputs": [
    {
     "name": "stdout",
     "output_type": "stream",
     "text": [
      "\u001b[92mAll tests passed!\n",
      "\u001b[92mAll tests passed!\n",
      "\u001b[92mAll tests passed!\n"
     ]
    }
   ],
   "source": [
    "# UNIT TEST\n",
    "from public_tests import *\n",
    "\n",
    "test_network(q_network)\n",
    "test_network(target_q_network)\n",
    "test_optimizer(optimizer, ALPHA) "
   ]
  },
  {
   "cell_type": "markdown",
   "metadata": {},
   "source": [
    "<details>\n",
    "  <summary><font size=\"3\" color=\"darkgreen\"><b>Click for hints</b></font></summary>\n",
    "    \n",
    "```python\n",
    "# Create the Q-Network.\n",
    "q_network = Sequential([\n",
    "    Input(shape=state_size),                      \n",
    "    Dense(units=64, activation='relu'),            \n",
    "    Dense(units=64, activation='relu'),            \n",
    "    Dense(units=num_actions, activation='linear'),\n",
    "    ])\n",
    "\n",
    "# Create the target Q^-Network.\n",
    "target_q_network = Sequential([\n",
    "    Input(shape=state_size),                       \n",
    "    Dense(units=64, activation='relu'),            \n",
    "    Dense(units=64, activation='relu'),            \n",
    "    Dense(units=num_actions, activation='linear'), \n",
    "    ])\n",
    "\n",
    "optimizer = Adam(learning_rate=ALPHA)                                  \n",
    "``` "
   ]
  },
  {
   "cell_type": "markdown",
   "metadata": {},
   "source": [
    "<a name=\"6.2\"></a>\n",
    "### 6.2 Experience Replay\n",
    "\n",
    "When an agent interacts with the environment, the states, actions, and rewards the agent experiences are sequential by nature. If the agent tries to learn from these consecutive experiences it can run into problems due to the strong correlations between them. To avoid this, we employ a technique known as **Experience Replay** to generate uncorrelated experiences for training our agent. Experience replay consists of storing the agent's experiences (i.e the states, actions, and rewards the agent receives) in a memory buffer and then sampling a random mini-batch of experiences from the buffer to do the learning. The experience tuples $(S_t, A_t, R_t, S_{t+1})$ will be added to the memory buffer at each time step as the agent interacts with the environment.\n",
    "\n",
    "For convenience, we will store the experiences as named tuples."
   ]
  },
  {
   "cell_type": "code",
   "execution_count": 105,
   "metadata": {},
   "outputs": [],
   "source": [
    "# Store experiences as named tuples.\n",
    "experience = namedtuple(\"Experience\", field_names=[\"state\", \"action\", \"reward\", \"next_state\", \"done\"])"
   ]
  },
  {
   "cell_type": "markdown",
   "metadata": {},
   "source": [
    "By using experience replay we avoid problematic correlations, oscillations and instabilities. In addition, experience replay also allows the agent to potentially use the same experience in multiple weight updates, which increases data efficiency."
   ]
  },
  {
   "cell_type": "markdown",
   "metadata": {},
   "source": [
    "<a name=\"7\"></a>\n",
    "## 7 - Deep Q-Learning Algorithm with Experience Replay\n",
    "\n",
    "Now that we know all the techniques that we are going to use, we can put them together to arrive at the Deep Q-Learning Algorithm With Experience Replay.\n",
    "<br>\n",
    "<br>\n",
    "<figure>\n",
    "  <img src = \"images/deep_q_algorithm.png\" width = 90% style = \"border: thin silver solid; padding: 0px\">\n",
    "      <figcaption style = \"text-align: center; font-style: italic\">Fig 3. Deep Q-Learning with Experience Replay.</figcaption>\n",
    "</figure>"
   ]
  },
  {
   "cell_type": "markdown",
   "metadata": {},
   "source": [
    "<a name=\"ex02\"></a>\n",
    "### Exercise 2\n",
    "\n",
    "In this exercise you will implement line ***12*** of the algorithm outlined in *Fig 3* above and you will also compute the loss between the $y$ targets and the $Q(s,a)$ values. In the cell below, complete the `compute_loss` function by setting the $y$ targets equal to:\n",
    "\n",
    "$$\n",
    "\\begin{equation}\n",
    "    y_j =\n",
    "    \\begin{cases}\n",
    "      R_j & \\text{if episode terminates at step  } j+1\\\\\n",
    "      R_j + \\gamma \\max_{a'}\\hat{Q}(s_{j+1},a') & \\text{otherwise}\\\\\n",
    "    \\end{cases}       \n",
    "\\end{equation}\n",
    "$$\n",
    "\n",
    "Here are a couple of things to note:\n",
    "\n",
    "* The `compute_loss` function takes in a mini-batch of experience tuples. This mini-batch of experience tuples is unpacked to extract the `states`, `actions`, `rewards`, `next_states`, and `done_vals`. You should keep in mind that these variables are *TensorFlow Tensors* whose size will depend on the mini-batch size. For example, if the mini-batch size is `64` then both `rewards` and `done_vals` will be TensorFlow Tensors with `64` elements.\n",
    "\n",
    "\n",
    "* Using `if/else` statements to set the $y$ targets will not work when the variables are tensors with many elements. However, notice that you can use the `done_vals` to implement the above in a single line of code. To do this, recall that the `done` variable is a Boolean variable that takes the value `True` when an episode terminates at step $j+1$ and it is `False` otherwise. Taking into account that a Boolean value of `True` has the numerical value of `1` and a Boolean value of `False` has the numerical value of `0`, you can use the factor `(1 - done_vals)` to implement the above in a single line of code. Here's a hint: notice that `(1 - done_vals)` has a value of `0` when `done_vals` is `True` and a value of `1` when `done_vals` is `False`. \n",
    "\n",
    "Lastly, compute the loss by calculating the Mean-Squared Error (`MSE`) between the `y_targets` and the `q_values`. To calculate the mean-squared error you should use the already imported package `MSE`:\n",
    "```python\n",
    "from tensorflow.keras.losses import MSE\n",
    "```"
   ]
  },
  {
   "cell_type": "code",
   "execution_count": 108,
   "metadata": {},
   "outputs": [],
   "source": [
    "# UNQ_C2\n",
    "# GRADED FUNCTION: calculate_loss\n",
    "\n",
    "def compute_loss(experiences, gamma, q_network, target_q_network):\n",
    "    \"\"\" \n",
    "    Calculates the loss.\n",
    "    \n",
    "    Args:\n",
    "      experiences: (tuple) tuple of [\"state\", \"action\", \"reward\", \"next_state\", \"done\"] namedtuples\n",
    "      gamma: (float) The discount factor.\n",
    "      q_network: (tf.keras.Sequential) Keras model for predicting the q_values\n",
    "      target_q_network: (tf.keras.Sequential) Keras model for predicting the targets\n",
    "          \n",
    "    Returns:\n",
    "      loss: (TensorFlow Tensor(shape=(0,), dtype=int32)) the Mean-Squared Error between\n",
    "            the y targets and the Q(s,a) values.\n",
    "    \"\"\"\n",
    "    \n",
    "    # Unpack the mini-batch of experience tuples.\n",
    "    states, actions, rewards, next_states, done_vals = experiences\n",
    "    \n",
    "    # Compute max Q^(s,a).\n",
    "    max_qsa = tf.reduce_max(target_q_network(next_states), axis=-1)\n",
    "    \n",
    "    # Set y = R if episode terminates, otherwise set y = R + γ max Q^(s,a).\n",
    "    ### START CODE HERE ### \n",
    "    y_targets = done_vals*rewards + (1 - done_vals)*(rewards + gamma*max_qsa)\n",
    "    ### END CODE HERE ###\n",
    "    \n",
    "    # Get the q_values.\n",
    "    q_values = q_network(states)\n",
    "    q_values = tf.gather_nd(q_values, tf.stack([tf.range(q_values.shape[0]),\n",
    "                                                tf.cast(actions, tf.int32)], axis=1))\n",
    "        \n",
    "    # Compute the loss.\n",
    "    ### START CODE HERE ### \n",
    "    loss = MSE(y_targets, q_values)\n",
    "    \n",
    "    \n",
    "    ### END CODE HERE ### \n",
    "    \n",
    "    return loss"
   ]
  },
  {
   "cell_type": "code",
   "execution_count": 109,
   "metadata": {},
   "outputs": [
    {
     "name": "stdout",
     "output_type": "stream",
     "text": [
      "\u001b[92mAll tests passed!\n"
     ]
    }
   ],
   "source": [
    "# UNIT TEST    \n",
    "test_compute_loss(compute_loss)"
   ]
  },
  {
   "cell_type": "markdown",
   "metadata": {},
   "source": [
    "<details>\n",
    "  <summary><font size=\"3\" color=\"darkgreen\"><b>Click for hints</b></font></summary>\n",
    "    \n",
    "```python\n",
    "def compute_loss(experiences, gamma, q_network, target_q_network):\n",
    "    \"\"\" \n",
    "    Calculates the loss.\n",
    "    \n",
    "    Args:\n",
    "      experiences: (tuple) tuple of [\"state\", \"action\", \"reward\", \"next_state\", \"done\"] namedtuples\n",
    "      gamma: (float) The discount factor.\n",
    "      q_network: (tf.keras.Sequential) Keras model for predicting the q_values\n",
    "      target_q_network: (tf.keras.Sequential) Keras model for predicting the targets\n",
    "          \n",
    "    Returns:\n",
    "      loss: (TensorFlow Tensor(shape=(0,), dtype=int32)) the Mean-Squared Error between\n",
    "            the y targets and the Q(s,a) values.\n",
    "    \"\"\"\n",
    "\n",
    "    \n",
    "    # Unpack the mini-batch of experience tuples.\n",
    "    states, actions, rewards, next_states, done_vals = experiences\n",
    "    \n",
    "    # Compute max Q^(s,a).\n",
    "    max_qsa = tf.reduce_max(target_q_network(next_states), axis=-1)\n",
    "    \n",
    "    # Set y = R if episode terminates, otherwise set y = R + γ max Q^(s,a).\n",
    "    y_targets = rewards + (gamma * max_qsa * (1 - done_vals))\n",
    "    \n",
    "    # Get the q_values.\n",
    "    q_values = q_network(states)\n",
    "    q_values = tf.gather_nd(q_values, tf.stack([tf.range(q_values.shape[0]),\n",
    "                                                tf.cast(actions, tf.int32)], axis=1))\n",
    "    \n",
    "    # Calculate the loss.\n",
    "    loss = MSE(y_targets, q_values)\n",
    "    \n",
    "    return loss\n",
    "\n",
    "``` \n",
    "    "
   ]
  },
  {
   "cell_type": "markdown",
   "metadata": {},
   "source": [
    "<a name=\"8\"></a>\n",
    "## 8 - Update the Network Weights\n",
    "\n",
    "We will use the `agent_learn` function below to implement lines ***12 -14*** of the algorithm outlined in [Fig 3](#7). The `agent_learn` function will update the weights of the $Q$ and target $\\hat Q$ networks using a custom training loop. Because we are using a custom training loop we need to retrieve the gradients via a `tf.GradientTape` instance, and then call `optimizer.apply_gradients()` to update the weights of our $Q$-Network. Note that we are also using the `@tf.function` decorator to increase performance. Without this decorator our training will take twice as long. If you would like to know more about how to increase performance with `@tf.function` take a look at the [TensorFlow documentation](https://www.tensorflow.org/guide/function).\n",
    "\n",
    "The last line of this function updates the weights of the target $\\hat Q$-Network using a [soft update](#6.1). If you want to know how this is implemented in code we encourage you to take a look at the `utils.update_target_network` function in the `utils` module."
   ]
  },
  {
   "cell_type": "code",
   "execution_count": 110,
   "metadata": {},
   "outputs": [],
   "source": [
    "@tf.function\n",
    "def agent_learn(experiences, gamma):\n",
    "    \"\"\"\n",
    "    Updates the weights of the Q networks.\n",
    "    \n",
    "    Args:\n",
    "      experiences: (tuple) tuple of [\"state\", \"action\", \"reward\", \"next_state\", \"done\"] namedtuples\n",
    "      gamma: (float) The discount factor.\n",
    "    \n",
    "    \"\"\"\n",
    "    \n",
    "    # Calculate the loss.\n",
    "    with tf.GradientTape() as tape:\n",
    "        loss = compute_loss(experiences, gamma, q_network, target_q_network)\n",
    "\n",
    "    # Get the gradients of the loss with respect to the weights.\n",
    "    gradients = tape.gradient(loss, q_network.trainable_variables)\n",
    "    \n",
    "    # Update the weights of the q_network.\n",
    "    optimizer.apply_gradients(zip(gradients, q_network.trainable_variables))\n",
    "\n",
    "    # update the weights of target q_network.\n",
    "    utils.update_target_network(q_network, target_q_network)"
   ]
  },
  {
   "cell_type": "markdown",
   "metadata": {},
   "source": [
    "<a name=\"9\"></a>\n",
    "## 9 - Train the Agent\n",
    "\n",
    "We are now ready to train our agent to solve the Lunar Lander environment. In the cell below we will implement the algorithm in [Fig 3](#7) line by line (please note that we have included the same algorithm below for easy reference. This will prevent you from scrolling up and down the notebook):\n",
    "\n",
    "* **Line 1**: We initialize the `memory_buffer` with a capacity of $N =$ `MEMORY_SIZE`. Notice that we are using a `deque` as the data structure for our `memory_buffer`.\n",
    "\n",
    "\n",
    "* **Line 2**: We skip this line since we already initialized the `q_network` in [Exercise 1](#ex01).\n",
    "\n",
    "\n",
    "* **Line 3**: We initialize the `target_q_network` by setting its weights to be equal to those of the `q_network`.\n",
    "\n",
    "\n",
    "* **Line 4**: We start the outer loop. Notice that we have set $M =$ `num_episodes = 2000`. This number is reasonable because the agent should be able to solve the Lunar Lander environment in less than `2000` episodes using this notebook's default parameters.\n",
    "\n",
    "\n",
    "* **Line 5**: We use the `.reset()` method to reset the environment to the initial state and get the initial state.\n",
    "\n",
    "\n",
    "* **Line 6**: We start the inner loop. Notice that we have set $T =$ `max_num_timesteps = 1000`. This means that the episode will automatically terminate if the episode hasn't terminated after `1000` time steps.\n",
    "\n",
    "\n",
    "* **Line 7**: The agent observes the current `state` and chooses an `action` using an $\\epsilon$-greedy policy. Our agent starts out using a value of $\\epsilon =$ `epsilon = 1` which yields an $\\epsilon$-greedy policy that is equivalent to the equiprobable random policy. This means that at the beginning of our training, the agent is just going to take random actions regardless of the observed `state`. As training progresses we will decrease the value of $\\epsilon$ slowly towards a minimum value using a given $\\epsilon$-decay rate. We want this minimum value to be close to zero because a value of $\\epsilon = 0$ will yield an $\\epsilon$-greedy policy that is equivalent to the greedy policy. This means that towards the end of training, the agent will lean towards selecting the `action` that it believes (based on its past experiences) will maximize $Q(s,a)$. We will set the minimum $\\epsilon$ value to be `0.01` and not exactly 0 because we always want to keep a little bit of exploration during training. If you want to know how this is implemented in code we encourage you to take a look at the `utils.get_action` function in the `utils` module.\n",
    "\n",
    "\n",
    "* **Line 8**: We use the `.step()` method to take the given `action` in the environment and get the `reward` and the `next_state`. \n",
    "\n",
    "\n",
    "* **Line 9**: We store the `experience(state, action, reward, next_state, done)` tuple in our `memory_buffer`. Notice that we also store the `done` variable so that we can keep track of when an episode terminates. This allowed us to set the $y$ targets in [Exercise 2](#ex02).\n",
    "\n",
    "\n",
    "* **Line 10**: We check if the conditions are met to perform a learning update. We do this by using our custom `utils.check_update_conditions` function. This function checks if $C =$ `NUM_STEPS_FOR_UPDATE = 4` time steps have occured and if our `memory_buffer` has enough experience tuples to fill a mini-batch. For example, if the mini-batch size is `64`, then our `memory_buffer` should have more than `64` experience tuples in order to pass the latter condition. If the conditions are met, then the `utils.check_update_conditions` function will return a value of `True`, otherwise it will return a value of `False`.\n",
    "\n",
    "\n",
    "* **Lines 11 - 14**: If the `update` variable is `True` then we perform a learning update. The learning update consists of sampling a random mini-batch of experience tuples from our `memory_buffer`, setting the $y$ targets, performing gradient descent, and updating the weights of the networks. We will use the `agent_learn` function we defined in [Section 8](#8) to perform the latter 3.\n",
    "\n",
    "\n",
    "* **Line 15**: At the end of each iteration of the inner loop we set `next_state` as our new `state` so that the loop can start again from this new state. In addition, we check if the episode has reached a terminal state (i.e we check if `done = True`). If a terminal state has been reached, then we break out of the inner loop.\n",
    "\n",
    "\n",
    "* **Line 16**: At the end of each iteration of the outer loop we update the value of $\\epsilon$, and check if the environment has been solved. We consider that the environment has been solved if the agent receives an average of `200` points in the last `100` episodes. If the environment has not been solved we continue the outer loop and start a new episode.\n",
    "\n",
    "Finally, we wanted to note that we have included some extra variables to keep track of the total number of points the agent received in each episode. This will help us determine if the agent has solved the environment and it will also allow us to see how our agent performed during training. We also use the `time` module to measure how long the training takes. \n",
    "\n",
    "<br>\n",
    "<br>\n",
    "<figure>\n",
    "  <img src = \"images/deep_q_algorithm.png\" width = 90% style = \"border: thin silver solid; padding: 0px\">\n",
    "      <figcaption style = \"text-align: center; font-style: italic\">Fig 4. Deep Q-Learning with Experience Replay.</figcaption>\n",
    "</figure>\n",
    "<br>\n",
    "\n",
    "**Note:** With this notebook's default parameters, the following cell takes between 10 to 15 minutes to run. "
   ]
  },
  {
   "cell_type": "code",
   "execution_count": 115,
   "metadata": {},
   "outputs": [
    {
     "name": "stdout",
     "output_type": "stream",
     "text": [
      "Episode 100 | Total point average of the last 100 episodes: -101.77\n",
      "Episode 200 | Total point average of the last 100 episodes: -24.237\n",
      "Episode 300 | Total point average of the last 100 episodes: 32.896\n",
      "Episode 400 | Total point average of the last 100 episodes: 172.41\n",
      "Episode 500 | Total point average of the last 100 episodes: 216.36\n",
      "Episode 600 | Total point average of the last 100 episodes: 220.07\n",
      "Episode 700 | Total point average of the last 100 episodes: 244.05\n",
      "Episode 800 | Total point average of the last 100 episodes: 249.07\n",
      "Episode 900 | Total point average of the last 100 episodes: 251.52\n",
      "Episode 1000 | Total point average of the last 100 episodes: 258.84\n",
      "Episode 1100 | Total point average of the last 100 episodes: 250.04\n",
      "Episode 1108 | Total point average of the last 100 episodes: 249.11"
     ]
    },
    {
     "ename": "KeyboardInterrupt",
     "evalue": "",
     "output_type": "error",
     "traceback": [
      "\u001b[0;31m---------------------------------------------------------------------------\u001b[0m",
      "\u001b[0;31mKeyboardInterrupt\u001b[0m                         Traceback (most recent call last)",
      "\u001b[0;32m<ipython-input-115-e62387a98369>\u001b[0m in \u001b[0;36m<module>\u001b[0;34m\u001b[0m\n\u001b[1;32m     25\u001b[0m         \u001b[0;31m# From the current state S choose an action A using an ε-greedy policy.\u001b[0m\u001b[0;34m\u001b[0m\u001b[0;34m\u001b[0m\u001b[0;34m\u001b[0m\u001b[0m\n\u001b[1;32m     26\u001b[0m         \u001b[0mstate_qn\u001b[0m \u001b[0;34m=\u001b[0m \u001b[0mnp\u001b[0m\u001b[0;34m.\u001b[0m\u001b[0mexpand_dims\u001b[0m\u001b[0;34m(\u001b[0m\u001b[0mstate\u001b[0m\u001b[0;34m,\u001b[0m \u001b[0maxis\u001b[0m\u001b[0;34m=\u001b[0m\u001b[0;36m0\u001b[0m\u001b[0;34m)\u001b[0m  \u001b[0;31m# state needs to be the right shape for the q_network.\u001b[0m\u001b[0;34m\u001b[0m\u001b[0;34m\u001b[0m\u001b[0m\n\u001b[0;32m---> 27\u001b[0;31m         \u001b[0mq_values\u001b[0m \u001b[0;34m=\u001b[0m \u001b[0mq_network\u001b[0m\u001b[0;34m(\u001b[0m\u001b[0mstate_qn\u001b[0m\u001b[0;34m)\u001b[0m\u001b[0;34m\u001b[0m\u001b[0;34m\u001b[0m\u001b[0m\n\u001b[0m\u001b[1;32m     28\u001b[0m         \u001b[0maction\u001b[0m \u001b[0;34m=\u001b[0m \u001b[0mutils\u001b[0m\u001b[0;34m.\u001b[0m\u001b[0mget_action\u001b[0m\u001b[0;34m(\u001b[0m\u001b[0mq_values\u001b[0m\u001b[0;34m,\u001b[0m \u001b[0mepsilon\u001b[0m\u001b[0;34m)\u001b[0m\u001b[0;34m\u001b[0m\u001b[0;34m\u001b[0m\u001b[0m\n\u001b[1;32m     29\u001b[0m \u001b[0;34m\u001b[0m\u001b[0m\n",
      "\u001b[0;32m/opt/conda/lib/python3.7/site-packages/tensorflow_core/python/keras/engine/base_layer.py\u001b[0m in \u001b[0;36m__call__\u001b[0;34m(self, inputs, *args, **kwargs)\u001b[0m\n\u001b[1;32m    822\u001b[0m             \u001b[0moutputs\u001b[0m \u001b[0;34m=\u001b[0m \u001b[0mself\u001b[0m\u001b[0;34m.\u001b[0m\u001b[0mcall\u001b[0m\u001b[0;34m(\u001b[0m\u001b[0mcast_inputs\u001b[0m\u001b[0;34m,\u001b[0m \u001b[0;34m*\u001b[0m\u001b[0margs\u001b[0m\u001b[0;34m,\u001b[0m \u001b[0;34m**\u001b[0m\u001b[0mkwargs\u001b[0m\u001b[0;34m)\u001b[0m\u001b[0;34m\u001b[0m\u001b[0;34m\u001b[0m\u001b[0m\n\u001b[1;32m    823\u001b[0m           \u001b[0mself\u001b[0m\u001b[0;34m.\u001b[0m\u001b[0m_handle_activity_regularization\u001b[0m\u001b[0;34m(\u001b[0m\u001b[0minputs\u001b[0m\u001b[0;34m,\u001b[0m \u001b[0moutputs\u001b[0m\u001b[0;34m)\u001b[0m\u001b[0;34m\u001b[0m\u001b[0;34m\u001b[0m\u001b[0m\n\u001b[0;32m--> 824\u001b[0;31m           \u001b[0mself\u001b[0m\u001b[0;34m.\u001b[0m\u001b[0m_set_mask_metadata\u001b[0m\u001b[0;34m(\u001b[0m\u001b[0minputs\u001b[0m\u001b[0;34m,\u001b[0m \u001b[0moutputs\u001b[0m\u001b[0;34m,\u001b[0m \u001b[0minput_masks\u001b[0m\u001b[0;34m)\u001b[0m\u001b[0;34m\u001b[0m\u001b[0;34m\u001b[0m\u001b[0m\n\u001b[0m\u001b[1;32m    825\u001b[0m \u001b[0;34m\u001b[0m\u001b[0m\n\u001b[1;32m    826\u001b[0m     \u001b[0;32mreturn\u001b[0m \u001b[0moutputs\u001b[0m\u001b[0;34m\u001b[0m\u001b[0;34m\u001b[0m\u001b[0m\n",
      "\u001b[0;32m/opt/conda/lib/python3.7/site-packages/tensorflow_core/python/keras/engine/base_layer.py\u001b[0m in \u001b[0;36m_set_mask_metadata\u001b[0;34m(self, inputs, outputs, previous_mask)\u001b[0m\n\u001b[1;32m   1928\u001b[0m         \u001b[0mhasattr\u001b[0m\u001b[0;34m(\u001b[0m\u001b[0mself\u001b[0m\u001b[0;34m,\u001b[0m \u001b[0;34m'compute_mask'\u001b[0m\u001b[0;34m)\u001b[0m \u001b[0;32mand\u001b[0m\u001b[0;34m\u001b[0m\u001b[0;34m\u001b[0m\u001b[0m\n\u001b[1;32m   1929\u001b[0m         (self.supports_masking or\n\u001b[0;32m-> 1930\u001b[0;31m          not getattr(self.compute_mask, '_is_default', False)))\n\u001b[0m\u001b[1;32m   1931\u001b[0m \u001b[0;34m\u001b[0m\u001b[0m\n\u001b[1;32m   1932\u001b[0m     \u001b[0;32mif\u001b[0m \u001b[0mmask_already_computed\u001b[0m\u001b[0;34m:\u001b[0m\u001b[0;34m\u001b[0m\u001b[0;34m\u001b[0m\u001b[0m\n",
      "\u001b[0;31mKeyboardInterrupt\u001b[0m: "
     ]
    }
   ],
   "source": [
    "start = time.time()\n",
    "\n",
    "num_episodes = 2000\n",
    "max_num_timesteps = 1000\n",
    "\n",
    "total_point_history = []\n",
    "\n",
    "num_p_av = 100    # number of total points to use for averaging.\n",
    "epsilon = 1.0     # initial ε value for ε-greedy policy.\n",
    "\n",
    "# Create a memory buffer D with capacity N.\n",
    "memory_buffer = deque(maxlen=MEMORY_SIZE)\n",
    "\n",
    "# Set the target network weights equal to the Q-Network weights.\n",
    "target_q_network.set_weights(q_network.get_weights())\n",
    "\n",
    "for i in range(num_episodes):\n",
    "    \n",
    "    # Reset the environment to the initial state and get the initial state.\n",
    "    state = env.reset()\n",
    "    total_points = 0\n",
    "    \n",
    "    for t in range(max_num_timesteps):\n",
    "        \n",
    "        # From the current state S choose an action A using an ε-greedy policy.\n",
    "        state_qn = np.expand_dims(state, axis=0)  # state needs to be the right shape for the q_network.\n",
    "        q_values = q_network(state_qn)\n",
    "        action = utils.get_action(q_values, epsilon)\n",
    "        \n",
    "        # Take action A and receive reward R and the next state S'.\n",
    "        next_state, reward, done, _ = env.step(action)\n",
    "        \n",
    "        # Store experience tuple (S,A,R,S') in the memory buffer.\n",
    "        # We store the done variable as well for convenience.\n",
    "        memory_buffer.append(experience(state, action, reward, next_state, done))\n",
    "        \n",
    "        # Only update the network every NUM_STEPS_FOR_UPDATE time steps.\n",
    "        update = utils.check_update_conditions(t, NUM_STEPS_FOR_UPDATE, memory_buffer)\n",
    "        \n",
    "        if update:\n",
    "            # Sample random mini-batch of experience tuples (S,A,R,S') from D.\n",
    "            experiences = utils.get_experiences(memory_buffer)\n",
    "            \n",
    "            # Set the y targets, perform a gradient descent step,\n",
    "            # and update the network weights.\n",
    "            agent_learn(experiences, GAMMA)\n",
    "        \n",
    "        state = next_state.copy()\n",
    "        total_points += reward\n",
    "        \n",
    "        if done:\n",
    "            break\n",
    "            \n",
    "    total_point_history.append(total_points)\n",
    "    av_latest_points = np.mean(total_point_history[-num_p_av:])\n",
    "    \n",
    "    # Update the ε value.\n",
    "    epsilon = utils.get_new_eps(epsilon)\n",
    "\n",
    "    print(f\"\\rEpisode {i+1} | Total point average of the last {num_p_av} episodes: {av_latest_points:.2f}\", end=\"\")\n",
    "\n",
    "    if (i+1) % num_p_av == 0:\n",
    "        print(f\"\\rEpisode {i+1} | Total point average of the last {num_p_av} episodes: {av_latest_points:.2f}\")\n",
    "\n",
    "    # We will consider that the environment is solved if we get an\n",
    "    # average of 200 points in the last 100 episodes.\n",
    "    if av_latest_points >= 300.0:\n",
    "        print(f\"\\n\\nEnvironment solved in {i+1} episodes!\")\n",
    "        q_network.save('lunar_lander_model.h5')\n",
    "        break\n",
    "        \n",
    "tot_time = time.time() - start\n",
    "\n",
    "print(f\"\\nTotal Runtime: {tot_time:.2f} s ({(tot_time/60):.2f} min)\")"
   ]
  },
  {
   "cell_type": "markdown",
   "metadata": {},
   "source": [
    "We can plot the total point history along with the moving average to see how our agent improved during training. If you want to know about the different plotting options available in the `utils.plot_history` function we encourage you to take a look at the `utils` module."
   ]
  },
  {
   "cell_type": "code",
   "execution_count": 116,
   "metadata": {
    "id": "E_EUXxurfe8m",
    "scrolled": false
   },
   "outputs": [
    {
     "data": {
      "image/png": "[encoded data removed]",
      "text/plain": [
       "<Figure size 720x504 with 1 Axes>"
      ]
     },
     "metadata": {},
     "output_type": "display_data"
    }
   ],
   "source": [
    "# Plot the total point history along with the moving average.\n",
    "utils.plot_history(total_point_history)"
   ]
  },
  {
   "cell_type": "markdown",
   "metadata": {
    "id": "c_xwgaX5MnYt"
   },
   "source": [
    "<a name=\"10\"></a>\n",
    "## 10 - See the Trained Agent In Action\n",
    "\n",
    "Now that we have trained our agent, we can see it in action. We will use the `utils.create_video` function to create a video of our agent interacting with the environment using the trained $Q$-Network. The `utils.create_video` function uses the `imageio` library to create the video. This library produces some warnings that can be distracting, so, to suppress these warnings we run the code below."
   ]
  },
  {
   "cell_type": "code",
   "execution_count": 117,
   "metadata": {},
   "outputs": [],
   "source": [
    "# Suppress warnings from imageio.\n",
    "import logging\n",
    "logging.getLogger().setLevel(logging.ERROR)"
   ]
  },
  {
   "cell_type": "markdown",
   "metadata": {},
   "source": [
    "In the cell below we create a video of our agent interacting with the Lunar Lander environment using the trained `q_network`. The video is saved to the `videos` folder with the given `filename`. We use the `utils.embed_mp4` function to embed the video in the Jupyter Notebook so that we can see it here directly without having to download it.\n",
    "\n",
    "We should note that since the lunar lander starts with a random initial force applied to its center of mass, every time you run the cell below you will see a different video. If the agent was trained properly, it should be able to land the lunar lander in the landing pad every time, regardless of the initial force applied to its center of mass."
   ]
  },
  {
   "cell_type": "code",
   "execution_count": 118,
   "metadata": {
    "id": "3Ttb_zLeJKiG"
   },
   "outputs": [
    {
     "data": {
      "text/html": [
       "\n",
       "    <video width=\"840\" height=\"480\" controls>\n",
       "    <source src=\"data:video/mp4;base64,AAAAIGZ0eXBpc29tAAACAGlzb21pc28yYXZjMW1wNDEAAAAIZnJlZQAA7PVtZGF0AAACrwYF//+r3EXpvebZSLeWLNgg2SPu73gyNjQgLSBjb3JlIDE1OSByMjk5MSAxNzcxYjU1IC0gSC4yNjQvTVBFRy00IEFWQyBjb2RlYyAtIENvcHlsZWZ0IDIwMDMtMjAxOSAtIGh0dHA6Ly93d3cudmlkZW9sYW4ub3JnL3gyNjQuaHRtbCAtIG9wdGlvbnM6IGNhYmFjPTEgcmVmPTMgZGVibG9jaz0xOjA6MCBhbmFseXNlPTB4MzoweDExMyBtZT1oZXggc3VibWU9NyBwc3k9MSBwc3lfcmQ9MS4wMDowLjAwIG1peGVkX3JlZj0xIG1lX3JhbmdlPTE2IGNocm9tYV9tZT0xIHRyZWxsaXM9MSA4eDhkY3Q9MSBjcW09MCBkZWFkem9uZT0yMSwxMSBmYXN0X3Bza2lwPTEgY2hyb21hX3FwX29mZnNldD0tMiB0aHJlYWRzPTEyIGxvb2thaGVhZF90aHJlYWRzPTIgc2xpY2VkX3RocmVhZHM9MCBucj0wIGRlY2ltYXRlPTEgaW50ZXJsYWNlZD0wIGJsdXJheV9jb21wYXQ9MCBjb25zdHJhaW5lZF9pbnRyYT0wIGJmcmFtZXM9MyBiX3B5cmFtaWQ9MiBiX2FkYXB0PTEgYl9iaWFzPTAgZGlyZWN0PTEgd2VpZ2h0Yj0xIG9wZW5fZ29wPTAgd2VpZ2h0cD0yIGtleWludD0yNTAga2V5aW50X21pbj0yNSBzY2VuZWN1dD00MCBpbnRyYV9yZWZyZXNoPTAgcmNfbG9va2FoZWFkPTQwIHJjPWNyZiBtYnRyZWU9MSBjcmY9MjMuMCBxY29tcD0wLjYwIHFwbWluPTAgcXBtYXg9NjkgcXBzdGVwPTQgaXBfcmF0aW89MS40MCBhcT0xOjEuMDAAgAAABw5liIQAN//+9vD+BTZWBFCXEc3onTMfvxW4ujQ3vdkR4TypMwBGXd+vn8vX3rsSlatkwMzVuwloSy7kkCbBgCEb6LfjcmDTaopntUB6z3qucKzR7nIbcmiIeZS4MHWgiWjq6qSVco0GxkBYO7IPAsWWoCv4/fnf/2UY707fEaUHMVD/HiXftkZ44YYfWMYJTVv/0Eig4Fnz7zcV3Qu8eN1NiDoyHz4Rd8XkmooeVlRIl17wGsgXWP5aShwNZ4QF66op39pLAAADAAAKNegF1Vt43MjbCeCwI0mwI4AAYQN8GUJAHcHeIcKcU0j5Hi1G6XZm3ReLpryi/0gOexjGk9prvft7SYdEy0HA3P83OfgxoCGYHbY/ohceaLYgKUJc83c/5f7fLTAZ/uCJHCj3k6AnxZwUy4jfyh0HzstKtngjsAbkn1B4w5EfHiJM6pXOvYvZ+IDt+4IGu1btFgJRqDiBZgmB8QHmfJREHL2ebWh2eOuNeqiIzQ+skCG+VB0TcqHM6z1HlmiqZnUGIpR3hWCDmPDWKANCOtUp/b/OpvbtvOQg5M4n7aB7YgPo0ZHrdQVGgvDlijjIRmCQsBSPp3UNxzUp4m2WxEIJz+iisPOl8flRgNpTY+mG/6a6h1DkJwJeqJuj3z/qBIKKb9XBziO75WlgW2cr+Rc7k/iwu7IpbgVD8GmbZz6yYg+JoejeZ5smjTkZZ8y6WdzlOaSpbV8uWT/6kQQzTTiqJtvoOgF7rj10fK4b9fwoO1Asd09SkEZwv9jl1QHyGOZ4/JCuitLrEz5BDJ5p1SjRSkfQ4jN4hmkJ/K6k88U108NQeLSVel9iooGfOKG8OLJ/vll0iej5eAMYullVhTXjAOdmCyWkqgtX9KLM7gJ/3sE7ImSRrAcF8fgSXgZ8Mb7QWG2fuIA54XXED5W+VP0ikKsil/a3I+IPhsCQO9NZ3KBjinKjuTwVbA7fOVMHRQ09b8m5cTSv6ZDqqI1ruorX5mJ8qVpboC6lW/+NLc/v6cfXZCK45URyY84GVmFaKjUelRG8V0pF7e8CPpL8Z/QIkXKFvkX7FwCUzZT4rzRV6WTDcNFqOF9Jx8EG8LRtYP3JoPo4PDzQzxr1eRuuFYYFLBAbdtUDSEkZrWn+MjcpzG69N0pYJmPAbjPjwRc2rqrt+6gLcCaMs1ygRKATAt6ZpKqtvv1L/pXBaiKt1Cug1lrlQ3fjqUm5pwUaDKBm3ydZSjgOCUi3um3hPAvbEq4UWr934wLd33hEuCH+TKuRjpA2xyVpwJ4boBOMeyOdopDt1ci2b7/eS8NFYlo1LZQ1nWYkgHpKP+/KVh2OTbGj9mLjxPVyfjqhqqVh9Jnt1uJMYqJamyrwPo26MgdTWHmim8mlNpitCaOc1mhHX6n34d5oZLzNmHh2OcqopLVvu7o7WfddtDM0pnGrex1VMHIY7t6opV/+qhmNGWRxluKuY/8v45rGX3fH2zBaBxZlsQhVV/ba/LEGkW5YP250i3P0+NzVAkNPvDsl3buGh3fIEU8tnVfzsR/HJG8ijGiUfpEGFCGczK36tPqM++ZdzRuAM/0zD7f9HCYkLs/b0EENVzkK43hTqdijQBDb6XoQLXQxNtrT1fc+Q4f6HmyWS7hvLdaqNnTAH8nHrdwNqpIn1j1ipPkukt1YDma8Z9t657fEEuWnS1+QSQ8adbDsU2ki7ncU6NITzNPtyANf+YgZnvhzakB4b4GtFX+T9cY8g0NQ/oLWZcWRLRII6TYbtI65HahehVkhJBP1KWdn2t6duu1HDN749jhiIh3Q3Y1PiBPaxWLoQ+NtyZnHJ1fO4GzGcT5s0O3R6AFMrez8/q37EmFByaqyTHtXrIoMLpTXvAw04fi8Q/xhBw+IiXWLZeIpW7trW5H969XNmXDz+z8Q9lOCXaVHW9bZZ6yZSrC4m6r+9WdgIxXs2iUe3oRyhe+IJnSdrBe5JA/cKh6iXWm/3xtG2+J4EbuDJDsRXHOFeCEhwc22r2DnWh3WosHYunGJePrHiO7Gmmsc7fUhh3vtA+vqOgBJK3kezxnSvr0UPzzHUq58AaAlvzD6NFHxtXNu9ZO6ff4OCe50NHhMNHqR0jO5LnydS4UQT8VFMy1Po3/+nzq4ZFGTxOck3LgOi9YWdAFiLbPkWlm59tPoSVWcw8oMbHPgX2mdOcUO+9kawBADFXWiRQd4YtZW0Zjic1QKKRgL9bNS/2jGTinfw/oRBT2+jDYATkDNAqZr8mpVlpUahc9465iRJ4PZRNqf/86eo4Log4AAAVY3oSWAsDI5NGx/zzu2TZvYDZNw2QfszU5H2ISCojqeBf/it182OIKWORGdWEjnF3Fav2l+R3xmCf2jxHKFiZYMFBaIxo0AS14XLkhvQsg5xhayABmACYgG+gUADckAAAE+QZokbEN//qeOolEnbDpigACCZ8lhBJwzzfuDSwHhDgHplrNhtWjk9AWlQ0DYQG7fpUMJMhy2k5HxxgUByLpaAAADAg5Pe7aploNEWex//YAslEfyhwGzFUzvrh/8lXbnvXH43yzvM2xiXh1OUBy5R8slVuzt3Q7wxKRCnQ9xIoegpINoIvFTjf+s/0ReYEMA90UN923rCh83mCLTce/KJ+qQifOtG13M9pfWBBo7bB9u9CojcZeKzS9jTBwuhQyWnihpPl3fyD2kdrZk8gKLDn1CWqtydtiudN5DvJKFa+sMoOHfru7xIi0W+BxvVwjKHRcAntFSgjiJoYGBAxzj01t/+QV3+1A/nWrmmYeTFwZ0hB5SuxZAhqJN5vy0SPqVkOqIxpuHQuu08D+IJSECyyLpAcgd/Mi1/dQGgBZQAAAAdEGeQniFfwv0K1DYNwA1ySESi7RAsOSB7PAXta291tksNkAPUNGArmLyKoChNrqaHlqlDysIfg4dUER7E2PqATV7aiFug9qnvO6AB5bWX3rTddfwOb2lelTbQBuQ/Al/Fun+5SRI0mUyQWtgRmoMV4Y3qLKBAAAAQAGeYXRCfw3JF25/b+8XHHvZzhbOkJZ9qdj3IAA7eH9W3uDQRwVPv+ccAOH6W8T8akwoWiyxIf+AnuGutDPkEDAAAABWAZ5jakJ/DOHlC9viZIAALqCnwE8o653996fQjggRf6KD+OIaxWqFjPI8GctFu3AwAGm0CtFst1jn2zqOauqXti+YqzI8HUdRzYFByex0TkZNOGuQDKkAAACWQZpoSahBaJlMCG///qeUb3DgBbH0xvZm70sVBt6o0hJQU3o+YMCPL4cKS8l0/01nTWnTkZLNMzwAAAMAAAMAG25Ad21TLI8DzRp2MkfbHCe8lx6u8al7PYOl9A/937Syk8LfZJVwCZBXPAt/aQWDGEQhtnSG3YEl3g1vvjZPWgr3Ll5lRZwarqWjj5xhlKnI8FFvptgRAAAAQ0GehkURLCv/DWA9kCC5wqkae3fnxQE1RhTzn24KuylhjAIN2ggAIb5pnpRMGzHyLya7ke0vATyVCI9mMH8wi678ccEAAAAvAZ6ldEJ/D6MzL6hPzvvET0NC59ViSSABmOZzxA8Nwzb055Nn2ozdnOofX/KKBJ0AAAA/AZ6nakJ/D3lRMldsw6awA2b4vR/0ebcW8SeD/xSIAAkuS2Rm5YQOrJSTaykAw0gLJLe+86Sj1qSMZ28mdAVMAAAATEGarEmoQWyZTAhv//6nlntcFhstw+AMoUAA0melQELlG6AFAL2bN6NivohP7PTG0PzibyT0dWcC7Xhz2lIZMD0Abr1XTaTi8qU444AAAABDQZ7KRRUsK/8Np/sAN6xE2RA1WPwQEtdNpojmkAvjDsNhJi4d5XwAKmrfi4lOHIhYhmwTu/f6Pmr0ebwXkP7/awIKSQAAADoBnul0Qn8PmXyEACuUo59HiBOz1pVrfJVpfZncAiPxsAA367gEXc9w9OLhlXdsP36e7bJZOGqi6Vf8AAAAIAGe62pCfw+It9sAAvQh8lJpkwqEZA5mltXrj3X8VLEfAAAAekGa8EmoQWyZTAhv//6nhAAAAwAltMGSABzPrp2DEQDP7VAvSnxU2VJk0t0V3+QVclTjFZ38bBaNazknZ/CSQjIz0n3YjWauLWn+Jcw6oLJc7IHmZT+6NzaJ/Gd5P393gQNj6jqYVjIh+0pOlTkN3WntMoHN3/22stSRAAAAKkGfDkUVLCv/AAADAB5gHaE0B7vZCmDgS9/NMcrB3sVYrmtvxqPYSA58cQAAABkBny10Qn8AAAMAAgrSd4z9oBcnS5RzLuHhAAAAGQGfL2pCfwAAAwACC7azOXXcBcyAN3FZKqEAAAA3QZs0SahBbJlMCG///qeLa8vaEjxwAQwxubSKotyep7JkvpT5YDKgAANyicJN9vrDeP0x4iQUgAAAACVBn1JFFSwr/wqWJplH/Utz1j4gJJjAAAZHQlzcLaoNtLhqZav/AAAAHAGfcXRCfwupwP+AAA/fc13D6KLWZlhwEWwGlPwAAAAeAZ9zakJ/DIgtIANeqeIV/w4TYnIAAGiM/TZQqCzYAAAAhkGbeEmoQWyZTAhv//6nvpB8Dy+4AWlLNeN50XnavLXdheNNx1M5bEFIHnfHKoxSAg6DEIkaEbX2WVMLMFECfB79GpwmoOCgKsZN5E8826JxVXEyebkprGPnndcDAAADAAAsq029qmWMD5SPZol0AOVXNiAzDjTEkoKqdDQM4c3W1SwZHBqRAAAAK0GflkUVLCv/EVy8WCLa1vFb9wA11LWflf1VABWQzidUOkeGbR3DzirrDlQAAAAZAZ+1dEJ/DGB64EI/0UAAJ1k3gj2mxnkkgQAAADYBn7dqQn8UPI9r9AGTBCEHMFMRpZ9vo8ZKJI7gKbUF3CTpyTy7S2o08ACGVAMbGIv9Rys7WbkAAAC6QZu8SahBbJlMCG///qe+g1rXP/17gAPrafONtEfs+0ctOKgWO1z9pSg2qMR+dEfP7a0ZvD0kSXFSv5KrQwMRUbe8lv3oIBugQyik2JglhVePxaz5bybiFDUnDxbKj5YDgFRtHyiAeCf7daAsitcCR9Mcw5W9G9Q77+ukqqmTxg4MyO8m7Pt89SPSyStAAAADAALD7ASdUywiwvqsekbqIzQdACpSLJ+dmqUZmsP3J5axSeH09EuIVDugAAAAMUGf2kUVLCv/FDqxEDhKtViNnanLNSw3yOcgXABNmhinSuDts+xFE+61jWiL6waH0j8AAAAjAZ/5dEJ/E7zVewWCOMwNflLf9yMvvqIADs9BPTKOG/9FP74AAAAoAZ/7akJ/F3QM7qx6RhNcaI/mGswkAC7fYcrdtolgzLwhbeBOS78ZIQAAAOJBm+BJqEFsmUwIZ//+nu88hGLBDyb9gBJD/gK3/anaSMsnHN7SthbTVj/5TC31ISysl4EWRiP0Nn8BmOI6UyeTMBGOJoC3KxViE9doR6N82Rp1s5gyuMq8tqYjip9pPBtENw9I/TEQO0HZT0a99m+hlAFv0VHCG7QekO2PmNsvIkXyj99+GDHrEKwUE5xv3+xij/q6qVtsu1gAAAMAAKfO0TjjIslT0wzt21TLDuix9gvvJokIFgMp/i8eKQP/tUpZ9w7kGp6bwUcBvz496qWwaXnHN4pKK4EiWFpjR/t9QTXhAAAATUGeHkUVLCv/FBCT+d6oAWy9r/dTgR6b0/mLgABe4HaimUmpePte/ZIaF+vSdji3NnHTe0p06gA3VtHCxr6wUrvTcgAVSBzYhYGEvTggAAAALAGePXRCfxcSt3HP/LdC0CLHcQg8eWwHExlnuzWJ0hpKRMAALWgwgAb+qrNwAAAAOwGeP2pCfxc3KH1iACUylvPcqpmo3zsSHL/I/pnAtvq43UDYYqUKXZiQrjAAG6bZOv0iQ/sPvQu5PgHdAAAAvkGaIkmoQWyZTBRMM//+ntXPLFbkFSSzPxAAmaziu7xZROxzErq6WCwZl8LbxLlRK7qioQ32Cz/hzkUeS7vNn8DD5Ypedn62dcl2yUfeU22FmuEU2PZFF9cjJ647qAAAAwAAAwAtnzxtTsuqdHtSrzyZoUjnweH1/CpK1rsZpcPHU9ocgx9sgCnPe7aplh3kJo0Fe3IeEqv8ZnTo9qUGcy+TMdjbvDyoXh7lmWnS4S9oBEwG3kcxjTyZaBeJI6AAAAA6AZ5BakJ/FtUpAWixZJAB4AjEivsVfjOPPhmBm96Hm2YP4yaOdgAtgV5JdK6aqjhysvadMBH3oYAdMQAAAIpBmkNJ4QpSZTAhn/6e1eO6bpDSL2tygA9teGa7PAf1CTav9mzjHRBukME69HO2bE86J6Z1vmQH3ADAAAADAAt79smipleOdL+OCLFfo7pNNQoSrtqatTuHk/ku+7aplivi47QXmbTkRB9WRu/ZqeeFrZE+wb6iu74QqhrPGAe2Q4AoVjfMGdyg93QAAADeQZplSeEOiZTBTRMN//6oMsm0s3IA25nX8Y+Zxsimy9VaPz/RtFKRHz/zl7kpkRJHoV61PdkIy4Q/6UTiC6ai31vYzO67g29eFPaRNCz4C6B+rGl+LqhdBqMst5kUJH9tdbRUGGD5zAOUJCHODwj4208qNB19ShIKM/liuWgRBUdoAAADAAAPwRQD0r5ngeBvHGk/9rvxg8bZMGv+ybfKsH2BZj1HqVWhO921TLGyfDjeC4e+2ie3pw9/TfiAMCz9zi2th9xF1xbqlvSm60Wd1OfeWn0MZs3wwmSgAKSBAAAAOAGehGpCfxsZTggmku82cXD8RuPCGOXEM836/j4a37e9MRR181MIAZK/GBzOwRP6W9Jh3kytACbhAAAAx0Gah0nhDyZTBTw3//6oMtlupYJAB0rF68gFQO+6jbOOd8DSI9M1+sT5HeDqcgBuAgqnfPYDVih8gbWwUiXTigzlrXfS1YsXlElKn2X53Pgr0Ld0FDUKIZ3+JZMLST2gA/YP2gsdzVyc7AB8EQQxru1xa3yTjVKPA7cdlmZo+xwcywFL/kaIO0gYMpeW/ewzsWh2e6ayzA38oIsj5c/Vd+1vvSKesJ3A5QD5t7+y+TX4LPXKKVf6c//HO9p1UStGyLQBi4b8OmEAAAAvAZ6makJ/Gz3kjsSXr6AD8j7BSrUsb3gjg5reYSKgaBReF5kADH/54M9ia9CwJ2EAAAEoQZqpSeEPJlMFPDf//qgy3Q24wJAFEhbMR/1hPWMS8PyA03lairmrtO7QnMWvdXQnuH2SJfUNTGGlJ0CI1u3G8+tAxVi6iKGXziWbWa6jT/BVifr0Ji/UaEjJl7anP69v4U2eGarEAAADAAADADmFACPrxnh09kFOXxW3EXwJCgApeG5A50PzZOv2Om1NTJy3XTPObqmXjuJ16Hg3syXPR7DS415e+7apljYP2nl3+EIAYQ6YUray4wLTNhKV+RWvkAqlcfFa4XjS9nTNySy8mrZspNIt+DpZbdFb7lcCuCRtcurLs5R38nCqVk+x0vxv349hjlW4YvHGGfSVPEiW29IfHyXsPVzAJO2oLylo/bthzhq1OIfOeHsQX8o+FE+0eP9cttZjxKAAAABZAZ7IakJ/GvGJGG4XTJM5B2SiiUHmwb9oXHMAA9u726fjovuXUgW+x4s3XyiUqBlxhFLqs/Z6mkozkNEAA2jkobFavA8W/TdDoliZpHdru9Nb1pygMjf4ArYAAAH7QZrMSeEPJlMCG//+qEFnyKE3EzwSMp0GnnBPZNT6Rj5Emo/NPxOh0mYF1OuRdJwhQRK4TOObTNe6oa9cNuIqIHKXAQ8eV0Jyrq/2JlTzEOUxRb1qAKiEiCrbgAAAAwALdcTzBYdwHm0Jukkzxo/5K2o7yhnoa6qb1F4+SkWiYxWQevXZ64dfSQ67vMeYKztffTEZZ+OU9oLRwirEM8hA4G2Li0S3rYjGaqY/O90vt7t5x28zKV8KztZI5j992tSqCzjHMjGPzIq53sEr1khfUMeEeMDNrx64mk9jNNVGVKIGUXj51NJDTjFpHtp+QJ+Ckl0mMTtP/6AAb+71e3NFkp0SEhLUvPNr4HZEVfmvvKX+7kl9vCuDMYTFCFKqYxl1mwjQTIQdX8ygLwoWWeZHwPlj+U8luYxPO2aetoNkpdcGMv1gADBIPe5F5cN5KNtqTAkRDZNdLzNBcuVxyUvz6Y9xQAoMImIe5ePNOTz49moOZz+XGAwh3iDmQuxehpcEgTLBmdmFXpW5el7wMjoBEaeyIoxmp5N24Ag3ucVKg0roTOKYoX3v1MLStu2zOG6OBcjXbmPefL8gu7AF04+Tsk4XCHqk2Wz+25INhvsUSHMfY3P0kF9Ncz6MHoOLpFIAQ86RW3i2DKLNJd+L+3DO10/FqmYnwBRnF6InAAAAeEGe6kURPCv/FX8LTRpXC+NkWDdCQzvKY+E+60Os1uBoQghTZUY6zYPwBWwPb9ALTpyk2eTANwkmhnajehhWqcBBp7oW51mRH+KFl53wtwxFBR2kkt99R6rNcpNxHSN6b4wH6McxwqinIk7sV8d57mixjtmvycCygAAAAIYBnwtqQn8bPNU2Sk1wm/I6Uf2Un/fqowbAy0eNfm4Cq9qyGsSYL0dQGJHbPFCplIzrW4zoNJ3ABwc35s528uyzstXMJKF5x8rG3zEmTbSO2dw1DFxmKsK27ULCHWf1vXUQggGHTYUoAaqjL2mqKEEyJ91DKoOlnmWSjo7SHCuZVyu2noANSAAAAYhBmxBJqEFomUwIb//+qEsUxtUSaiACwohlDJKwralXtg/GbhcW4Rpgv77QH0jSgAkRJAAAAwAAJW1Anpfrbpjn0ltOwYSPscKQri5dqPXulu8H+9uRXjNYBqkSiSwiB7GMfUrnL172rGGWIxD75f9wQe+7WpVtHXG3JFA66sDtq+HuZ1527JwMYAgZ0ehfVMc4f1WZSkh0ItdsqIuI12m5rIyrPUaquI4bxcBF+2an2R75tIZ9zHr/DMCvLAw2ZQOCsJzoCvzkP7kuR7Jx3WCwFvynMddS+vbZd3Jdr3WE42V5+dhHFDq0rIT2UcCafDUThguXzwVpsuYsdlKOoDKScJp6lnyxRN7pog2UqPthmBmizMgkWbc9506WDzi6vDyOfOoBSC08nlmDTKKpiSueSBGwaBRpeQdDXykHrmStsvwd4amC3Gh8bn1ULPKRL8knHmQLS6F/alLVM1+2ko/yoHVLWauhIJZ3MObBAgPaTrHJXdBNf5gIVd7s+FA/u69GSYSmlK4xWwAAAM5Bny5FESwr/xU1Zn6pyCD3r2jf5GMsvzaAL889XLyNWRRXO6H4Rk7BlTjQMREvc9R+YxYWKmyoGlXB27DjPKinSiK43m7efOoz0jslyrYBgzq9nUMNeYhnjx/aBf9x13LKTZGTNvgyHpAksRt+YXCPP2EcEGOMdu+x7TIRs7aluYEDswYCc9P+KsvlzJ47AKof11k+x2KyztK5UzDfr/n/ztHtwFmwnvAdpgB0q7m8ElZQGdwb9WLNQBpjJhT4jAJcjjJC4sHuijhmcM3JOQAAAJwBn010Qn8bC2kKJFf0AH5MZGLZLc9ZNCmp2FIzREAPPMIeyeJ/dTRD7/t57OHOh/HCAW8BUAOl96XBY0S2zASzurZBqktcTMs9KIArHr7FTKjgmOXpEKkRUACWdSLaRPD84R9sEGIniozTKZiNDr6q8zjMsF7O0pZsD/UN8jqTwYgeK9FYWZpMCS8Ngh2MyzOMsj2iZFTPojAUJeEAAADeAZ9PakJ/GxmBAyFxBWcMh5O7MSpwYYQDGgufmKk6X43gAfun+I95T+HHLnQuqKmg5njGPkg1HMMpjc6/mxKwpcAu2ad0GnZinwaU13di+NSINmoOzDxsBJl04nJkwHebrfJoNtsw9vEccLdQ+yeQ6d8K5nY85i8NeKRO+15o2adzcra/HAuh+CaYmaiwPtRha88zLToRbc96nnFdopw52rjiDHnBci/tEENt+cFMh9Vo6ivoDsya8qzjMkM6olvE0t4KC6grI3OhmDbQsG9kO9NBuWXm0fUVo+Z+XQb0AAABWUGbU0moQWyZTAhv//6oULZUMSVxyAClpkLxgfQnU92DsDz+MQXSqPwnZpvxvzcXHvFwhPHA38hfTrPX8kBrEkibtaUPdwQoOCuBJ4u9vUlmJrNqKh3dpvFZkQXPKlOlUQ3sCxF1u9FWqrxz29cIMJhgOaCjiKhVZA0y/yjUNqYyERpAQM35NQmbNiYzo5RSvSl24dAFsmtzdIHwtC++cl5XyrPKyv0hD5yBI1ZnIFwh50uzi2rIa45tqOnXFi953a//MXWPRizSg1hAzUEc8gNdpLI7rSSSHeJnqjH1fi6GCdL4cp+EcYZVkY84lmrpu86E0S6uk1id4cXd4GMKgPnRTZiUJdCiDmNNF4zXhf9OT48ANk7PMVNtqOcApB4d86nD/q1Jh6bEMhdZNR0eZaaGymt9zD6v1t4JF+uXX6vxbfWxRSczz+vhjdSXLkQYRETknzGIk2AFlAAAAM9Bn3FFFSwr/xcKv8IoE+ICRG2Lh5ScTJ3ZtDZT4G5ORZhAAALiy2YqquN+jr3CFCr/erDNXtz4F1oQd/SPDR2PdhVPScvERQTgkBvGF6FMr18kUtzHG1nN8Ti/4usXbLv5DPo6BvqucwB5fyQC+ArWd4rQVfvNgawXiZY+vAUZXp0nbG8NQDSaLd2i+xpPWy3EhavtTa8INqdGJpyeW4WrptdyME4+s/dCuBUcI+8mdh+ECIQaSbr23gObmvBiDnotIjCnpPvmVIHjgoNYH+EAAADEAZ+SakJ/GzFP4gPWhk8zDCKMQdOQH3EpOkxizx8AEx5psA8xZAuX0viqRBbMpd6z090Qbt8Rc87i/SPw1MoQgfYOb49dJy0fOLDOvMZo9uCgRP2sxn09e0OtIU72386art0FPLRydmctRT9Lli3HYH1JanqtdCG6mgtjRkPYvHsWrXxJWgysE0cT/EoRug2u9T7NEHcC90PDON36v74bQ8Zw8gelYhPO+XJhENlMFnLmp1Ap4gqfRLybXRR6xw0mSEAVcAAAAVRBm5dJqEFsmUwIZ//+nhANNr1KiW4BR3zm4F6fA/eZ38b0LZENVkw0dhcTAW2JHlgv55T5fgJptonyOraHAY4XRguRhWXnhkxY2/9vxQCXXV7NljBBUhdko9UZ+pE0EPJhEFwBoC7t1O0l/l+82XBU3A+zbXVTk9f26EyJ+aJlXuIJFax9i5ktLBsNJSDorDvDxSnM2AOJ/vXdBTuzbXUijjG8YnDx6z1bA5zS3GDtFITX7QEbiUyB4gef2SbCxR5QPs5pQfpInOstiMo7oM0zLlmmkfz4xjtVMVo8hmnz6YIPxDuNaAUDs20qUzhCaAxg/5Brx9BmdHG5CrpF6w51tbQQJKaoLafyj16I9kZ6P/AREEoq01bCFMhbBAGTdGFlnb7mfzmsysN0gNp3C9f5oJJRnEb4ymjLKt4XA5wIfz9maiGgvpbDpFlo09ywCJtgyA7oAAAAykGftUUVLCv/AcZpey6tKysg9wwTs5bCIANnu3rtdxVhMRCuhqfugGRPJ7KTX58jJR7N1PDFHOJo35nJkGviuo82zYOENXlnumqoM9U7YDbFbBaWIzsSWKfBzmKITYfu+BAfxLPiFFsxW75A9z1MwdE15GIJ9uHHF4glgEOH0EkjtqrNmrMCTSF5qENFNn21X/eUCEV1hbldJhnbQqtt8uZDtdgVVWASeQnaU90etgT8r8wtEdyly//3jlP1LdPYmhMZjFlI5nBwW0EAAAC4AZ/UdEJ/AkjR0Yw/s+s4bJZHYROP5b9pOUv0c7PjmE1gANpQv6T5SCNYDGizVNJfmViSso0GJvXJxG6wAfJPG7lutc/X6V1Wj8WRHF2cK4jk3oTtBZhUIKajhviC3mor3hI0lX1PWEmD+57BRgMEzSbGCuiU01RlZSKAZ3JWZJXnMhkTDeAAxtPqcLggJRam84W3/xdq7qBEt8Z0ttWd+2w/t7zHwJW8+H8tSQK/HYf64/JnN/CDgAAAALsBn9ZqQn8CSWnb5sMI8deBh85o67ZCBxeEAEtM+xohSN+d2AcNjx9+kBZpOLNaXuuLg5w/Fgwl9SmyRLxDStOh+e3DH4/+znHfzS8Q/c5mFLLn7gfWfskCTSh7nkYSJ6IbQFT0ByX3Id1vQ/xXpxRXv5zyM+PK7kvuQqdnkUPn+JeAguRQqCjOy0J8KohU7MveJ91EI/YV/CbuibsvDUMEESyDZZAcdUgeWpr8v0G+yCEnjrNfI9XhgAPnAAABZEGb20moQWyZTAhf//6MsA2ATVWc8gAvjuTNMBfS/ZnbQ4wrfYEZZzuZ7bP7RVcPpr2ZxYK40e/6of+fWa8HTWZWDAduu/XyQCs96eI4qNjv0axqFs09WJmqu75iXHfbofbUYrI1+Z/4ub6XRQNnfptPH7ah/03HtV9kx+1b48PdojVC0skWwrDai8ftbg3xxzfbg5+ehgNAxO2zX4ZskxgAtTH2irZ6s2UHufoyonz0/ii8SwJt4rk8fstHHO9NpNZxvkgJoDURvM2ALabtakP9L9nLl8SOxFQUkGlsnsagEn64hin2vHg/xtNcReG1t1tywido614cKm0ZgVuViBHOas+rWZPEDr4vPmhEdEnr+hPsGYOOXWKWCPH8So5ixEnS1NjdYFim9KdaX4cB5lVFT0PKG+CCGj3nCzn2J4osRIUli3hy5Okirlza35yO7YePyA9ITMlLzqy9aeVROTRKAO6BAAAA6kGf+UUVLCv/AcZUXuVdl36QX8Mnk11Xuk8qABOsVsZDxfw5aZSVkEtlWtgRwFthQRBru0vwVGr+iRaJjMSwFAVXhlpW04ELaYx7Rx9RYdnJPGg+eztXpii17wvfLhcZjs+B5dJImPZbsfRVlg7lhLOmtON4gh0jqXn6o7mJqeJ3bXSkFiQyCH8+fB89YSwob3uu+kGOBbRMQEIn3+n9dZuq+gVP063wZvLgiUaWclBeNBgbVMWO9Ug7t7atpiiXyR9BTV9OZ2tJRZoJZfL5pwZKe8AQ6044SkHddY+ACu39LGu6d3JGp6CDgAAAAPABnhh0Qn8CScMZvNnktNGRra+gJlV6P8286KlFVgMuXtBgBbxnYuxDUYA1H7arUmfEEtanRgusw2arpuc5uoSpbTjbtEaBccs66v/+u6E/vLdq+X9BIZJkNSw67vwMiOzCrrlMWvvQfk+MAWhpW1pxn8f6PfwMw7hquOaWCpejmORh0J2OneY9LhsHYEwr+5/M9q6eh6MbEf60MYg7Jle8HQHdXGKOyKJZi79c4AOEACGw3sPV+1erjYLMQotwfLsKF4xsHsKOIK0QhwPIdQmh5/mT7i8IyF1YlmYoPgLvBEpVrHs1UuCBg7lEECt0GfEAAADHAZ4aakJ/AkmkPa8CpN5hN9noADUVI9W0Ck6abTcCvbm30bEYZEiZCJwYPkBi2EomTWGkbg9NjSyo3Wd+4qFJlLzd2aWwojlj/1WpyZyjHWFBGiAnJmcTFf3itr6dnbEu0qpcc+9bNCPLjtoIxSK/3NX+DjRnaO9nfRehfMxJVTvITn/yXgBiwzpZxOQ8EJOM2bevzO0a+Qu7oRU1SEIQBCNHy3X7IxoxX6kWvCzW61vIfiTCwy8sJ0wBewiF6cQZEmbjUpgBBwAAAUxBmh9JqEFsmUwIV//+OEAxlUeTigJd5YgAHupMZYBUTwspE4FlWR0V+0soHW1roBdb6hOvCmuSBpBao2z1TgU+ohxPi8EMyGzgeo2n5IhagocMo6m281JGoYioqgTnmyXTZinKEUr02vqkmkR80jJBxNPy3GhYje6IabIguIrOgDkOpXAlqC2nnMwv6lyAWuZyaycSICFYJhtpe49SG3pm43rwcvNgXa578lbBZgNlXqvI4kayWlJsTDWUUoQnAlOl1LimvWSpaYxPaRpJG1lIkjAICWaKneMkG2ZTa5h000JcUglj81afyXSFpiFkevZgq9Xe/4knrxOXXwYfzTZ73PR3DZs9kWAVwPfjV2PfnDgpHgDn1dQxdfgMMO5+IOhE85bNR0nnowcjkLNGdS2y3cHSfkqBzeGFgyu1VR0n8gPbZ4L1pIZGs6gCDwAAAOtBnj1FFSwr/wHGiX73FOzljSP14KRPfXgdh19wck/owBxbLxCPhJVNUdjU5QAlPkHJeIbA+TvwBeCgCBMDMcZrd7JjWNVd8sZqwvYvwn+/PAnOi2Pu90BIPyZ4HN8TbdDD9R8F8jnop9ESZRSKbKEzPWO4PDx3ycr+YwQlFhF2Vq8bjczFmscUrql2QP58EK8I+f0/bXMvbVTLAp4DUzZLfV439BI8E6Kw3tosfpvxaFAuV6NCmYuqrpW0uMqK68hCyHP90ZlEDmiWdaoy6Aq0J90nV8Xr2IujWPszvWNroBz+tjWJOT5R5D8hAAAA1wGeXHRCfwJJzLPf0eY1xzC0aSFK9bJYbqTP3fTlcxCK08hlidoHPfx1aOYN9wLPWEgBuZy/Ky/a0/Rm5mYAl79R9IShgqw/GUZfC/CPKs0hYQUj3ortMBzV//e7SMEzd2CBamfGz9DcHmOlxpJQwyBJxY4XML0LcCR7c89da58HZhEZLUGeaHeTWZVJ0GzrOOX5U1Y6qE4pfh8yXNoZ1Ajgd26ipBzOTu6waHjjW2JCG2GsQJqf4lfMhCw7pThhxEgwOmPH3pBp5EDmKs/AWDnKsoO+2Al4AAAAuAGeXmpCfwJI6xeKoxNAQIARgUTnsp7Hrs/+U24iyIvLX4pD+ihHgiDY+6bKAFSc8oI7dVEMfjEmIpmWuxHm9pDp+9pfM+06KlAgVs/I33VioFgUpildkhE8KLkQZ13oCz06Lqdyub+4kn5h9mmy5Dou2iysKg8XRvPpKnKPP++PrONBAVIWgiwcWe3hfdKTU3GCBp8co9anu6NzbJegRsUYip74q2LyHKKmUS54JP3J5Sg4PndoR8AAAAFlQZpCSahBbJlMCG///qeEA6UJ5oK6lwLE9QBQHLtcLwgqYY8I7J6mHz/RkAJp5lXM6s65CqcTyRWL8wcYnOyIpzGZwKmCYwOy7IEsZlEZfj9LJ0uLA10x00WDpmolzuU30/9/MmwfLWn+tt7vapDBfEacDyMIauZly/XSxFS1nOlpoSqbc0M234VwS8emfs+DrwgZKgN3uYMklm+jAMWoUGLFADCPDydzKxwLyVDnfPHDUXWegrSdv5wZo8J9fUIxBrOXLYUrhRQb/wmYIPrl+SMImz3KcaAvCYjqm28hjmXPBcINqtIhrxVQVIwoxXxY60l9hJUlsHLIttyskohChlDXBet/37WB/E+k7COtE9HfwqthAyYDYhaXLzHbdqL+pz3U23kX2nBrR9GjRlZi5LFijdVkbU0Isxi/Djg5OfCmnDcTBidFXJlUxi5LHTtsFbFRaDDzw9WabCRCQRB9KBd8wAi5AAAA50GeYEUVLCv/AcJkqg4T1kU79wQkCk9wKJF+hoANx9vVehbwPSjKB5jNTDi8Il8Matm3ed7JUsxR5OXKOHxhAM/7sa9dTUmkDq7lm0DoP61dlh2Xs4DCGyhg8Z7+G+p4NOYCIeS5aGy4DJY3GB2ou3FECc5x+FfzQ8DjLvlHKo8UHy5jEsGP6D6p5kL+W6ytS9937dXQ44d7Bp2XlcLZTAPpdrdp1RiywZZNdPfKHD8MyAT10c3gYgQJtG0lZuQiCxwuzvQyj+m13yvhN1/kblC8Hn2MEm5LQzWTUpw7/kxLzZ7GDKhRQAAAAMgBnoFqQn8CQpvkNGn1ULZkArifOYSQmKkcYhIY0Ce1NiiBjIiyNZjhABxZxSw/ecmAn1wpYP19u3UwbUaVFQ115e4PTqbGYR89M+UpGwv1JTCP0p/FhCXCqxEJoavABjytAHaf1wS0+XraGKxzrelKKJg4jdMAMLe0eB21BuaojPdjP3got3unY/05XAhOvVoU4KoqW24De+l4IEQYg9c+lcrfnSmqQH0+zsALcqKgw1OSW+qu+axRX+ltI/nqQ2FRMTUK82gD0wAAAW5BmoVJqEFsmUwIb//+p4QA1x65Ay+GPUALBWfXDt/RWDmmo9yL+vBGuS9ymTsGA9PX7wOfeQfUd9k+iOBYf2he0SmmgoW9niS4XydPq3tGe8FtSug0OPDoPgPVwdkz+pAoWRCQPQcl31rgXawOMjZssdsRZsMoq2P8tCWRdhcaBmac7vuuBckAqU54FcaGf8G6Tj2I4JjNeK9grO4zrx0SNPtPzFb7l+RhEfRni+0BNRBYAgeL6Y4MrtW2pjODeau0dDXjd6/dW/Q+5tlLxFjeJweclpYlKTjNg4E5NISNclrn+SLqSw0yh1YE2DSXzfCFVaCeVR3z4tQbWXOq1+wYg0g3CgtHUUDULGkqE9tM/xMYHCVaDcaUpGOrCaCLLEmrkgcu/AX4bYnV/CpaY5yTlsYe5/1aAHU32Fh0xGpabsmbV6MEHk7AI1AyjS7lLKOkqV0cR1Q9ZiyC0vC2kIP4DYWkiiGPzcw/JV4ABBwAAADXQZ6jRRUsK/8AsOLQnkPvZeQIAD9n/mNAropVysSMxyjsMWH3gWfX/pUdMnQbnbTfhUsL4SUlQsvbHrixfsH5YN+argpbmC/T6f9bkliWVNobdnvSFR81N0v4eccEM86dgJvZRq8chGsiOy3SYz5EVnkt7NotPOOdfN8bv7HDOj27Y2/uSzJQcsM0WVkUATlULxxlhzg0xOmm2TlMf9rjnUDvi4+W+ezEWyNipi/o9baU3hSeaw65mnIFb1MOkFQhCLpPwZHJsj19/wF9c59kHXynnCAARcEAAACgAZ7EakJ/AkKb5DgMOp3j+M5du45wdJVgw3G0mWwXn8TW7QNfg+HnG919lQAqwfs1gKlpqf2YAN7EBMMrPLdc288tCABnBAaUceCt7uI8TWMWy775gZieSZk6CWj8eyVsa+5B1/cgezB52FNBRJ7WUrnJjKDudaSLhhMD1T9TBkzpo1dOoBDr2sSRzEcsTz0/AlncOafh4kF63awR59AEvQAAAWFBmslJqEFsmUwIb//+p4QDX03tPzu90Gc5AFZCkVfQkBWzde891aGIL5dgJhP9P8edMXPdSCw6Awtgp9qlrGEYkrDLtea3BlYAg0W74NlkVBjHw9mCIFcL+4CjC+LYeJ5ubUvm0ZEvhGh378irejcMw/hZNK9ghAQMxeGeq8R7W1/Ac1Pl6q+t/X107GKWaJkAUGfjN1isCMn6etlhmetCQ+1Bt7U6dksHFrdByWw8XnKgPfc1ykPBYz+soktB5V9n17WksNhx98Ex+rdI0g+2M3hTPmuvE+WHZlt1Kzjpaol6KIoWNoKMizCdDxWvKHQTtA3r1B77vJQ3jhKMar9VaabEaLn8Fr5QshBp9tCw8+BTQ3b5WwiVYFQMsOwASEpu2QmdmVQkBatRfyXHM/QFMghvYpJGBnpSE+5F/R/a/AbM0FnzqSWRktuvm61M52qShMxFO9ANsyiAGVMiocAGDQAAAMRBnudFFSwr/wHBUc7P0pWhj64RXmY1nLajIyi58gm0u6vKJq2AF0/Zr5JPDUE+onT/fKNa9WX3T0hyHT/Itb5k85IFGaxT+Y98b1AyXDcmXqSzip6inIVXVjdF591MHrNzhef6nZnFwEuh9nkajWgEJM3LujvGfrFloUxiVE1npM2yz/MWuSIORv/sFnX1SUvAR1ygUvwtyegYK/tCcKQDAC9EElYndjAwOpCh8mmzOgyLlmaYGP7aMPmw5f5x9u/CFkKDAAAAugGfBnRCfwJI1KGBWWLwQQZyrZRRguIkrmE/TvABNGQ5WE83wQxEZvPMHZI29YDiGs/uDEmCpiUPxpDRWZjLuC7fkyJm0NBCqYmB4tb/S5e9oks5aoEPkZVrNoAe5P3bFN2mqMmE0EXSQa2/2oU4c5+BNYW83hfpgFIHUxUS570ZbJM5jQ2CED0N8SR0ykCwgRRByqvjoDUxI7Zwr/zccs1qIqFGprzGx6JirJwUehtF2qDtDWsxGNQRcAAAAOwBnwhqQn8CSbgN6KZIAZUttS37ncRJ/MGzHf9TqwxAC10+/qnt7nVjU/dZw8nTSBZxz2+cCEiSlclMEvFOhgZ7NZpqO8GUN8sYs7Rav7O2hXlLqq0LLF639ZpU6UgtAqPCFBBXtFY6U7Md8dE1ZxFB4LdLMk8PDRP+WJ64JrXBTvTpSo7/MygtT0LonfDhaScSFP9PekBldmUYKGqRoQQGn5ZpuxNBJk3c03hTpnpOZVDStyhEACakHv9hsU7lGARFgHmrTBPeWRwkO4qhLKqStegCGtDjiIFCDhbp3eid85XCCYKxoAp+bRBlQAAAARxBmw1JqEFsmUwIb//+p4QA1xOzg2OxwBE0ds4OrO1SGmCz3Ve5G3b7LfuYhmxqgMgcybu04bearp0bLbGL7+ILb04G3sLmZuamtgc7WYpwtrWdIzETej4OQjeMCfu0hWMo1CNZzBLFaTDkhwYihaPdm1BshHuHgr2PcqjwnyvhLxkuOst8bmEH+brgK09kHlsDcSNxN6NUh5aujTE6mI6lQtH6+28lNS17YlZ9/yLZsOgRIICYCVAuzVFECAxvuhHNyfStVJRQDPM9thbUFMa9WuPzmv5bAF6e4NO4Io45dVfZR3uzVe7PnX2swv3BIkN2sb/ru8JgqfTAZorRhIvRVy3iTnmy8nJwN5zxmL3+xH+1pT2uvk40cABvwQAAAOdBnytFFSwr/wHGr4voQ49cuRAl8w/fv9YXlMwLzBWTPH3gzfe/2qACduboPhE2fjKN3CJva7tdL4f3vS/kgvKClM4ZOA45YNTZluQyBfesdO7+SlKNWcrdduB9bCx+zoSUw4bFwdRKXVY/PpzQtCNhB6S31xf/G+WKw+ZV1w8zDjXSeN2Ujgwu1YB7Jc+8Q9Vg4B1zzIhwTN2Zh89TTHZuiPs6swX1gm6PK9XZtQ/EyslRwVkS/Adl8iriN5r3wswfA3GKPP0s57Y9p3Was1aTWj1iYkr6MiR0nc6wxAMZ/qILKSAAyoAAAADlAZ9KdEJ/AkjWpkxZ9URiG1IAFtk+zVIp8pWpZnI+/DO9J7t8VYrpkumsnki2jGHWZpoLTWFp8089BlqkTxQ3hVn5uMqopgh0kfsqmb7vCcuNX/BBK1QoeHlwKkSLhbn7JiZzb9EhMy6fynHnpS5Gs009Y1zqxUDy1Gfk/A2j1YbI8PNVda4LdhWre3ksNWDywNfEG3tcPn0w6Q1JcazK7GbVcpZ9wwy5CwPFqun6tyjlIONDYsxpafSUyxl5/9StqFFK1g8d8ANAfKPrixz6gRL90mjFIwIORohrrA/VyuB8L2DAgAAAAM8Bn0xqQn8CSbgN8INLeYpbMr4Xc24dy1m2oEAE4ih6PUvzZywiE+BYeVRB4iPdUrZPP9/vc+D06w6Dz+AIyH/MUWlaUYnJGFhAyoNZ7TmP07hL2yZ1clQ1P6hOd9Wprm/yDrGAkh5Lloo53m67nRPhsKGCUNI4zGbMjwEax2qWIe3VM5O24dtE1TovYYbNmyuq1V9DCsiCBQ8JuK4/NTivZIZSJDbfkvrwzNoE4hbR0ndtUs4xpaYK9t2oUbajC4v1nwDV460MPWukbwjAOOEAAAEzQZtRSahBbJlMCG///qeEANzwnlrVZHEL6Lsnu2Iray/F7xLuyH0AN8KzktF3AgjxjjtFZYXQMUyxKlxMP2VcH/gHZd7V1P/uxK9ixE8VB0fo6JA0GXjJPdRW1EG6/gzakg7cIBoFZcfVqjUjGMpecNQilEsKbJ2D5vM2nD6cBfkhOP9HIQ5KuarF0aqsroKhsngOZeZNz/spaeqEpXp2G23PuHChlIzOlDmNzdikpZb9Sq1io714EPKtI/QF4fFrzwTQ81h7DZZ/51nfLtALPMXMj/D3R7mF6PyA0b65iox+Tq7TyDZb2MeBJgtaMCSC5Cg9rr6awOyAawg9uMMbTzlul+I6T8HGa0BioAxJ1HdzMOPGXrovPfG3PdxQfU16ivTkwPK8LodAuPEqXU8qlgAj4QAAAMhBn29FFSwr/wHGr0qiwh+yLH+3xaWXrGHzKADckts8yIoz2e+8ZzF/GKAqYkbvVtox9wk1OUWNQQiCep3Lvwt/uXcU3VLPDXRhGFUMU2WgT9LZuiLLh/AldRAL3KCsN0txRgJFTvcKm4buwN2Y2G0yW8cSgfeMWVpClucvAK+doTd/ptH7aUN+RPX+YahbnzSYNyLBLFHrOz6XL+60JkGLTTWZ2WNHBV/lg88RyS8f8TvJsSbpJufRowFgND1V3nr7moKKwaABJwAAAM4Bn450Qn8CSNSfyABCd5CRoO2XRZGftExF2bT+Ni642cKAE7VTWfBw1yjrq0A2FTdPZXZqvjEE7E/dF6Gc51/dg2t5+S3OxUqlnaClEfnj0CdlOgEa4femNtbJsCYK7MaQTI372IsRq8bkO9F6e+2vrCql1bx7wkrF8bMMHZ2KVY3ui6KKugweozCIqRr3zBmDjkb9hCfttF1Bywkg+aY2L88QAFdsGXeyg7gNtIEWbID4EvbZo1Ud/NcsDtzDGyhB9iqNUdcRxn0w6x2B8wAAAQABn5BqQn8CSbgJUMIkMTHGYXAh6BBflcLe/ioAJnApKrDyAQh8eEroX6XmsISbHLg9XX72qqp4GYqCe4Z8DmrykcxeTcX0hR4WKAu/BtVAq5PbtNWoDIVsD46Nyr2QDtBlaIaTlc+fHHPymmh4zVX2DXi7Mr7nqNU/LcmitmTBJqbLcUIUpbOG3dyPlFJaQZCD9qqRYu+A0Uq0IlIeqbf9qzUkOLEODW1Dt2ypgo+cvObbUduJu4TAJqk6E8ZrtMJxbgpTIKKtfyl58v1NwNI5y+acl81X+CQkv3uSpkZ4ea2bbx0oOdJe6IdPiv+PDWYBeJgRNrja+ujk9xx/0AFTAAABLUGblUmoQWyZTAhn//6eEANHbDqFWkAVIBakJODrUBYTV/Tw2NAXvr7E8rJUkdLu9v3krlUgl4GSQqM5nWhzYG0E/Ku0MVLnYSqegHdtCLKC+mKMI+WIfbV+ijsrmPcWuF+KYBKL5b/nEtaacGucnMXRamfcPUXleH8HpMdbNRTMSLNEmA+BwiAzke54/VCBFAP0uBFgaZ7DWV1iVzP9vKsc0LJHjDwEE3b484UyEJ68OEGapgc3e5MHFKxrlbaiYDXJjUIwx4U5aFIxK7yLiDV7fLUgMP8sLqcAK4w9gdNUE9qjLx7KfBnPhzUxes9iD66RqJZCwkXotks1f19MVfI8UKKt1nopALgH/qyvccSADXZgPbAB7J5pu7hwInxi8kXORWwGogWUzmuACgkAAAC6QZ+zRRUsK/8Bxq9Kp2PEFxwQxtXpnmOZ7RTOXSDwLe2QAhTy2tpYg7t0vL/03a9yj6H9Vc8QAi0HBu9iU6ZSLDtiltDHzzB5fJmDRf3Je/zVLbwarUIRW8NJSkOE0VGvFLQzyhIHaQghXA/ICqIavXrwCNALJXTKOuIwRjNv6o3Vz44H/0Y3BetDAgNDDnkwIORnb49FsuCCeEZI7RprRzhQ41ecqjEKcRvVmI4U1vdverbueH9gYAEHAAAA4wGf0nRCfwJI1JyK5qCdQ4RZMbHOILMQiTMG2Kd6z1ZzO3gAWifOnX1b0LmD8vfmRPRoKlR09h7ElyJ3bWTaaIa8xxWwcsIjCTq5jPfksxex8FxMf26Sh+GULeKVyY9j/67u7LOXjMuZdvgLIjo+O1CsH2M25d1dtTnoX37IkQ0CZTye2C/M/KrJhPtEVA4rnn1qFEC++AzpYdX/NsRpq4cveWvCYf5gRhpyXLDANO+R8TwVtTf9IzWEVVa110u3vK8CM7udnLzJwdWAVPSTZCe68TDb1ZI3yf1rZIuwEYDFvgJWAAAAmwGf1GpCfwJJuAoTbxYoYFfjYzRaDgAuVvncR0rYByJ2oeFsnt/Qkn/DDIYwfzIjrM5oBbgnAIwIS7NkogfzP5AwgXtAMuDNWDidS9bWQNdVPzBhB0TcHP9qItFnn/ZWKEMQZbXDRcuYslQOzz6QAws/rni8z0cd5tzDWgcJJUFp480NBr/65KRJJv+5mSYHUqC40HkW04flWQK3AAABOkGb2UmoQWyZTAhf//6MsANUVisR/ABw/wGEVA7WiZi4TSZ8fe4x0CnZPEfqffrHd8BhVZgkxZjhqaskeA/vz9Yz7U+G7uzT16fja2dNhz2AqaaTEg5TPvKkSnmcD+cEH9BjGEZh0gD/NcwwV6xNMhBF0SeFV9Ve6MXlb6VNqcdmAJdcH/6PBZm5MEpsjZxc7woyZ0rOs1RtSkPjpsMPBedbAN7u6AEXjdYlEdVWWxwWQqqhdJIWKxtwxM0iXBICbrUHywtufs6WblGOe1xY+dye0odZJPGrKjQReusHwSw0Cx+rOCmJ9sqtxF0MxpI8OJr7URBBRX3FKfSsbDMKP9m0jtNZB2GcAc25eKMGgsrEwhcZzW7TpvK+mZOs4FysOSPrxZCZTedlQFuO9Xs19gji2QQhrcgHAIOAAAAAukGf90UVLCv/AcavSq6GNHlysZCw1HNkVO8AG9G+smOFzSKhJ1gSAAsRh9mpqMZC3onvxA9ovX6QRV2jkpN83XWQqoGQXSlSMqDVttCW5S/FAPMHSTmJXmlD+1WA/1vSXbVQ6ouh5E3N/+vlvPeKWcSPU8KQRp4tGCoz/Zt8M2QhdLh0EUgp8vlkoaQvh31K7S4qi7y6uc+7ulwceS7T/nxoiD/Ay/NNuzbRy0LtcPTfYRwjCSIxduuB8wAAAM8BnhZ0Qn8CSNSdas0G+sT+v7ABNSoi61rc4mlI/ueRAhwEc7sqCwLeyEUdCBz6dQKmNTh88gokZk1WFwI315iVJKGds0fqlNfpXuON6znPkj109DPMJQNpJ2pT3Ga9ftSeZYAld/eirF0FVuOvN3iyCyqYSr9+PuIE1SwdlyS4yu4a8a2a4yVS9zJk9KGNhNPwDpX+9dPuDlsyCfkB5FuhamnquFLURIwJkRjz7SvibnqnhU6qMKxY2JOnJ2feoKnuVUo6OltYNbvehAgmCbkAAADOAZ4YakJ/Akm4ChNu8QSNeb4oELWNgAJby2fb5GnkAKl8xaJqQL1QjaWW/CrtxXLZyFITyuXrBa7FDIbu01G322u+HVSFiJ5U3y3PhkW8HgC26RHDyKKUcNjuQjq36T2AsJkvCRblwXhLQ/cJ5oegisAXmdrQtyK6cXL8x3LxphqhpSU1CF8Kheed6lnCbU8DfPm8VzU3k+9UeED5Bi/862yn9zakw4G3zVDBKo5QAKNHWcS+oewnPw7tYIBkYvlYsLkoMVA2ZLcDzqUA1IAAAAEPQZodSahBbJlMCG///qeEANa9By8yAKjIAyzNou3fLRkLQZ9Z3PFog1EKrEKFzqig+AGL6todurtFqdSr/Ls+366hxW7Dr0sSzwtX3SUF3iUk7eRP8+NW9uNMIofhDw3RDLmOQkP9HzxE9uuj1vgP/KUvdUss/mPFpHWct91KfcdX3V//466X+B8BtWQhO77f0sOtgkwuGcqWWlXBpFZBtitPMi/jjzz0AmY7eWbd6MEZ8YHy4QViP1Gen0sDQM6RPzqm3qJsPeqn7cc6QKcfUzRx+gq8Un++t0xzjIiImi6lZvMwqVFMrxfDFkbZ8Zo5mJPjwwVu+7sKAtg4r/uh1z8qbWm0t6T4jbiRQKAGVQAAALhBnjtFFSwr/wHGr0qrlJNeAvHxSR2ciADjpBHtgHN+jCM9T+pJ0H18EPhemRVaMExRyiRXrYwwulNs68vKdnUiIPMbchOvCCvZvjrVPdMxeyXCxoKjd8P97+GNJXekuWuV048SqnL47g9aiVzfpP709ED4OKEa85DS3FRODLFMNFW8WWJtfICtsSC+FjoEHNY9a2cWWmm4+AzcDDeS5dw97BD1nFLyV01uNpmDMU3sNp2NwAZtTAFlAAAA1gGeWnRCfwJI1J0F3maSjgANo4sIUV3CACcc10wOLJ8QX4uYxoSPsR1qTBWE1OvPIKgpZ4PugESUYEJG+CZ4r2oTMbhsNpTMWRXGITvjnZ6wBmvIvE68UekuBphgG34gb+yhQ9UMWfkzqFjq5ZSEcFzBtN2v8vn9yTEQS2RwKXYCGbVvFRlacFhYjPloTPYpuPbvaw3oHpnPBW0ogSNojgpXcoo0jULQw0y8aFzKDApZLwLUHNpc7L77wVx2jMGafPds861tIjg8gmFbvIxDtFcYZ9Gg+YEAAADkAZ5cakJ/Akm4CfWkX2tNsNgNW0gBJ7FBUeveb5/3vW6Vb0QxQYzIQwQw/KdVMO4TSzep0dP4a4i/bOSs2yI1p36F53bEj3AHiVoiM+S7Zoc+LnWovI8LumgZpn6NOd5JhW+acRJPjvBrKyIE8asWd91o49YLeWFceVZifi43u9phIYD/oEJaPOeswvLlSPOFFsivoNeyukDxrzsPCjHCPMrnNpCpGR6sHxhB0LOv/6J5G7/Bb5M7u2d8DSXDu53C9UNui7SC4PWF0lUzFomPNFJWtF1kg/2qCbVo5n1SwmUS3ocdAAABO0GaQUmoQWyZTAhv//6nhADW18RCKqmOIISZTrzjGqnhe7IAbjssPy51e5FlSMy1vEEgszdZmRR6TOlq54Po5t4kaUurDvNLWlMNJiGB4wpzAUTSe88qFm3I1tG14a1LKzR2d8syCzqm7mSVzOVeoZbZZ5tmRDQg0klXUHOrJK2MWlcg78XTOYTNIaIYn8Dm6+zzvQw4kHYqBQYg0zdW5EMrUM2LbjDOLaa9VoAw092KboihHuaG7WoE93ul54lRtoRRAdOhpqcXAJUbJPqQbWousiX4iD1zWJ4402LzqFxDJmpQaI99dzg15dtUAQZF4OG11DtzJ8IjJwwv8XGbKlYJdkQ/9ezmxDb6xvu/tqDRVQrSUJ0cE5aPZZ4zOFarQWMwyUQXgfJdal7oir8cJxA2aUkDX5FCLogCRgAAAOtBnn9FFSwr/wHGr0qrlJM3Q1h6KhBYQgB76TmHa2qoX3Vq5nlT6VBmNBeMrzgUAc3XWyWWDkgLLxJQf61XDt+ck4rtpFY77bgOS9JGAUqNDE2lC/GP9nvGFUC/hThSHh+9qeYZ8ZZFES6z+iUPWO61GDapRTmPR+U/mT2mpMnJKyC944C06oxjmEdhg86p2l3lrFpUwRYPcxUA6/B4Ng+BcAK7hEhiBG0qU0ntykZoiMnV3LjABJAWmK1QvfUnB9oP3H+suVWuJnX3ksHq9oQjUYu8Nb8LKBm4lzN0DFzB344zABWCMO7k5gM+AAAAuAGennRCfwJI1J0FDOv5wkiFVdRKwACVBOzqNPkJlYn4Lxm66PSXK6VyfSdix3FImYVYQEGvnBw0lK+nXheKs7GK/76Z+z6h+mvyqf2tpCBA19EuIAYCCMgg99bImnjyuEtlkkPwKIMqzM0FjLsNADJ2poRw0xtmFbJ7fBxfL0fzanCJVCxn0C+ebCESmB670MFhI6skSls4rrbJDBE9kBjyssUQbsz6x04y+XMBcZcTjb7nzUChQS8AAADWAZ6AakJ/Akm4CfWk0fo5+AtbUVWYmU0gA9nu+ZR30OMqfxnt0Y7wuz+Umu6PASEeIVIcLHCwkhK6UYASZU+4eJzg4PBNbyBPUZQw6B9osMY4D8eLuJRc6C7t8W5Lla976p3zDN6Wqyn00xmA9T318KVfsMvc9d49aCpWI/EGx6WJGIWbsYHgHkB13f8Kn8DPcwMEvCEPAn7i674HyoYUI65mTeZzwwDDQ+d/etZSd5XanDOcB5OB5Yc0CTpCzJWBApjbyRCGHg8gQijIBQg51Z+jP9gBbQAAARhBmoVJqEFsmUwIb//+p4QA1uHIeE5E2j9ADa1/FzzTc7O+BqVHPp6wkPGopn8i+ziWFxi9HHU6Cfnjl54JB0wfIB5HVBY5E682XHW7J1b0LsPNuVSKCShKRSw/CBvZQ2VglCF5JlaGIDpgZRJwMzzhFZMyxYDinYVAMyQhe7Zweos7z82u8NLwFSwJshZx7kuiIeIa44x88gqvQQC9sU96t6X/TGBEsmvkWrJhxmW5C7J/1IO2WMpQVHC2TTRzKWz53OlGA7JJXGtnukOX8AyLtiNIpZ1SyydYYmTXplXulp2inYbnl9o+QSaG7kfg2tVsCpwykKGLu5LIcon5x6XYIYrwTXgeilduV13YO3T4E8ZBE/RIMAHpAAAA30Geo0UVLCv/AcavSqdLDLMorisl1vOzGU8rXBrYGQdh2uTFAG0jwATt5ip9qVFthqXKGI1KqzpMfAKoqwM9uh856foj2zQL6KOdtgvwOTqGOHCJ40oMdTjQ98fl2aBn5iJHyWfwsRfmb9Sux9qGHPZ7eT0ox1oeU+n9KWJK43YC3V1IirFCByE36Bgbws7BjJR6Ojkh8Zh58WAVfVY7FJRiIn1jF/rKSUDE/Gn0TRHGA7GQbtcfCHqgAXZRDmoZs8JUTdjN2UkK39m+6SzQoQf8xhYBXXvuS3AXqz4AELAAAACxAZ7CdEJ/AkjUnTMZMoxfJ09+rC6pxnAATURro7Oku0FsnZqJobJOPA4a6e5doSH/BElTXbs2p+CV91IHqmMxXkemMpU0wlFMjOvI2JTCKBiS6vjAoAgzX39EqdBbv+4NCfIHTBqfCVHjy3LWlDtDvw+Cd3vaUHiArxyyX2pfUA6ezmD2LX1+p86HPNqtUn0LoPHTBnZ7iyav1sDlIN8+aIcpEcBUjPgF7DbzEMKvgAPTAAAAvwGexGpCfwJJuAnQMmBpwRp6pyRnn5QAmMsAZq6u+iEjmCrMpoYFm7SorYl9AhSnDecZjw9A8bliXQ4ry4J++MWrBvoxowoBifUppmhbsnjsRVsT3lSnuFwrdSxxJF601wNYM2aQNlFTgJ4VxEvsjMT8L0y3DaQ6XO/PwrrFaIxx+QguBIWuBxPjmACAenuRiL8dTSvY4sudu3ygnnH6fOQIe84DJzK+vX2raziBErxmhduuXCl0zr1TVes9QNGBAAABQkGayUmoQWyZTAhv//6nhADS8J5orVxc+w3LdjgBwTAubo079Sl1Ela2R6GEtoMceM/Lw5k1SqbQanU5aQETvVHlv+nh4eUPBewneGIDVaPeveNwdxp4H5Wklo1Uav3EpgW0VKaiPwgR98k3ITHP0whtYX/Siqm8sUapeG3b6qjXiauLog8yiJMxtUhRKw6+H3LAYGm71wavBXgPPwli5ztv+jl5C938DKH38QhCE6FJ1HjpUfB16a0w9FrXDsE4d0jOK9DCbJCIQJwwesbVTQUhcCwqaMGahlqXI3TBbkNpkG5DDOkA0MISA49yiGTEb/3fgODw67X1VQQId7PBL8kCPVDrbjgs6AHjepWDnOcZpqewC/Cirxqp6TMQmuJO72yDyEJPUKCr9RhSNHnc/gP3Du2AJjRDvF00l+3Vq7dYDekAAAB1QZ7nRRUsK/8Bxq84t6NYOikNlDuiFdSekxUUzmDHXgUAlPzCAE0GPIfEoFnY8niovir/D2EjxkpLEij9kRkCXkIyqoTGx0dF7N98tismzqr1LO6o0T7JiSdOxD6kTaLYwnUIpwjc6BY3lHuW9TNqF9tOAAGpAAAAfwGfBnRCfwJI1FEsI31lPd2/Fke2eEtn/x+AEyMfuk8q2BCv41/dFelu0WuABT2WKtbqicLGmS+rfD+jf/8xwLDoJxeDoFgcJKnN/PgHV3GbAX/3Vfk44yT1BAhS9g+z8Lqk4q6oec8MAs+8SDGSxEQ0WQWD0ASvHE08IYKgKSAAAABqAZ8IakJ/Akm30zycPMJuIkQ5nPBurumBsJgUAJWoLCqF8pqiPb2t4JzEKakbj/J9ZqTX+T6/g2Xikq48QmYoWxzm5vND3uWPjlGVP5UrUTNaJ9NP/Dv7V3LU+1HnpohuZb3uj+XH/HcD/AAAAS1Bmw1JqEFsmUwIb//+p4QAUcTkr22X0kDEABcTlZsdywvnPfFqTI3TWL/YBNlcM9Pqrh8X/8mqSROWmg8S/RQz2pB+uLFDc4tWuKAEgZ2+O7QqD8eJMQPFVL/Il3esGYp1cKkQOzIkLGgd/nflooAeIBQmcZKpamW3AmUmJZt+tT55dnmxyydZ1PNemqEWDNwGjq+v8t1lT/O8u4qs3JsaFdzv4mpyZrbn/XQUDAGERdfunGXi+YF0h5ZGzbO31vW6TU3YoVT9HNx2so9lUHFQpjVz14TNh4N4dQmYtak5fGGBrMxcsMSscTk9JrUFcUfyNTdE6kxRTDXrtGSb3VxHK7Y8io7Y83p9fQYM8m8XWA3t6sbjPdlU8DS07fZbzb0imqMi02dnUS/i8BnxAAAAfkGfK0UVLCv/AcavQnTMwLUebQBW3xqd+pZuY/nClwu/vKmJ4rcFOnmv3wwRnxRyBN3GkWVj8I+CVcnQD2ctFLYDQzFEGoKxsm7VVVhj5WMNkWKgvcKJnvXGwON+FjzIr29ITzYPYj5BFwWwWddDxSfQAIz03o9sGeYeSMATcAAAAGUBn0p0Qn8CSNROBiK4RtbvftZvDdtT447hJsQUNV5zRzHDpdhADTbzgRydwa+QkGtWvl/o1ZgE8Xzmv68jHuX/yiQxRv9uSmaAsCNFxQQjrhPDHjZt48FvTiwlLRBDsLBEtJwJOAAAAGsBn0xqQn8CSbfTJvJfaislaytXET6IGC4kLjnABLuz9kYpbj+SdKfBBw8aQNSmOxCdOxynSRFZGfVrfoID+XiQTKZLDi39m7vuISkKEHTWJeiHsTKFbqKeTh7H1OeHTAIIfoTz8PB2zUAg4QAAAPdBm1FJqEFsmUwIb//+p4QAUjmXYIgYIfAXc2cyvJGFa4+yE1g6P5IpeJuQ+GS9vbHiVnfuncL35L7IV5T1GYMNhReYjaaaqdebI/tsyd2SwrSY4k3Wj5ul743ACWBrtKBnJFk+Tgx/e7Qe+pElFKz0n64rdF0EKjuFZVhnje8IQOOkPnAf4nmdSn3iOFxuOjjKYIcj3gjapFFWK9K5/+UCF4dRfTAboMetdHC+D9Ku0AmkrqaXcqrgrSE5K3IP4RLAVpOanV5QY4KyKRD8OrZvqEJbLSW+3/w3t2W/tRhRlT3d1dwDlJE1pdA/rBIhp9YLYbQg8DfhAAAAhkGfb0UVLCv/AcavQnMXXltmIQa54SHCW/0y74m9VvasACJEsCOHWPvCV2Nz3+Qsb4ascVhpTyddBFCA6cR1CPtp4nWO2XIhZ86NSNpoe8fGQuzd3VEw/145vZQo7C5tNl2Igfk6aMqQ9oT/3qx7QiTDb+ZxjhxRshgixK5jFpdAY0BrwGzBAAAAYwGfjnRCfwJI1E4GIoviE9nGdQXUtpjHLrD1DBzkxydLr4yADgzX5e9/L6xz16+SFS4P4x3C3Q5U3dU+jJct/sOW/RS1hrAK9ooOWhx8lwgpoJyD/FY5uW9113iFTNoNjaAb0AAAAEUBn5BqQn8CSbfTJu1usj4ermg4da2rpynzc1UHKbAEABLZ+g+29gdyN9yl58r0C2ucNPuS5LTGOLXGnOmgtu4suc/UB0wAAAC6QZuVSahBbJlMCG///qeEAB5+E8rSX2sFMxqDx3NHPOAAmVDrcoSBwhi05X6GSTXTD65kKbhf323O/vIx69zkidVv/xyoiqe0mPzuM7dlwOiYbjZ0PtLLwnXSIJXr6n74GTmpg3Tit6WlBfXFfOH01mOdqsVpTS2EN9fS3TUXQy1/tclbSHGHGrZ9uGJJBLzREn5KQrG0teG0JA1VuIfXJPkqO5Y1tlefujOEAMm5PVFNApDEyTBjxKU1AAAAWkGfs0UVLCv/AcavQnMXWvsR4jArHCoaYSS8JrhTY2ONFtd0FBebJ8cKAGcGW0x7/SMANzH9iwIZWzsBQqo1sgTF6SR0ULAmwLsKuV1amtBpQngouCBjHaA1IAAAAEgBn9J0Qn8CSNROBiGfAIp5GxE9X2FudR6aORXbacWr906cmQcgA/aarGIepJdqpsxuPNedlxbJIpEA3vDQDWqCTrpaDDL4CVgAAABbAZ/UakJ/Akm30ybyGIPnDFpWm5AA/a+Ds5bh893bogp+ncISZT4Rm1B4tnGwCZN08sYPtBy8DhkGXko/5H2zittLVPo50y6qrpM0Zt40ISgVsACbLSQDVEQBBwAAAUBBm9lJqEFsmUwIb//+p4QAHc4TzNYIYDcQ6gtboc+Fgn3eAAXSvWZwpVlS+TfQh2p6cV6R00u3O6aLD2Y1CSFmZnUzhO6nOpQY9UCRKlviNKSXVitNL7Cob41cWYB61GwQI1f0eLrUG7vTczydZcG/V0BrAOGbBZmd8xV+3zOjtQxF/1oxg+3tIbiVSs9po1BbhKGalPKGjQuxzj2paMyDRdeo+L0NAYvyz5RvuDVrfkIKu7lBhwrf8n5CsbRiSmJUiD7uBcctORA8TN1klYJvTt1gCMityfpi7HYU6ybfltWaj6baUXtPdQTFBGiZWb/vpFvTglSWIgE3Z6vh8yqd38tNNv8+UJTIDL4eM0HWt8lw+6IlsyeDrzqm8bmjJYXkggVqAloEbIblUZNAzpgaIlJ+9wL2VA2oQAwtLbJJwAAAAHZBn/dFFSwr/wHGr0JzF1sjUx2X69or91XRAZlJj7164/BhWxt1o0dWMi/ocCldngA4sNEfQWuUlWgeBRKE419pskxF8GlU8BbuBikOW99snMi3i/oC4wBkPG4q2gdEZLu/p+3NdETPDciqdg0EFEpuo0kDAPmBAAAAQQGeFnRCfwJI1E4GIZ8AZGGYi9sXDgRUobRAFpXyWIonCh83g3w3HXb79e4gu1i6eg9c7BkVv8LoDVHCRn9PtEHtAAAAdAGeGGpCfwJJt9Mm8hiDlmMyupj6fMIxR0ud1Z4dgAP2M5MRAB/cvbHdNq8l1nsuA0+7VwJiur9X6P2+tZNzp8Yu5olyZX8L7AZTdk6W/byCnsvMFd4QEHA9qencgJVwbAoxot5TGIZGDRtHri8PoEaAAAY8AAABMEGaHUmoQWyZTAhn//6eEAAsf9H0L3Fdg0DIkUtLVs41PAmJrRhdIuyFuBHMuElFz1OefEtqwVb8u/6emUMw8ZfkDmKibtKWov8wRpI4kMDcy4YH8KJrk/UpGu44uP//DEBWU6TyhHUWJf2OrS9Gj46bY4eURz8R30n638pzkxK7+D5lsBL8auJhMJUjcvYA/oX3yVqJrQP3NzIJedp6g/AVZOMLJODLPb+m4wIHHkAXIIW+DOgfyOgb/U94SV3y7/hN66KZ0Z9KNS8t19X4qahQoZtQa55TH1S/wPKyL1hmHtbM+Gzf/62qKJUBX5iDClvpZWtuJXXCAl5e5Ca9AoHeAfblvC5F1YiDj8bggJCP9N2Rcxj5bqFjkoq+hoIVRVgaiXdrUSK3Y6HdncPgI+EAAAChQZ47RRUsK/8Bxq9CcxdbI1HhxsM8fsJJyI4lErtr3FHIbkoOsaQbEubog3O+O4Jcw4t0CqTfgEoOfss5+H2zB6BU9nhSfmo0dagDzmEFeTwg4tg6YuJCpW8ICIegI65ifi0ZniKAJ1MWOP2wYfamJks+WEG8EibLch+s2bpZ+jRiZY4zWf8OnVFjcc9PseL5LSMHoOvBGGst2gLLhBF4DAgAAAB9AZ5adEJ/AkjUTgYhnv5fhadQOI7Q+BeWyGsvARNzKbM/XyhAA/PueLzHI7vCrj6HBMtNKCsSn4fHVsjQuFhhXbCtLEsGY1cID/IaW/Rtw4TUkIl3AJ32qXHrz45l33RRwle60+2s/bdEJnbReot2dV5ruwSIfStgUDiAAR8AAACQAZ5cakJ/Akm30ybyGIOWY0Iqt9ypFWI4IobAnUQc3bbhRBgBJtdjoCB1ps9GpZY3SZyHvxy1QWqButnZn+EpsoNjyBPStgUDWwpSx0qQ4tgBKy1n8UV0JEGNmI/1lbUf4MIDTDPFJtZI8D5qqQWT/8YgcUZanztnf+AB9PaPkLeBOQT0MqSBAUWob0iIADFhAAABIkGaQUmoQWyZTAhf//6MsAAQgIVIp7uAKvjEN/Bnv3E2/+DwIfloS83+Y8cyjb5PKiKuZWnyF0SDAJTre7+RXlc9Od+xF4859+xpdf6D+RXGKsIIkQp2P9oZU2hipBIKmwBjKp3KP3K+5NOUQpucuSh0xvd879fIt2JUQQCyh/+gcxiNY4teeAfRaA2+mW9Q0yBLdOFE6mkHVvFCD5gtVesivVTOUM7R4vqCeCG1Rm9ny0J2GT5qIJu/IWhEVVBZ0JWCH44kJZ/ss2BlM7r77oXPsm+zxYz5g6tZv3usucEMDbUZoElmfsRo+iq7qfAIvm8Ws7kCcr5fx3SrZrSYmKPUalbJWb4CA/H2hsxVzkZu2IDDoh6j7a8DRal9Kqf2phDwAAAAq0Gef0UVLCv/AcavQnMXWyNR4chpKYbzECcY1V4a0vc5FwtTsXWqyQAsP+6AlfTafJxlG6NyY/OULZa6XVPwri/zCixVQABMqcXBCXeiAHgDRZWS+45TjI+x6LXdtwJpsPyxdBB2+jT7wO8kF5EgRDsGT3R7fT+nJNnT+91NcERVN3gXk/DxGx6N8onZ/tEM0jClT3xACx3fsI84esej47xMmUxnk3p3TTAPSAAAAJMBnp50Qn8CSNROBiGe/l+YzDUqy0fA4BnEj//bLnWzqII3lz4ACa0ya3hHT47Ef9CWXl1cawDvkUBscA5qX7xIhsw50D6+IlFdrVnPdwlkuPfGL6pmoTODRu8+mKo/w+N4ioZHOOZOPMDDFgv/lWE6PNaz+L/GACj5k3Ibp9o784CQXAyEOD99kK0xiqMfeoQAFDEAAACbAZ6AakJ/Akm30ybyGIOWZH/2EKJ1NgBabM5B63GuXoyAfi376ZdQpFYdPUkvaUi4xNRrA0ClTfWWgTGYRvaJoHJtY5mMsi9rmhW7dCAJNdCqGvEhVnIoSaeadagU/lUMIJiX6iwwstX3hUgEAhobrXJeojkJbNdfwfsK9TnnPD0UoYEZQpDKRmhI0YkFKgOTIwNovCcTE1PAYEAAAAFUQZqFSahBbJlMCFf//jhAAD++pDmafxt2wIwACNSVDzzCdus1p9Ax9C9q+K0J7HA7lnQ1NXd4JShpngGXfga35zEsuOsG/qYv23pHstT3jqkTy2J9MLAaY13AKmI/qHVeiKLMbwV+y4YR8/r+th1qGSvrBXr2nxrP7PAsxIa/ZloAqg0cTEgkbginPC+iUt1z8RvgNiRUeWxQ/iYvGAeetuCz7FR5diy3udzkevNm7w8DDWblapGWVVa+fW5YYr3lQg5ikuo7EPriGyN1CVvOBgSeznHTldv+SL4tfNdgs7b6PjcqYSe+kuTHp5lyoTcTnuamqu2Pc+nNRbPQ9A3rnj0Ylpd4x1DZnIs3UqEWzIAFez4OIhRLTQ3MODbORUJyn94o31llKDUggfE0ODTWAEgapC7m9ARdkD84Gx3Ahlw1CHWDFOYhf4xvGKA/meAHw6AMqQAAAMlBnqNFFSwr/wHGr0JzF1sjUeHIaSmIsUEUlwD8RJVtBAqz+r5ACQEF1UtMKWmby0/HfS5F85qmwdXBZZxOa/+AkM7D5kLs24/0yYL0I1HbWd9T05iCK3N+j43Xl6BkEyANqvLPXtWNwkce1PmVlTjUNh4VB2ehqhPBNJvCS3BQ5HNg/BIJ2TjF1DOMFtWhXLP3RXgc2x40eCQFgNMbdrB1ZEOFO2it5pBY0oB/itG/2Ts8ff/jTW2lRvunk9qTVRKfKaswtvSuAx4AAACdAZ7CdEJ/AkjUTgYhnv5fmMw093r+0Ts3qJNmDqCqwbabHBHIupCiu7dl6YRkUrwoFuY8n7/kGYAWtg7gdeaJammjBdb4IV9k9iEu86TdeLp68/hbbR6g8AouYPqOwR1pVu2xmWsi6k/HW7IJogbcJBKxzo/w+2sq/7VCHm4+MMhcuKiKwpG/FLWsJxZHrT4qObntyaIwpDO8wAB7QQAAALkBnsRqQn8CSbfTJvIYg5Zkf/X6K6uMILU7JoIHQFv7Ak80djhHMLP1B1PscG1wAC2qHXAw1aT+slzaiAWp/rAbhcPTTr8SWdvahGLOdnFT4x2HTir8TsactaGK8H0rdSwL64+7rLPg+AHv1vTJKAMikJ79rbTydySh6w2sKLGFrrqgKvv1lCXI4a77x8TPh831epr1DlhvetVmARw91qPKlfen9w5PvNm14Qh4VQjJwXIrbYg+4BwF3QAAAW5BmsdJqEFsmUwUTDf//qeEAAGx14LXd0/S4ADaT/y/G8Yc+ZHTG9ourGxjvjFbEZ64yuvQE+ALbBI7T1/ipnYVMU5zfbZ1DVxVaW6wX0sbf+XMdAHgOrzxs6pMwZPYxkLKYNadYwNJ5p2AgcxZLmf+RqdVRosSbUylG107Zqho2WQBFlp+WOIyqGhkQ4D/zKMyuWnEpRHlpHRCJI/CM7ThtbH1WKZPq5q6sux7rYJ+EhlN9pD/m2XcavbbGnNMNjIrTyH+eyWKJ5GWVDRjUK9iWCDVyfM7kiqC0Yvr/ACeN1BLw2u6IIrjutM6mKYuQkLLEYiwHzqSuxmx1ukpyVQwX94SERh2uiDkt+/xo/LgI1HeokQ1aLv1ti32AKZZLR98E7XFLdWmCFynbyDRN8XRheKrurstydDwGLzL+OohC+6m0eYe0gCWfx/KEDZXKisceK4RbYbZXTPdnMKawO+4xYRUPaN1KYWujpEAPmEAAADXAZ7makJ/Akou+SFbzJABZzpnxSC+eVQHgBuUVgMf8wdSM66FjcadUK3UVFyAaECvGOzRPCbSGvhKQix2roAm98BIcIa7ojUn8HxmXQtUBip/4IHrIEJ7kSuNYoj2gXA40SKg7M5CyPpm4W92EKc3HK7tilFEd6ekZNJYesv2rFKpUvkCgQW9aMy53COx36OwLoaZQw5NpZ9Me2M3CHC1aShkQXcubf/D17pDmjaqF4fph2V30dXnV1O+b1PTRZLdpS97EwP/A3vv14gmYBFcUexwQrQoBgUAAAFdQZrrSeEKUmUwIZ/+nhAABpaVx3rQSPoLLs8OUXQAnF0AX1hH2tnzrpSLTE3/PBWQ1Lp9lvPBEHkqbt22vzADTYzRIvVLiDUpBt6Ej+aC0IfvhEfUyqVS3hw5N6tlhr83MiXJdiSQNlZElF5c/HqQDN98V2vvR53t/UPnX4q+NLK06OvUAExS2YHys9nxksBNCuFzYPALlJPK8ENKWFNh3JnCu4PwcoeA0X+2QCHb2l5rY9erKwWBlbnMJ4ni7m15BsgEPJeuf+HoU13Xa9ZgpCaQA5Ho7uC99QO//JJeK0uqtjlhMlbcTDtbS4csSTrhfrWxaSR9NtSzfP+tzbwF/c+6/qOrJdPpT1QYMw8X1P3iI6GpIA+Uz6smd5NXrbCozlBTVH+S8ZFjCIyXLh3Gfpj3MoPoKzFhT3x1l//gWoODyckCey+FskDIZEpmoWHjme1NQBN0SbB61p5lQAAAARdBnwlFNEwr/wHGjdYoICGjPeE6DJLJvurzOluV0ACMjtFq76JqCUO3M/CAy12HJeUo9YsjjX7sowNsrD7OzbQsx2UQLmwiEmk3LCAGhLaYp3ZITHBIIsnVzPsymdIbPQTK1xhCgYoRVWP6ZKjD9p3birDctXT48S7BmRbVfU4ixFmqghjA+oTjJf2u7Yq3YNqYXfjk1F4XfgXHhlSzxjtv/BebUuzGgz+RjjSmrH0sIEJ/ts9Rf9BxZhcrhzKJ/T/s+AurzSPpNJB4OwBXsgJfvVDYRh90QE58E9Xh5sCZDt8Z6AE0zXH1YHpeNhBAtjlvml9YqU3hQsii9BngpE/HtOeo18jBBTnsEgdc52LwtcLNVT7X4/wAAADaAZ8odEJ/AkjUTgYhnv5fmMwqgHhNTLsJoiABYfKuiv8kyjQKNMWETMIqjDtWHkxNPbmUl8X9L94LnlunnTroIAz6+tOmqcOz3ZvUPpJD3So5+asIsSP/rYOmGIHRmxd4+Xm9loQ64i99g9Jq8o0HzwC7dejIppRpi0deiwUrEXoeN/d7PSruXIVankisSnrWYXhv1wkSW3OsK2DyR/gCkbaX6eckD6VtLq47xop0hjqVvSQHvd0IdlMfiGVkd7oXMmUV/lCPRAnHhiT6e6kfLYRF7B6eTYJAQcEAAADSAZ8qakJ/Akm30ybyGIOWZH/1EBsIX8z8fgB0jny44aYOSaGdGO2JO/+nD3DIykl/byqp4vmtNnwMatoRUSHqGoK7y52k290IrgO/+kBbS5ZRTwuzN8+h9bqEZ+DI/GdwEaIAzWm5L88OjKVcxOOV+KiCw53aQU5CMi8ph6giBbe1mRPzSmxuHxA7mT3ive9CPYJuHP1EAgeZATvdvG7FZEyFDv8hnIlFb3DOZq6kSDQYgPUeaeQxYT0pld5MmcKMS7prhU+UHFhKrZPs6HHgYDVgAAABTEGbL0moQWiZTAhX//44QAAJ722cB14mP2FAA4s9drbYLHfYT+FfUxgHOXHAnycLRRsX2BxKLHgLTG39/DjFQpzw+0wYU3uAcsD9bONu4Uthlm1/9kF+ORBllrIHJ1/6RYhYxSvAnXdlEA4yhXI73oblwJOaDh28Rt+7IevB/9PBbMgCD38JKaXJkcPACBsXRbJk1OetLGqsBRihJhl+Bmu8JROZX7do01SJM3Jx4P2rNOImVpLclrUCyFSut173Nqa7cHS8JkAbr1ag2luWzgX/isIMagoPC9Rn6onpcFrmmce+8qaBf21ZMg5EdfFMyngqC7+Wk5mVq2nhZui6zbOyuqfTUFTYtWKJcvQkbLors344jhmPm4MDTmo0Fht45csgXPA6YSHcA13YnZgSpKl9lPvFVzruRiXOGuFzR/B1X5eDLRebqsdnHxfTAAAA2kGfTUURLCv/AcavQnMXWyNR4chpKTJwc1d/iwACG7lYeoUTTFaB1k4myOMQYZ8XUf7PDiR7VZwv7XA4XmHg1eI/J+bkVPGCvNbBcfNR+M9wL7fKA/a/Djg5tdruWqNu81WZOL8D9OMu5Nbvse5aZSP6k2ncay9p1vRiUal030OkdQM778pDb+ATRhekAKLGEuFBqICc4MRs6TQKtcbztVVqW5ShKaJ/6QNAKwCGkOLxGl5sQiADI5eL+raHN9FmnBRo9x4fsVlJv3sxKUsvipfsq2HMc6pE+sUNAAAAtwGfbHRCfwJI1E4GIZ7+X5jMKk0IP4PNbK4AqySGYM1svT+AH8vS3N1BCWP0rNoSKbIK51aVbmQvirFhDWLQWetzirqLglTMxjM3x1Wqv7DQTkAnX06Sua5E2S6KoXU/DbztCrOJbePxWH3OAbfc30rfBeX6qhHASjzCH1t8PDqrWF0sqiWA8MCvSoJLh5aaMCDhHbPYyecA9CPwJI9JgnLHkgUTlrvU45dJ0pDL8i7bOtW3+O+GZQAAANABn25qQn8CSbfTJvIYg5Zkf/UW7SQBazkytfGnRx+btoGmgT1v/O/G0rValF4mRBnJw6fHnQNAtzTTzu4gDa1CvJl9ijicXcElC+V8oyZ4SKoBWliRGkQ0pE8wlGYwZEPGrK0dz6NVdKBM29NQgDgfB51EJnz5qGCzBOuzHwtVcMAJBuhdK0Fg6GJfcdqar0cqcFS81MphIorpw5dK6y5N5cUexXxxshRTgkcxr5MfIhxzcfiqUIxl8tvipn+mEcNHAC5ceOTFMqiI/aulqEj5AAABBkGbc0moQWyZTAhX//44QAAKfcDAAOfEtdT5Woaq/9d9Za81VuhjnjpMeDGvQFyVkKW0EoB9wPkynEOPFxx2EI9h0Kj89jZumnyl0U4y4NDHPKkjAn91fdfW5Aq8u8gbJvkmM652BbzDf+cKz2c6o2YAGSfmyzrDxX3EC5Ah9g7pBh1z63mn0Mu3upxoiym6TxVynPR2AMY35r6Ilyu/NrNPTMJ+BKeFQD9+Pp782UBl0FsZZvH3m9nOgbaSnybaD9yZdxX0jsNWXbfxRR6TWFhvnLZQF+hXy5hQdnQK8/jRSUI9GcM/4pYnAWbQYh2G/796NOmIgCRKX3yfGol/S7WHDFR9qm0AAADlQZ+RRRUsK/8Bxq9CcxdbI1HhyGkpMm9ggmjP2ZAE7EvrJNvsmz1RbEgnCluGuIGcN8ocvhD/VEXnQbPkPf6pm3Ujffz6PjieIJfOTiypaRPmFGOpJRZTk0jlvZ2iB7ZyOqaBHuMzZb0kKuecJN6/zXvFESWT7jSduzo0oGSwuljhDC+8Ztf4LAW9B1m7kA4EnGTfXaNumItmCWkETD8RIi6mDqBoGGKs1SSd89ZdvqoLyNqEczAVOdd0MoEgd+j555W7DZYpAwsgmIpbb5D064r8smoYdUSl0lQeoWT3X3lV87AD5gAAANMBn7B0Qn8CSNROBiGe/l+YzCpMkwWqjwBWpzKWRt9jOb0rhT7jRvS5fax3/CG2VHGjsAUqMtwDA10VzrxH1u6NVMu3XBlurSF0XfR3GhnBvKr95KO2pRRaHIL4VhgeCh9EfxnzzsUZJGuexAfW0vORrTa5IP3mVVN811OXxhxkdz4iDGJPo5Tkq6ROfxQH1khf/u7xaDZne97fySOF0vzvIktPKtmEWVJqQhxtlvOQrjWRzOb02sycIBIq1qdmmZwnJ3CUL3jmYcXWbvEhWOA0tQObAAAAoAGfsmpCfwJJt9Mm8hiDlmR/9QfZbIxYmuAOUVVWUzVvznr2cDe2FnIfmJC/cRVvxGJhJRhTr82phPb8Z8WAocK9yQTlKkxR/6YIlZUuM1tbpSEHo+DWLq+XePwY2opwlcqWCZ4zf64RqAC2koeBpoldHEdVh4NLWOoA7sd0PfBVmd9SfGUFV0HTLNKm0GLqEdf5bnBXmciUw1KtXmdwM1IAAAETQZu3SahBbJlMCF///oywAAK77mheD6VnW5pp1pX/PP6Xbo9kAFs9CwBICd7LItZvsfpJXoXGzPfZk8kZ4IraWk5td44F3Ur/E6pZoHu4SBuZKHnQILC6tG5f+6Ue2cnhddti+vSpbQMTchSwv4BKFT0jUczamhjFa75UQ17X0NSH7u2D601eBgIpfPxzk0ruyXwhTWqvNp/6s+qdg+aF3CkfNXgOkvYfgv/BD9aIIDak5G99Fb5LTLWa0lvF+uUgDySkDE6v+v5KbpFm1CR9CCHJuhDyzzcSA02gs/zgn6bYWzIRC6fiEXfZvYLnwjliqQAqkWp6jAiGcagDWaoBWYJrxvFT0IS8iN2SYwTn0yExepgAAADDQZ/VRRUsK/8Bxq9CcxdbI1HhyGkpMm9gRMWIcahJQX/kJvUagBZJAS+Lhe1bXL1QokyF05mnPsDn1Trk79aNlqKHpZfEAiplBrXjhsyeiTAGgMm/WvRC/B1S049z6NRzonTdnm+YMNSTXoscqfNzFDgypC/zRo6Nesyg9XaxQWR0ww6UwEtIp6JpDgOFeZmTIyLAJwAW16vUDn3knLd0Nayp6jbIgrRgUFdkl1ITdd71OR4lb23wCznHKG6Qmfb8AEbBAAAAqgGf9HRCfwJI1E4GIZ7+X5jMKkyYOn0+9QRZ1SUwyX/X+/eEAHBSQ/Vg8tCEPQKyFJJ1GoskzJ0Evy5xF6PZxuf2ouiI4hV9zZRwrsEyHBbrU+5hQaCyaC8Q/pvIMakUxO4viobh5yziJoTPNChecwCj8WbcThmFE/hj8fPj8n0n5R/r50Z3OqpsAvCaFeavoLp/Ey1NX4NzqQiZbX9EpJZrsgoKdya+1XHAAAAAlgGf9mpCfwJJt9Mm8hiDlmR/9QfZbBFsDl82LC/uUAK3vWdZxlFHK36NnvyJPL0qXdPXEIX41e/4HFw50ukHCFBD8Ok82GVkcManPuyrYYSdL1uvuf1zdXUqSM1vxHKdTYiuwxDIcTNyB7w4afg8fNlaYiXD5dw9I1hT6k+gdWxhCbtvhjOFRkjZpo4Ohow9ox4E9HnVJQAAANxBm/tJqEFsmUwIV//+OEAAAXX2t5sewfmTggQ6zt3z1wAcN0MFfoibf+tSiPUL6SHkNksBpdh0BYsbxjbcBgEBqmTYxfPE6E84oBlLkxltOx5ct/dcvknKD938AfRfVCkckn+Zc9ZIwElR96FfgfY/+MOHwS5lKwMWeIrT3qcQUupNIwXg1c4yNFlx/qj5KCSwblhahVbGqcjlsZc+NHdiOfynB+aRMJlSjMcADg6bh4oMy5w1dpXKwLiS87SMxYNvTWblCsf8Gbp2cGE7rZ8Y3H/5t3ih74FlGAInAAAA1EGeGUUVLCv/AcavQnMXWyNR4chpKTJvYD18udLAGH8skABscfNWdqeZ9ALHYtC5YxrwzagHyGTbhBqpzdZcXhjdMYickZARoyRyMSkUs3zfaiXaHDaDPGdWmI0u0st3wmGrrNdtLoAwGenIS6vKpFnMC9Ez/d7YZLajlc6fV0GFciWvySsOSJI+3BJXGRVxSF+AJocBGAr1n/ZsvNVGPZoxG0fIQJf85iuj78W3PTgqqgZrUcSYuSf37XeNWXS+WCISGw/kzweRlBaCoGlLR1vy5tGwAAAAfgGeOHRCfwJI1E4GIZ7+X5jMKkyYMw0sYlcUH2/bgC8r00hqOgO3oZYgMxuGmsOlaA3wm68XSP/9uZqksphQuCbwyohgSEk68IplQl9aPSYjMxjDIctQBbVNXoYBg0ZX6xRqHySU2ZAon1ovI5zQ0Ah1gHVxaVkdqu9RmjLq7wAAAIwBnjpqQn8CSbfTJvIYg5Zkf/UH2WwRVkPAZEMzY6XDmEnSe/LxMjJEVxtyFpa8NhL8344RZnyDBy20iAzeMRQ2A/DboU0qsNIp2PfNU1C6GLb0LK+gmQkiQ19XteINxsmoWqGlYUHFDU0P+Zmgyx6UP7pfSuxYD5ShhX1sgI4f05/fy5VeC1mQdjShbQAAAQ9Bmj5JqEFsmUwIV//+OEAAAUjk+y8K3bhBGMrCjYjgAFJVAbPMy05SaVCb4nd0UVX+U+FJYa6S7F+H3Jl0zLiXXuA5OaGulciv1nlqklQsQVNWK3wJg2HuEQoIY579nNwsYObuThfTBn3Wy4XHa7zHNMBy5eOv2I8/4BpwPapIuhUvcEDRVoKMXABLbSpXVVZvFdi4gwdHv0AZcZQSG3TwgVDYOX4sgOYd/peMr2HfFvsMZsjEvxct4y/OV3Fpf6UAA+W/WeOkIlQEwTsTI1WAcnP8V8h/7LDMuIg3FJv9kpmQwBuylOLn5dNiC6O2M9+aX23Cyd6AOVVexxMK4YoYNbR1GcmJg4SA9Hi52syxAAAAp0GeXEUVLCv/AcavQnMXWyNR4chpKTJvYD18s0vA4/ve1wySxfqqVTPcVthEG/nskMswpAfHXfOqSl5GyF8StveGzAB54IN0ki5IelWRKSbH5iD7KYTbEuP1+yOe8B6BLOnpl0v4ncrvc/86IzBK+1oGd1+ZT6nIISfyoi+oFu0XgBldMBrw7f/nw+WYSvEFeh302n4Ni/EMfrDVaDgXe8l+1t4tHtTtAAAAjQGefWpCfwJJt9Mm8hiDlmR/9QfZbBFWSF7SDuWVtRjLtJAXxYNtgrlCPUt87b4GUCTvTx9qgA7QsBDYb/qlxDLIeCJOGIDCajjKjNVcL9JmYuWAgdRHwxMxVmOALQF3pkin+QgJde9SDQTzM0OFFCgYMBhQh9iBlkLtqa6IOlWORI9krxaA/nB0IzcKuAAAAStBmmJJqEFsmUwIV//+OEAAAHv8vYAWHzgWiUbNriw/onMzPViy4t2EGgWMXostQdbsbsoxjfvZtK2X/ypsR2AetVxrVSXixxJlHlCKql/OUCX+mKmnvETuMENtvxKop5XtKNYNBV3Lxtd3DTmxm+BDDydNlxr3DR6wFQ+v6wG6p2RTfXvhX/wMIY6J9TVO4gj1fkziHUCT+pYjHgBmAub2jtRuSuncUaQ180fX+IzF903GWpXfJx59JUAtFt0uUsEZTsJSi1rGmca8k/GKX85hFj8nD6iNMMWGRwqzL1/9dBe8RC52xuCTAmzW/qQ/AU/vfd5Zr2U5jlS7Ib7ay46WKL+65Pso6miUuIykd0LmfxvZXzRNcwthMFG5CkChnHTzucn+jQjQArqzLAAAALJBnoBFFSwr/wHGr0JzF1sjUeHIaSkyb2A9fJPWHZX1vj8yumKEe+lvN2mXIAIqy4IX/EfRoFcumJooxcu966WJwGfx3Cva0u1N8kEGMptYy9jeURu05phf0TI3/jjSP8A+Aefjx73O7j9JiWLF+5NWSfqHUlfT0yXeiL7R80UgWyqhmAFLwPj1U5pHPyLxO/jAXJQyLgD9U7O1COJS2Ca80jYyDjrCxuwL2sQ+U3McwKSBAAAAkgGev3RCfwJI1E4GIZ7+X5jMKkyYMwy3tKf83gLJCzVFZL52ABq4eIb3OtABLJNO5VhukaudRp3uhtPQOaXJxYwOcWzjk61WYEHwCY2sdrTblPsLqDacQCtXo5gx4WwyPAvCyYjWi/JsKIRVzG12VyirxjFt8gC1DArNE9I6IYyu4z5HN/DbhdoI8e1fpoVQtGzAAAAAwwGeoWpCfwJJt9Mm8hiDlmR/9QfZbBFSaCNFgQIALqI28THBalbwOq0Qz8bUquF+4w1OYcXMUCtu8fv5hY8h+6otFFRAYThWd73dkrbjt39/WVf1mXynmxBOYiv75A3n124TzQtsmDeDfYGd/CyfV5zjqqOTF5MGrVWMsTB2Nque4by5AtsDUa9dwQhZ8lpDtZGUVCH095bFgMNPXdsfWnKVdGgQvW/ZN/tftbzaGcMVTpF76iliEbMwtwBRv327gHHK2QAAARpBmqZJqEFsmUwIX//+jLAAACA/E4j9osVWP+MMzm2wOrMKvoY6kldoJkempzc+meLWsUsIQJbsq3Hk5B8cuPkOLAzCllqNlxV5C+5Z5rrrE35uCrp1dQfkcKAFFcqFbNvmOGWdYFXWv2KZ4qqtMbZaA94uaRNatZC5rtoGAooFkC2O95Jjd8wBgcdzKI3+tVPpCFaa829s0TAvBQDYL/H4YxGvdh+Neiy1h7s+S/owXyDicFvBhWDIrYRzH2ElWi8oNrvS8VbnjSxPQ77rEz99tyeOx/iw1svlYH+gj3k0spX95LMhYqN+d4AuQb0Eqfh0fFWmbsLixBjaFYlMvtI4BMyn2FRZ4+EEeDERImfgLICWXro2KKW8fY8AAAD0QZ7ERRUsK/8Bxq9CcxdbI1HhyGkpMm9gPXyT5NdQslMkgCsMTy2rmsGDhWcKLCjSxgOVQhY174plNNRmHEQNuhydCTFhEp+Ws+0MgBLP/6a3eyhF5CmuxEqK/JJTHza0nGryYvs9vZqchDYnfZJUSNgz7lJL2zzAysI1NGYzcnmNVT8TRuLXMSD0yyZksDKXTMniVVzuxbLiY0n4f99VGT9GHWzXr+Ws6hJeuqHR3PJ9R/pM/4Twqsq1vjw+8gQxC9oXMWoR3HPnt9nFoPhFeTAEdLkBj+0ba+nd5B8CIyCVAXdNHi1Yr/zgbMlI+OOEVYSpgQAAALQBnuN0Qn8CSNROBiGe/l+YzCpMmDMMuLSNIp4i6SkIBn/7kACAn9q5po8wGGZfTADa+t8EsD5zEzBmglCVg2146p/uz4Y34Olgj8EK4UuaFW8km+/q+zaxHvXE2z2pn6jLQ789PTNPpBAVa7Di/w0p5crOnXNKNDpQDWOP7/GMso76mbHGQRF43/LHjPFI1q8CquApGYKThBiw+P07OBZjK8no0kcOB1FIWPkw4AjlpikTYY8AAADAAZ7lakJ/Akm30ybyGIOWZH/1B9lsEVJIz1ZP2TpcnRLMTfnoiD4EAWCc4sK2RggoyCnJ5emhxMYPF7JB3Lr2PESAB3LvAPUFIKhpNz3rFc+F+zyAgMGGKbIp7GJkq0SOlh3fgyG13KwEpaVyRZIHy15m9XHKxfzKhwyDAr/N+FsjkTaQnc05WMPoqm3KjLGBO3fhjXp1wOKWbO5QeZTLYwrp10msEDfzoWDWS4wi4hbE5QswO6lWBXoxkRw1oEvBAAAA+EGa6kmoQWyZTAhf//6MsAAADVet25yFeQAS1CkyH9MNmHIGAIJVngU6W46hyxvryNYV5Vp66iBc9MJXs+URQ6WM8a7zrUhGYNze9IA/Z5zAr22h6FhrOmQMEIqm4r7EJYQdDIw6B8hxZ4bnlQANazVewvow+rnV15qG2i243k5Uo53G2LcE+cti2DTywreDa7f6aJvxWMzvuEuQ6zLr9mi1pyMyJFw35qDk0+efQXcyANXdnLNUuBbwP3Kziu3gzxGkwMrCTDcie+FkfoxAogx6iOoDQK1khM3rUN+vqEfucPiOtBEF/fVmjRZaLij67D7VQmQPNcppAAAAvEGfCEUVLCv/AcavQnMXWyNR4chpKTJvYD18h+9bR7KLwx40PEgAXQXA0OnUTuKe02emGePvt3RXEeRdYkTG3bDfEBy9mSVXVifBEWIpyBw6lbGkq6T5/fM8xpOFGBPeBJXQYo9dpMMgkCqp0GYQVeJqwDmyjG6TIpP+WBXPXeXHb5Hly4lEYs0mdHh/uaMeQ541TYPZZ8hl91NNrfkRHMBI47dYr4GWbIOnvhKwi8bbrodbuvwdCywQ5IJuAAAAhgGfJ3RCfwJI1E4GIZ7+X5jMKkyYMwyXWTCEmRjg2gV5WilnJxSFwAtimDbPcFXnIAhJzQn+GmWpZWTLzN3Xe5VMhu1XECvDyuKs/w2YTSlBgXBemTm3wluToGcHJ8O7WFIY6TlIzBr1AwO+LgAOIHp14WlTeYITlxMhdXwb3bxUsN0g9MFTAAAApgGfKWpCfwJJt9Mm8hiDlmR/9QfZbBFQ7D8nZZ3d/QVgBuag+0S/vVdM7X5QcVCPBjB64AvBSWw+WtAOefbLrF9Osj17nVuh0S1lVn4FCZCJ/n0mH38+6gTkVH/cXNJCOiaNn3CGFxfaJ6TPlCpcDukvQHwqCM6YBxJh4oBL4OuwUlv3UR26J4+Nzh1WhJazDCOcekiIaQPDG8oLrDIO/C/0AdeBA1MAAADhQZsuSahBbJlMCF///oywAAAMt63bn1VjQkW6EBfPRxy4rbq+BA6LyO+qpDf9jKAwi7uCvdK3t+oo0jXb62JBex/8z+zrLPeqB4Q15s8qy5tYba+sByUo3Sm6lR7PUg2JwtnI9/mbbqfjN2GoNTRJazHTyXJST6uqs0Drbq7bxunRNBiMmuFva2RloFY3KksLYvyfABn1qiEbRjhhDHeUphxJqb36jyHkQUuIWG+qfwaMj0NPVtdBJylqgNQO/TVDqqGF/RTEW4ZmNP44dSKa7vx1FcwPe7BcmwBLjSr+FECAAAAAvkGfTEUVLCv/AcavQnMXWyNR4chpKTJvYD18h8u7aACG5GjL4RuHgYXYI3EFeiPVKias9LXiEAMSNiaqvi4GQm+S72rMsUV9/WaQxwNgFkxXJzRrj7GAl7vZJ//DrBTLBcGjeyHBq0JvQaJr0VxDSHJgjZGGKriZLoFT4myTexMtk7+VPOjG8keOi27vGEkttkloJbjNxum0nE8Emq/D3MC15PLmFzNP70guzJBugz3nbxOBv48m7CAaubOc0IAAAAC9AZ9rdEJ/AkjUTgYhnv5fmMwqTJgzDJbsb+AJ1+1sXPO2QpfhK3hOytdthW6MboCQJEWmEl3/kjSgg90cE+05WySiwjhgs3+SwYBRM1hTi7v/Hj7qua7hP3Myx+nhIxdizg/Frfcm9cDGzovFGkUKvunKBpHMb/eh2SOlsxicnB1sHMoFBXtHedHK6pk25xvWnFvvRUWRgMqxJItOeCOycdva8ok3V6spQzXIsmt65hsjbIpL7iOQN4tQb1gRAAAAtgGfbWpCfwJJt9Mm8hiDlmR/9QfZbBFQ9lvcABmqUWZDsHOA4RXn7L5wzoUxJR92aaiPtMUUgoHV4SpQa+FBAlrpCRKgNgJDOmyIf1+1O0SSRaya2Lte5HBtag/bSnLQl1DxqppfJvQAZ2O/QYtz2H4dr/qVfMZA0Ds0XxL2qIS2ks2M56ZtBiOIGiaRDkt6vq1IVi31ZSVhtjxq7hcT5Gb8ecUzZdh0Xb9kNQrqX5DrCfI12DKhAAABF0GbckmoQWyZTAhv//6nhAAAAwLrzLP6O9kDrOAHo3ADWfBOflqXIjPy9Qi9Pu4KQwqTB1rMdU17P32nlGb7dfpfHaw4p4YFsr0Ki6O3i0AWM2ikywVd0iGWZmJnRmdGmqw+AWi+uoAveEghAIVRAjEPca5LiQOe0UObnutdWTa7tsmiwCoYQ9hKg6tsGHAaLGHLAAGqDwer+UMsxx2wfBO8SWveO+NbfdzF+kPhzZ4RAEESggVMAFbWPsuDuYNQipJn5ljJn5p51t1ocIcg6wtUaNCvjXZo68VRHXmyiFoBeNEtnwo7Su+R0rdgAwD3ZxgBF33COpqaQ9zk2+Vh5X/X+rw3c3v17Rld7/ddC+45LS7S4tR9IQAAAJRBn5BFFSwr/wHGr0JzF1sjUeHIaSkyb2A9fIboGqs+yeaZooYshRVQAlpgzv4jCFkbnqBXRroT/WVQXYRb6SW/eI3b2YYHKicBdR8194VrlkbKeAEgoyrgmJDgdgys2qrY2yNscuNVI2AVnTIXQQepaKODD4yLgJ1cTLVunrQheXNv//AuO5Rb+SOEgM2DBXh/qBnwAAAAewGfr3RCfwJI1E4GIZ7+X5jMKkyYMwyT+h5+K+AStroDUt5YfoZN956LRfgEFyLJBtDKWtG6UjcxMJzjkZ8kks8LD3mj3R3kJ4eLYN2S5evQwAdAqtecuaCuOLIEalUOUQKUOuo7nZYolCzTdzZ/L6IInC3XNyb49MA7oAAAAJMBn7FqQn8CSbfTJvIYg5Zkf/UH2WwRUNLcK1c+hiV7+QWlNs8x37nymNZd8YpZD64Rh4bGLbdvABLVAPoVGTcG7I2niI+/DqZFkuczTv4Qd0cg2BvppXDRmIsISE3RlQRQHih5Jz+W9l1fyGjAsLV+Hi3C+6UyHWp6khfK2Zf87qIIzR6aM3WDV5nl8RrvcQQAf4EAAADUQZu2SahBbJlMCG///qeEAAADAR0gK+W7IAbsHNcsKD43Pf8HTRU6ji+cge09Uho878brmzVUf+9P6mZqvE4lEy+mH05Nu9gwYtQ5h4k4wIhBK4sslkn6UFLnfKRKlwGUufrN7+CgMZdw6XFsH9GFaiGvxX8T6YbEaVkNicJqJJUUIdn9GNvkF0Oe6hn9Ajz0zQ7+shjwJj6Zv/0gVEfq7Bs92n5ec45YrkQmYztr21ssT9gD0qiBz0jIyj5qQuFAtHbFsylFWQ25+j3pki4b2J6hCNAAAACyQZ/URRUsK/8Bxq9CcxdbI1HhyGkpMm9gPXyCtDVHKmtLokufp3xnv0YxF3tGQKAZkw/KHVqMO3VP9TACPJjRDA2gieA8JesGHKsMReSBj4cePa5h+SOWepapagHD7IXpIQiMsX/nIAOBEwaWvY8VZoabIXg39dY6h86aE6WicjVXs5vAEHPoPDu3MZlk6r/k6jmweS/HqpTSj6bizGvP4BnQVQyP6YoE26A6PprpzBhswAAAAKcBn/N0Qn8CSNROBiGe/l+YzCpMmDMMh5YBp5pXl2jIpxKftRNx2ge2lMtfCjvwUqIAh3MmSA9FjgjGjUARV8cE9HRpTjdBGcVHNCw/eYkxDU4TGkOZAv4O6x79pW9b8FyNFFUbBvmIwN/PnWw2JI3NYeuYxVp+JprYJbjm3h3R1tf/TLR9p1k6vN8bMpiJyV4TYCfm7CkUvyxe/XHN960AGW2jt8fCdwAAAKIBn/VqQn8CSbfTJvIYg5Zkf/UH2WwRUFP+vn+hKC1nW/wbo9hh7m+71mn140p781EvpMAJjCwNGq0VnJWoATA6SrUv3MDuzJbIF9VTkrNTnf7AKO0QTvHu0u3nZRK/1W3bLFeTpqU4/noZa7O0VbvVpT5wqSbjyGNxDKxNM4gV4DsSaDpH5fyziym0DgWfK3ZIV+pd4JQ+KHVbRJybHoF4NSAAAAErQZv6SahBbJlMCG///qeEAAADAR79DCOOp5D8PL9lbwsrG8g+z7lkot1hyuFUZ5cXJ5p1zlqhUgfN0tR5oId9jH70qiE1XmIfss0Z0h5fyGWtYxExaOC3R3aPbXRG92QUjUGlEOuDmNckoeFx77gZ2Zm6qiDRP1BGh+5/mcE9uihKkEmyiq++z200nzQtApLzSHVAFq2rKZkiGIIQBobsTl7xTL+TUL/Tt8rWecx3mHnBhMmC2Jf/hDFmWe3c/ztBPvBHHrgI3TsXRy+QN/yth5dKBJAjsw8oDAUK2zDdDhuU0+SmHzHRjlUigKzc54Piq8Eb5hSbK62TR0aBS2FnG+iWmZJyoa+BltNpotezHRhg8XfNOJR5bu86ZCNYZtCC6uiH3nBSVPg43KkAAADEQZ4YRRUsK/8Bxq9CcxdbI1HhyGkpMm9gPXyCsbH4FoDBybZMjzzwfPfVqjRDEa6GX6C0SWpQnRlJW+rsRPvcYQ69AVs/Mto+naUgezPzO/mhIT1Xkaov4ayJdjGNsXR72gWwgsDiPyo+PNfJJ4ak3B7U17f29YQ/4Wwmui3gjKeS29BDiaC3hRY2obhV8re/lNmiQryJhGSgfLpoUJyM2F1bPjcFtUZDsyTn4ZTmf+rqc0hASOiVQ60Xir5x2vIgkHMDZwAAAIUBnjd0Qn8CSNROBiGe/l+YzCpMmDMMh6aD96c/2XLvtKeotDqPVBaHrj8EUQ0JwgxkKmUn2niGI36juXX2ScFYU4jgdSj7k5QhaZrnEc1Qqh1D/LdF4UBo8nuohiZlTg6N1GfByCUfmSToIZqY7Apm7+PSrlfQG3mfsOUPZNiQpP4VDiRgAAAAvAGeOWpCfwJJt9Mm8hiDlmR/9QfZbBFQVBZGT2JZkE7U8ACdZpjfsFA5FpTBvrfcg3UAeLbgGZRIvANfoAqeXwKlDF5DuHGdSHYivrKijbY3QQY/qRO7ic7Y+cMb57NYh5X78v8wFZiuXQCfY+Z3m62EdsdenJvo0EoSo7PaNIBBhthKm+sJPePcrXukRTPUB+8wAWl0bjIqXm5HPdjWivMcpx2d2XZ3FDRf63g7e3BOj5BPgquENAEe+FTBAAABQkGaPkmoQWyZTAhv//6nhAAAAwBsQB4mO2Qy61ETAA6EVOrc3nUwPLlupjkTMTjmU3g3YUeBg4soI3uiNj+LjDA4VW0i8zOe7ijhbcicaHSO5/3L55KNsxBIlYnH2au6yGZ58WGZH4dRJ8P+jLiRnNJ0WmVuBoq/1LM6ss8AnEodAzANntEEohpO/xFahd0Yy6x67cBXnm29Ot+/sFez/bn6WbPmToQD674BHq7PePiQMs3h8HefLQNQPK5JtoAr1CA9+J9+E6jvvDOlKID1oGD3iuCroZ3ra+Sd6033I1TbFGf31RKyX7LfGlulGvAdapsh6/886ij4cPvY+mD4mY08OGjAvTHx2ggogS6A50nENI2XaZNYFGrhrSU6KuHqaBvJuAAPoro0Dlo5A5/ijIMXLx13AWsIhr2QFDxkODvfDcAAAADHQZ5cRRUsK/8Bxq9CcxdbI1HhyGkpMm9gPXyBBZQyn6tn83XJCkLBHGqMkR1mknrf4vAAJXN4noXKnc2F3OWytVOmvSc+D6bxfspCO8+eR3O956pLVJSMSD2WxC2EF9G47RDme5EbY8z8nphe9DWiaFn7zUL5IF3JTpWEbKF47oiNOH4IY3Tjn3ITaYIBA149YTDAuR8usvZdnCQJ4he8/fLU6bH7BlXvRhnZ8eXffMcaQME7G0jwMWecT3pE1K8wdJNnD6A2YQAAAIoBnnt0Qn8CSNROBiGe/l+YzCpMmDMMgv4XNoF6TuYjauLdJTBRwmLyD2bw6LDA9IRAEdptSFPmxwwnmxrHXMzgXqSOoXMfB30LkQGAGb0vJKjOVF9tC6ILPceRsPHxF5M+iWfFYXUn+eykOi781h+pOzwDZoqJnjMl9qjzSgoaXYOBTSKJdvREDekAAACgAZ59akJ/Akm30ybyGIOWZH/1B9lsEVAfFxpkX9UzlqrRbnVACceASh5YdKUyr1T4vwezygacQS9K9eop9JvzTF3LRk7I4r2bBYxOz7PmDKIXQfJA72pMdbJJJItQ5gx36pQ9sjObC+uxlAp8ij+6ZdiNkpmP/OY2QJlMJUyeis4iFnjf2HjTo4QARrnDvcwRHQHgRdEs1ZIRy2K26nGGpAAAATJBmmJJqEFsmUwIb//+p4QAAAMAa++pR+bFSETK+FdX00kTXZYSSUT/K+9D9aISAv7hzLOJrZokpzA0yNz2UB0NKhuWcu2NllNMfjfsFD71b14+mEhc5fl5/GMWTH28pTPD0HeRNRa0X5U7Y63XUTb6TxzD0A8Ijud6eeTyGAGZJU+7tNUVlBHkhb5yi8vnIOOSjbnjsT/zGNps+gfLMikJ9BWJ2TosO0p4UXb7K9j8l1KNstXL0qOIIK45IwGhOlJJXTimDTZZunDfCHZxtwj4JxJXLbiBfMD1DO4G/6HQgrPkLpaa0SIcXABsFk79zaAxnCGo/AeCJudnlSwaN/GQY1C0k8SOwCST//c2kAiAkxDLT737LxVRDOU383IPzPt8yuuyR43hgae6RAEg30Hyd6AAAACQQZ6ARRUsK/8Bxq9CcxdbI1HhyGkpMm9gPXyA/nldg8Z8jqRtUSpitZx0npDNQBgGZLPrfE8288cxeD9RsWGX3zkMC2ua0zC6yEecUWyTDUV03INSCud8p5IDGnWuXGk6oFZy/T4GggImozFMdjSAyTJqz0a/lqyE4KZtTHV8Md9ZHJzlc+8tnLQz0Mye4oGVAAAApwGev3RCfwJI1E4GIZ7+X5jMKkyYMwyC8EAEwAAN9wEt6aW7ioxLejTm6mqstTNZYMgRPUcE48BJn8lqoSxQyIYilOK3YckFyfHIrqDT47Y+WPx56dEosRenM09XpV1AgahIz25X9SVe+36u4VfQHT+wJVFNvFowuQfNb7fNAGYyo5/FdE+H6jzg1say9K/HDo0VUgbVCLpLY/ayNuNXmESU9SuBr4O6AAAAdgGeoWpCfwJJt9Mm8hiDlmR/9QfZbBFQHuj7Y9OD+DV8I/KJ6qOfFMavw04FX2gA8K0UAODLvAUcMEG3qoC9wmWiUW96R++PAazOum6ASGVt3Z29PXqkgWHXH/scscq+GQfz/fL+zEXbgzXFi18iVmSAuHJgEvEAAAEkQZqmSahBbJlMCG///qeEAAADAGx4TOFwrDDuXngiwqOTdo6gQvR/zsuWaYuh+Vkj4fX9bH/6Cv+CShAoFZegUALWBmQUo5OfrH4x4WlibYBUSwFkNQyDE+tUYB/5EEf1bi81UFOS3de/0cjW4i/cbLxEofy63+HYMeVDsdteGmayuVmE78XmI2l9Jyw+cO7H5vfB/5U9TfMptSKn9iVlRjfoIjIZpYSovwMm58YT1gTsgtv+BSctYxDbp9Df5q8AKVgc+4XIXFnq98xF6tSKAxAT87YXT3iCS3oALDhHG54ZX3nNoRYXSN83FU2mBYYc2OprrNN/RqE0l+fhXv1SHTTeAZFyycnUaXco/TgRtOpLfVbvqLFuTBME+4z//duvxMBkHAAAAL5BnsRFFSwr/wHGr0JzF1sjUeHIaSkyb2A9fID+Rgypf+8z44oviK7fXYltY4LjfLvQQAeUdHnPcuq/qRGy+GVP/dEHDDqgmhQHv/7AMrsQ50gN89+cmS8YUGjyA4Qw78uXvCUTdD2LxB/uHBegSeaaqgvgg0mimjTm/ck6l2+2A7njMSSnJ/j7013eMvfXK5JDsydenk/X6uGaBK4DlADVz0nnOPrpYqErX7nfOJ8/9rqVEHJGemlKUEHiQAm5AAAArwGe43RCfwJI1E4GIZ7+X5jMKkyYMwyC7VOI3aMTsMZ0HLfPgz2kssrsGZwSoP5+T3au3Rwkk20r26AEIsaxE7AWMiGYFFzKqPy/dYEBtvQhAZMQvn/4JsbEOBuV+E6gPlCVLRyYVwgFBenoI5fOLMlLdeCZjpDCi7czSwddsdeM9cExGDMa6oFFGDvJNqYmbWjCjso0SjXGMJJEaJ0R8RiJ/+pSUR3xK3zvZhBg1oEAAACtAZ7lakJ/Akm30ybyGIOWZH/1B9lsEVAeb5uRdOsQQWptwzPfh4ArSNpAgquMfSxPdzTJsTRdzPG1fwRz13IEiWPe3+ef3+fiU9H9Dv5aCNINnjeX/n1P+WgJ1Zbv0fgGMBSlK7o0qevIaSEylNTUEI8uEMJerM7V2uOpyL5gzOW1HcgWAscBsUf9whLtf4TDc1yrx8FigYSvkUbzPWIzWoGKZyGU0aezR9tooIEAAAEXQZrqSahBbJlMCG///qeEAAADAGlegsXgQBfmIto3guddBlbgoyy2sfE55202MQnKzzf6q/tkUv71sC6DIzEtEIiKXmgL0fWGTkWmPx1xdnd2HWib2d9F+gBSPzBSvxiIeh3eyH+KeOJo6jZivzSDrHbzkW9ozEwXR5DGz3Q0K4Pf7+LdULKoLeBaoR8lBoNG23Ht7e/lMyui1QhxvzfdpR4JqsOx2adEXQtMLQnKZniU1viJs0DLkTMLeoHc8awyMzhswHJNUyuc31WCfRm4p8av7LXCbTdCX0dlYoWOIlCpmvphdTomrIJpmJok/TqEGX3j28ifKm/A48NHtSw31sPzRs2VEIFLYCgab+CdZURakH4JY1BBAAAAukGfCEUVLCv/AcavQnMXWyNR4chpKTJvYD18gPbe2BYnkoB/L8xf6YQtCc4uOKmtfXSkwEYIf/HgBL7B3CXhQ1LGwD58D3vNCpWH8y3b40HKiY3u4OO3zHrPcx+9CjumW5rL2z0zjz+NrikdvEFV5gORUbZHe4Qm+nTYSG7UsWsNOYLL5ui8aT3cdkUWLaRE8l7RUQQiDT3LyEhD91FoLYrTotdbRUfaHKs2y+box9yhGcEd5EUVXkECpgAAAIIBnyd0Qn8CSNROBiGe/l+YzCpMmDMMgt3eijUZsT9lBFUCWA8RDsYFPzrkjU3y7Zog8AEX9MdYBG3M08GIqaFJ0YOW6N+L20Mm34308/kbw0Oem8yAMd2tG+poEIr1XGwDCT3Mbtl6qQ89ZSWJMesYElIppQe0E/jwAjDvKp+tMw7oAAAAdgGfKWpCfwJJt9Mm8hiDlmR/9QfZbBFQHm0DXRb2Y4L46j63KDtAdrCfkMC46AzPanoVCQsuynRjJ9V6uIAJxSQ+UPyxEOhUNSDubHDjryfLi/+ej+jeMNM047FVDDMGCfzGGnj8WHJrJtcaF7EeTi5ckKdfw48AAAD+QZsuSahBbJlMCG///qeEAAADAGl/omuJU/EBAIKGvs/Pxk7C4yLkmIHuPeHGEaOttm5ZdL8XP5kIoM04j4vljNvmb1UGLr02ZRWLpqLbrvplvsP/5EPGisr1PPqEPGdnjs6IVgp4wPahql3HmoQuObgNoYzj+mgeg5PPVXpRtA4QG7rI+Zg1DhdeyeA0OHktw/B+jjXln6mSbMBp7K9wq23iUD+lAxA9hI6ejXt2aO8XoBiCI+zXrLPuCIAUUS9Db9kIJW5sS0QlI/i59C9jy7NbUlegZtF0NshiIl+PZDKLmmbVBxcLZsYOQi06/+24xIECORMGLKod9NG8YsAAAACyQZ9MRRUsK/8Bxq9CcxdbI1HhyGkpMm9gPXyA9t7XY974SP2o0xHccyEV0g4NwPX1xkPLQAZ3dl+ufbAZ7t/sCFbWPFvR2nfmyTGxB6Fr/CKNBwFIRss2rH/uxR4SkgRLx0bSM0Ct1G+YgMqjO/iLkTDaCUzxUqtHQTCGCFFyt2KWLgYAolgbAIMLHb/k2BW/ZFXOLy9AEWSGLswanSb1MRc21a/TL1LsmMHU+UnfcbUh4AAAAHwBn2t0Qn8CSNROBiGe/l+YzCpMmDMMgtkiW1tAA1xIBIVf8iD379EAB7LUf4KxM+DXbNH8QMGVj91cfBeAiMXKx2ybRTwej41oX7WDNXOsMd6Ua212MGRI/it8N2ixohiczxs/C2SZO6bbt+QTLClXW1eV/XEN3Ye9ksSdAAAAiwGfbWpCfwJJt9Mm8hiDlmR/9QfZbBFQHh03WfhII0owN6PpmEZ60wbuTACaZBo76X7SwI40qyP5tZrJ4dxFJDVzWjC25VE/7OlNYpJyC7YRpz/cBKqP2JUxrlYI+0N3XVWiB+ZUlrXZWNc6frPCHL3kmHG9F/yRkxGLovapWqWeIU+PEpeiGevzowMAAADxQZtySahBbJlMCG///qeEAAADAGl/s5WXoLtioWhP2BHbhFG78r0QXAgBLVk3TbmsuhK+SRZtwRHapSKGymdhNB2j+jsxOcRRLG9iqIi4tt3wXg0yyNEnqk7AJijANv0P/PPgMZ4ATBz3WWqndueS66wmvrW6LYdfQXgDuFd3fkXDffyPyoRCBKfUvxw/1p/rACC8laepQmuba/2p3Qi/0/UumB8U31t1INrwD3ffSF/CuWaNzjeRpyY0KNy8sNpSF4Td6kbP2JpK7TkHIWiR/9r0ThQdch641h69VOJuK+xEyTsINH1hXW8IqHf70NqLgQAAAIlBn5BFFSwr/wHGr0JzF1sjUeHIaSkyb2A9fID4IUEjuzMCtM412gKksOeI4IUeXpP0UAH7AEPcBgqsiTxltmpgD8/Q8JdWLTNnwJatvqKUIZARLoVr5AHkz2R4eK9t8Kbg/pfUmdeZMCGmvg0GUVOlWYQjrNR3yk85zhFkT3b2Jqx1xEtCCZAO6AAAAF0Bn690Qn8CSNROBiGe/l+YzCpMmDMMgty4h5IfqUy1DLGCbu52/Hv8gBoD1iB84FbbAhflAj6z5fAmFF1Yyv194iWlezaOVY5MElSyryKDN1kwje+DZ2onCtjAW0AAAAB3AZ+xakJ/Akm30ybyGIOWZH/1B9lsEVAeHTdZ95G4tpTecsAHMITPXOc/dqNTa0lsnJ9BVaz5L/jj4gGV8QNaRlKAP72TLzBTmZW1+t5cd7+pxyGMA/ZUMPq4Jwfw9ZBAYF8ospCv/+OVf0FzIxpcXJ1tjR9WQRcAAAELQZu2SahBbJlMCG///qeEAAADAGldkYpAHMiXAjyimn0V25ENFBYxQj5bfeIq2FbrHrU/omUX1JcHOHgpk0/RgNKZHfo9ZdLfL2iV0RpbHSHUy9yQcvDO0gbxfhrtmIKBV0OC0NkGkSlhujn7MEn7gE29wWgub0vDoCzPlQkhfWFRMHM8V7g52e2IlTKM7912bqIB/6WDBFvhYsZNb3E5BmVMFn2LjZ+db9ahwDvHaokKiZLtx0SyPqTVVHswzYi30ElIWTryp8HhhJKCSxPgYt+TseHphVU9Z5eQ4nPDEkch3A97faPmkmBADKgo8QM3czci/dOrEh4I35S5f+ihghVUs76k4efKp2OAAAAAmkGf1EUVLCv/AcavQnMXWyNR4chpKTJvYD18gPghfLp3XgfrWVj9c9JxytjIMSwpUmABCndp6NFLAYOFGO0/JnzfVjvsNP4B9jjxrKQQRmD4WDciH8w0D88tR0ZsP1L8UPscoxF1mD/IJHNQ8J2heBi9aGPsBOYEOU8KIMS4az9VlxhAM4V6nd6kbsBhJkTpEuBrdJO5+tAEccAAAACQAZ/zdEJ/AkjUTgYhnv5fmMwqTJgzDILdH1+BLPLDzXo5G2gQrYIASLLDn/A6Z0U54xUTlBsK7DdY39XanPNIhut1ee/c3aTJkQo/16MJMyBZk9JGe9gZzYXCXZHE/hhimwRc1yDp0dAFmYaKf1G2CbSz3ISci3Y457YcVI/qx9kPK6rjDnEOeAVMiUx2u4s5AAAAigGf9WpCfwJJt9Mm8hiDlmR/9QfZbBFQHjii7Vemuc/cZnZDPiPJ4djaHRXFiAD+Gln8xsGy3i3i/KG9lYckwFctQBLkCM8aXeQIWKn9f8TTYqpdAzByon3I2s12rM79d+Mq7NnEFGQiAzKJN1Tt0K7rBD8BSutb1mEFJwalSxpyjCW+bWd9j8nOmAAAATBBm/pJqEFsmUwIb//+p4QAAAMAaV2QvZvjymYcW9pSAIeK+yfhZcm+lRgCTVyurZEVl3AV4XlPSXi0M0rGZ29hgR3OENogoiri8SFDDZYzyu/D3p4SOvm8buMBkpMDRUc/tqrRHKj8vKGxPNUX13Ly0PspyvJis8ufcOwH8ncOqw8LVLDr83/asNz1sDTvtiHttBcXRt1Qj/x43AYRfAzfR1tppaVigy3O3TuTg62Ix5sjMf2BWVHHiB7vglf85in6wZtw8wgV317R0rDzbzTMYVvb/n6/v29RVCSuE6+8a26sOOxS50SWJKKB5qqJhZF/xfQizmpUpO6QghcVhHeFJROC2F7agHGM4kvIWr5l7DHmVW2K477sgXnyFLhi0k3jmfMIHESbipg/+dgHd0DBAAAAk0GeGEUVLCv/AcavQnMXWyNR4chpKTJvYD18gPj41RPwwjTNDhdj0CuabzmTH+QShrzmm0FMdwiL0XpuVd4pwBVsx3tdZ4DRXo8JA4gx52mwqm8DrzTFSFKW500noPkajNrPUgR+4gqbVSpCiYYg/H0DwMsSvb9kicoAGUn+fa93FpG1m71chK/SNLncVr3EcuAN6QAAAHIBnjd0Qn8CSNROBiGe/l+YzCpMmDMMgt0ejfnZq/9D3gjkj/q+gHUAB+sUM/ez+XBXipK7K0XTb3y8xGMY725G5buHGc90KAowISCYtrvSY0tF/5XJOFLn6jiA6fk7GiGltVXqjVHsViT1bPyMB7/vAR8AAAB3AZ45akJ/Akm30ybyGIOWZH/1B9lsEVAeNnLRJpXcZzqwa/2cISqoACW7E22X0GEEE0Lig+3stG/5fmXA/ghbSxJf+OKfCnUuVuhlAMUffKQkI4mgd1EkrXdtuhLV1BMiSZ9ZPmdlQLtyxYlVqkmDMr47JlceAuMAAAEhQZo+SahBbJlMCG///qeEAAADAGldnRTDL35xATz/PR2z/ZZ8Ck6vesPqWFx6ofAI7tjbtGJvi2R9aqfxTRDpi5XMVxFXypsNZ4uKM0HiCN5LvQP+Ii37iGaSVpm910XT8rfC0b83fdhX50sfIqxMuXV2nswtobucUo9q9ApKMkAQHVjqbqMcPMhJjydoXkWm1CRD9nrI8P0TaXBUo4fx9uhEPIOOjp716Ynw0PyVs9QlKM6jS1bp7rHduyETiry1dy4nUXyIUJu7y/663myGaSVhlKlwy4I3szXy8A+GmL330dFuyPnNvHXG7WoEpVs1W08zc5tt1o5HoFZnojy2GOoAXurlCYa3dexw7eKcmQim8CjLs8YmQX7HRNcn/fONQQAAAJ5BnlxFFSwr/wHGr0JzF1sjUeHIaSkyb2A9fID4IbvGR+RE3pz+wE0lAgBtazXkogU/3NYHDdOUAR/+3ZTsGXxGZR+Nd0G6aWmeHvPZW+uaaLn+Lcbh0HkmY6Oq6qHnn2zrCATncBJPOdhri3V9JQkPMEE1hQ7I7wMreS/MEyR6a/F7WX6SUhp37P65sVBtk0+POFQpRH0b700cFgCTgQAAAKwBnnt0Qn8CSNROBiGe/l+YzCpMmDMMgsbPgTa42S7DgAZoHGETyv89xKN/Ah7SHTbOpA+8E2aN1X4nmJixpSkQ8Ehbg+F/Mwp/f/1SxSSTbF6U8vNqmffDzm68Hptx3TQa8oQAFuWz5RHwjpy5dDUPgRQC3lnZyXlshBhEIEmNekE8i6qeYgxVYEqFZmWCb8YYV3DPjinau2MMl/+p1hpe3rqAdUB+RjsKwLSBAAAAswGefWpCfwJJt9Mm8hiDlmR/9QfZbBFQHNYsk1842m2vs/dwsoAGoejdfWvpD8Kg6tR5RhvxIU6zpFDymIXrIAHds3mp8GVGO98JvtO7BYy9caXDZwhGfFboUzjKYJTD24SUmYmyIdnDwL1uldgGVYjS6WDQCvOuEcB3WEmGP6VtyyUj0R4vOks8q6hLE9n7JqslwLIaJah+7RLy4LOVzM0d3ACdxQRvzuYH5F+sk0jzWFtAAAABDkGaYkmoQWyZTAhv//6nhAAAAwBp+E8lH1sS9ALKg4SABvRTZekYL2L9L4ozrDqNnrg4sSP4l8YM1f11JTrSlhdGohNroOq41JjCQhHVNZeapVU5IapjkvqENCLqEDPh/Jm4cSHNxbhIPiGjQ+qQK0/FBrjwcri9N3xzP9BtJwL6EXh46dRhGZ3tBCLfZddPPiOBSXYKCfLRrjTvKaItpkb3Pcr7Y2vimeNee+Lu+x8lg4xwJOb3HGgTcXVsNiD6epN18mk80JSG7dKgmgcjDTuplfPY7kTeMPFLgA7g47V5tbUdFbbkHakzzqGdBzT5yob0x/xEOA2ig85dO67LwvlYtegG8Zt0e3VHX2m6kAAAAK1BnoBFFSwr/wHGr0JzF1sjUeHIaSkyb2A9fID4avEJIXjii+AjPBI7y7gAdkUk4Duf0e9RZGk9RGi4S2klINUuL5KY2o+hspLRKM5jP3ln6tWg3jhFTiLDlhXNbJVEA3XKzwv+wduFeXcEd5EYiqPIb5wKrfU8vaLWFTBua3DHAMc4AUgHMcnOOVSqBcFLEeD4H17QqNXerlkVBZIsOcMRkjiUkq8v/k8utAAg4QAAAIoBnr90Qn8CSNROBiGe/l+YzCpMmDMMgthUr/sc0HINz0O6/sEAHq37t3FlAPM7IJKodBllNcGJkuL5qShyK1r7skmpDautofE8Usz3MK1kBE2J8kYVKC6UILo62BP1nKtxuZMhjKwFr7IIitVWDnQYks1swp4WjS9cpbb+n0dwws7wAAR7nlO6CdgAAACuAZ6hakJ/Akm30ybyGIOWZH/1B9lsEVAMzlyOYzoJ4P2G0sABxs06qCDLjVh9l0WDXgjQ9AXTKFOex3FLykUeLnjk9x2n5sxzqySCdWxJMonNslvRm9XtROUTtvFSpzKxrKOXVIVvPGum34yGbBVvrP+ANxWt5VelMzYG5N6EQrdMwOzHT5uvdLF3Iipu/JzD/v/iMPzDqmGpCd4qE7Fxh2sQAXEGLpVsRW4d3xvxAAABTUGapkmoQWyZTAhv//6nhAAAAwBneE80WWY5Pus4AQp7tdp0KI782wgvxwVxptMGdhwW/UdfCyy0Tj0QwmkEdmiIhVgGBeYISdKr1JlP+xQ8hW8Y63uK9KBcUy2QSxIkXQeO55qy1KayHR6s3kMdqgiRA7lcH9W+168EIo9W55O2ELXHFdJKTzivXYxYFk+cPyvqYDmSyGtjyLScMG/viLBb7/J4Msh4LNGX1HvAs+GrLId1AQuxeFhxLTRbQlzyyk+L7KolFGzV4eRdtYDOd0qrQl77vO+07804QvfTLj0FLSqSOj7a8S5J7e+sVgSXEU7qhRNsVRfupdxuD428/UhuO2Dd6oZasmYajGxV2UWuG7WJu9bPuJ8oGz8o5WsTI8S/UHcnhhz6LgCONUW5ubO/a1CIRBF22y0qF/PFWB5927EKMk1AbN1BO7+JuAAAAKpBnsRFFSwr/wHGr0JzF1sjUeHIaSkyb2A9fIDyPsDCpeJktKqOgAnbi+zC7l7zq0IFgMJ9GL7GtAUZ9VhwQMzlI6DP+B5pSNu9nxDYLIsSpDcF0UY3wijXXYmTasuGutTltpMCV4SFdZfqxbgivI7wIEqvL+IZJy1qWPQjrpWH2DHj54yZHW3l7QGdY6k3P+gjvEU0yuVX+78fPGgyQjvi5bkkt+uVBE/UfQAAAJkBnuN0Qn8CSNROBiGe/l+YzCpMmDMMgS75D1moOiPw4AvMfChPLYmAn2rBaaO9YkWn40T8rtkHxscQA2tV2fBDuxxsM603Naq/sxV88+KD/4Fxh5F5LrzSDGDybYmr0h57FtLC6nGheDOaqmBQE3HH6TDai0K98hsASQEP2mReY1rhGDqFbwRLeamsSVtCXPpT5j/EHzy8gWUAAACwAZ7lakJ/Akm30ybyGIOWZH/1B9lsEVAdguBXf27jgBuafm9vnfyb6ftKMKGracH72nlrq4Aj46/qY4XNYkHQ9EpvdMTaTObcKHfU41nvhQWZ00pjeRey4hscpuq0D1OhCoh73GWrjYFxf9Xw85FWSrXkvdSrpKxqxnYDjHHJzlWnvHAz4TxirmGOSjo65z16hjBX1PHdDFIKGaUOWl/cgCuCuVufemaY3GzdWBkWjukAAAF/QZrqSahBbJlMCG///qeEAAADACtb+4993BfACE6ziXvYF2KgkZDRxMTTaYLsrfI3krVRLMwPBOGuV6CO6f14nj9WB0lwCltsCMrf64IQT010AhmJBW1WtIrUGSqN29PnPFNVJEoD3pWnpXMIDKFXJ2W59T47gblhQdQpNOHY3F1Tk8uDdbbG5lh/2alOCCD2jK3KNnTgdnk2eq/sZC4CdgeYpPiyXXOOsFZJ61TIAQPVwLcHlTeRYXIcm3Qp88jJSfWVgGZfs3D48NQceesS+k7XsV7iI4uxWJRW0Kx3hALZi3/8Qv1XQNfmH6mSY7DQ1CE0a/paIMc9aBdd9x4EmTwk8Fc7IoGJ/n58yXhjr9TUGHc5dGCIAsYU2izDYpAFlkkEtIk9DyJaGzVxCOLXVz22EUpomCq9NFhMxxoLPuHOMyyr1nn7ZkCBngSSFAWIg7g6LfWOltyh06mpe9pe9Qgtd6lJ3Fzi0ga5FmvEUnuwjTmb28xJR+RdUFy2QbUAAADjQZ8IRRUsK/8Bxq9CcxdbI1HhyGkpMm9gPXyA8sa4nF+osoBJACKuhVK97qdm+DgJg/uQnIWXGTbh5TwhwEQ+Q4AxIMatuETaIwCRfgl0vQ1kkhWhER9Fzntt64f8kpOGIYoOwko+QseGgh7nyVGqe8TAmD/Yu8uqp1u7kU/XtkvJX5q3GqCgXmY4T7DmesuTjAKpeEjdn4K6/c7FuaGQUysI63R793VJiwtIaKWa/Yv9aSHBaNXZbAZ6nebJpeYkNcX0yG9wzVmGod47AQtrUGiEFFBgEB9cAoNNHmzsPum8wZUAAAC6AZ8ndEJ/AkjUTgYhnv5fmMwqTJgzDILHImWOR5iPgT/3lgAjtPh8wfSkLTZ4vridxhFMvNlf9eyw/3B2rjdt91atwlymvxtsrXSZC1QbU+gtqOVU8dI9LGe9udFmQJ1LQIEFkjGrgBz6v4BKGTXbdNitg9+SLQwT1wSI1JlonRCM3z19CLuHMR6YDLrpXb5aRlHs4K/Hvy+drmozU214pb2Wzyhr8vJg9nyISyggTUBVjaMs/3kAagHXAAAArAGfKWpCfwJJt9Mm8hiDlmR/9QfZbBFQHNLs8SAAsiTMtMocCxHX4ttx2ffBbS6f3+8+IOBL3IZgd/+14rEyxOTkt/I2QVMeffHbNeYj0DRRj8kzZk+TEjJDcfLPZl0XS9iSEcRcd6r6L0f6eZbtitQGpvfSsr+yQRIrXpp6y3mQUbi6l/JBvAM2bklpZX0zq6f9likfSd29dJ9hMCIYebbc5ytuT6WnEMsUEPEAAAD+QZsuSahBbJlMCG///qeEAAADACte8Kx2HpaBaPcun3bwCFSU0bWgA4dXHMOygJZ828e3WaXD5NKOw+fqI2YEqSG8ezuXcWXDm+NnE1axwZV6Pq3Zob/wT520Z/FKKu4uF0zuX91HiF+wMWmNxcj9M9U8HaOmGrq1egUrq4KCnXzY7v9pPhfRGHlLIS6f7dd7feKMht9ouS/pOnBE/6gc4hVfFwquwWR9/EUflGH+gXa67rMpsaYyaGfvyhgqYqNOmLXRMdifAJhegVAg8WXtY8yRr/8OdCJxY/6xKIo60PoblncQuaO24AkXRH0wML2KT5N+uRc2B8k6tg9IHdAAAACtQZ9MRRUsK/8Bxq9CcxdbI1HhyGkpMm9gPXyA7BV3X3+1EARL9mh4AxjDBqffyCrEusF6VgK4j2MU8Udug/n7+Umv+7MDbkMN1Gu93SE3EaxUuWAajOHU9I2V3mrg6g64RQ/dbB+X/XBOelBefjAWHRWIho+WsDQptMdXsXK5sms9mJxlJTdeRrSD7mIbMjHJg/UTieaThs9pN4ZBgTVsD9EoKbz9Xzj3XoGgq4AAAADcAZ9rdEJ/AkjUTgYhnv5fmMwqTJgzDIK0f9fFNC/mf4IAAsPk9x7zupBpZlZXAJhg8bgexygYdEawjbtuE8pZm5z0KwryU6aCjRnum36L/QexllVgtV3N4VysMJwINuf29ZAVn6fFKHdrCMwg+5h1iu1FPzmeXoKEjztLPBKn93ylWphHvPEJlFUPDfG5mWlz1lRNay9O+lT1Epc6cKs1iCR99ePWrNfsDtWCZv41gy1MTjnR4MbpFf6lNRwZIoYW4/T0/nsu1u39nZ80KY0x35NKOiSLDr+Rdaox8wAAAK4Bn21qQn8CSbfTJvIYg5Zkf/UH2WwRUBzS+lEkw+qn8BAB0Cim9xRL40uJ1zTPSC36JSVzc1aRk333p16hqCdfvQBf0mnwyV1FENXOtcv0akalSqyDBB3JiWJVl/QYoJDnf87ZbUe8LgQPm23vCqFJbdm6ss45M34RZzwx+RKQrJzInAUbCTo2lNRQYSgcr0ZRuh61JZh0sd4gw1ZHQ1vXjTN5lf88pPbBp104i4EAAAFnQZtySahBbJlMCG///qeEAAADACsbS1ACWzxR2Kfc2SfQIX1H5xCnCjov4Kt8B8ne9iPXXFhp0FD9rd0/Em+NDEZ1xyMULoax0IJDi8JJsFGdfMX8fHYcxfyCAZfv1yvAwmKdvKTVRLdN0xKWHrmDt8OrEc0y4ab2UX25SD5dv3D5Lz0qfFLyx596tfNrAaTyDKwtjmWrwpi77qFloKuFukzk2V0pO4wyYFsOmj4r8QrTKgEPU5MiphFX3fEyL5DI4ixhC++PXNzb6iThLdaXd3rLOk8K7uEjCqX8WnhH5FkW7+887qsBWn54PWtT7lPuLR/JbM9Z5twtQSsFHFNzeUikeXAJx6lGG1MiFkSv5wmyM2/P1lS/ETaTULWFvb7l3sutlEELupCDRiRfXFL6yxy0BvGf+3XFpWYOuWkARJ9pJgJSTYXfcU1pnv1E/uoJJDZjU1KKIeqqMwX7dAlw54TFTP6xpUEAAADTQZ+QRRUsK/8Bxq9CcxdbI1HhyGkpMm9gPXyA7UhoqFUDZKEALHnlFK3jgOB9v7bRfK2D5Sl69Np0EsZ262baTciOBoDa0Bru4/2Qgt9WVikQKAo+GG8qw/OWqTmdEEaFYxmjnSOsTNxVoxMzTHJa2hZnaOBVym6t55sUK1AyjqR/Z15Q8HK+jXK0SDGVthvj/HKxedrPSrojfF7QquJzseIGLCZiNg0qdtjQSvsnpQzaPVruxTsM4tKqPrftTbbt/O/t/iDmys44Xzm2NW7GNB6G9AAAAL4Bn690Qn8CSNROBiGe/l+YzCpMmDMMgrhK1xfuvuGPGSXwAtCbeJuWqVKIXvNLouXRS5N1JjkwSYSqF+zabuvhSUC525w+yeQ6d1ovZqGo/yWLn9Q5mYJIjYdv4rPXN9Uy47Oy91rBGVNYy4P8AZa7kc3oEQlU03MgqWa1aJMRy+IezvpxPeYmh5/yc5gVcMZA++Vq004TIL4UXWqU4aUwFdPRcaaN7usrpe8N7DSEDkb891/SCarvX7PK8JGAAAAAzwGfsWpCfwJJt9Mm8hiDlmR/9QfZbBFQHPdXxw1CIAQ2LPrHXPFat6mwGPlRaWbnDLoNIolF4n/jMrp5eX/dacjpb4NgOWTi9D6ZWEPRCR71tD7eKkHRIVzqgA/sSq7dPfaJLSnZ1W9PFQG9oSzn3CCqmcXKakM/Nylm9iYFgSD/52uD+CAu1Mje9h6IrjXgQQhtWmuYxE9kPskHtbybDxR9fKa9rEnfxQXCuHmkmZkjyCKRKVW3uonWh5WBFA9IAg5Jo6B43ZaaRYiu4XQB4wAAAVxBm7ZJqEFsmUwIb//+p4QAAAMAK1v74LN/cAJph2NvgkAqq+M2aCsaLD7LHDQwMYh+LCwcgrks7u9EH58I+FGRC5ZjOq/0DyHWdh7dhcDPwWzXSKJC3HCC7gPl6Zm8KPkqbfOh3ROk9Sk11g3m3dW/fQVYJLeoF204p8zw77Oa17yPQ+dkrfFEp9ZnEpqNk7JD7grwgIyQ1hA7o88CFPsnObIrSRpPXH7PmSL8hl7gvYacrbW1wriqcgXVhro1IfcvSORZO2SPwcKXXaXzbzw+lBf+jENh2ZrYgDJjkXkdz3UsRTfOivzGpNZkf1lrPrFafEl2lYbudr5bbyKfshJRA4awr1eJ4K97rUsYVCIanqtzNE+Wwi/lHugIzOZkE3QydtqyCpsc3M1muLH1EQiTarAgoGSmif5d2UXSpPBAqOQDjBoI+Y/ONeQvnta76IivpWk62HI01aB/TKgAAADYQZ/URRUsK/8Bxq9CcxdbI1HhyGkpMm9gPXyAbHmKADlHcd+Wk+rAQvCdP8ZGR0pXicLQ2pWkqSZYTUkcn0QlIgwx0LbHaVCeWGndMumjj4UzHjHuEBsUqpCvX9En3GkI/k9/lVZa5TGJIBfJuAQIsMdWLPqs0ejfByu+oOlv2TArRN2ORqVoyCaYFFlzv/IiJAjSB6hQElAwtfPQ1NqiOcW/mmYB6/5+gDNAGOaiMkrCFiv1LSCU7MckrAEhd1cJGIkKlT4AOxwlu81AkDYfLMnw5yOBgG9AAAAA0wGf83RCfwJI1E4GIZ7+X5jMKkyYMwyBONxcAQAriSHycWn372bphQtCYzZZpEPbvoNi1njOH+W6LwoDR5PdRDEzKnB5BNhLAaNqsNs/VO+VGIFFVY+S1DHhTqPR8p37T1aOMRki1gelWK5kVMlIMD1E0PZ0aNlnU4PDnThjc0jPPbc3RsAIf1fpa/lWcd7P5SS9jvUzOqjZOB3vtgJVDFGFUv2AtsOgGxYNZsfG3cDN3Qx0P+4igc4s64+5NFZoq0QWkBj0+3pDha8HM1WDNyYzG9EAAACsAZ/1akJ/Akm30ybyGIOWZH/1B9lsEVANMLiWvEoAggfuHiwMW1/SAWcsKISNfSpW3X5pz6hF6BCTsqbKh4zvXJXRY9V5VRTbrBeug1nGTZdveAQU74AdWohKMCcJr85+ZuFDOxExmAfjqS665otLh7oR/OAgbXIYGufntEYnVqOdJMpgW/+Pyq8QqNeXEf6dsTOMX3UuZqGhriVfUTsZntAAfoAAKupOoOAqYAAAAM9Bm/lJqEFsmUwIT//98QAAAwAGT9N7T7QJr4ADjetL+7gq0KyhR7SMMKGdZbWMvQJgE2FFjYEqj8iJipHVEhXPL1yP/jOkSKGIjjDqlSt3tmeWPw4ZNFeqaYv9XrYDmqK5nbT3X+Pk4r6b20diAvHF5dOjset7Of17Tq7w5KXlcK1WpRTkSXqv7OrL6btlJhqORup4QdNQYcHwFWd1C5YUJaM9BHJcC505Ae+NvNptBoqHjXcMd7A9WBiYWixKqa8xptFUSScIYiGkaDGOWcEAAACQQZ4XRRUsJ/8CSi75IVvMkAFnOmfFH122VnIF/6PwCkmd3BbMAAo/g1bIDnd+45UdSdB53/MPAVW94ZBX6QeNI8Nlf6gUZdYG1HGugXTnFBKr1BWjkR7tNpxjbSfgSVLcmK42OiVzWBomUIEUe36lIYW/wv+bj5bs5t54kLxWS3o+fbqc01rw2IH9e/fHJkHpAAAAoAGeOGpCfwJJt9Mm8hiDlmR/9QfZbBFQDOC3JezcEiol8ALZ29iJg4c3qiLx22K+FHbfVuiG8y0FBWogguBsXMOnUP4BkVuxWyhknwp4YGolK8dxaTWnxYToAaKOHAw1/V1AEkMUR20MCsJfthvtCoU0HSAZ6Hz4oKLrHY3CzKRyjsrBCqt95rRsvFTQEw3BUi/EveXQg06WDBG9B6Cgz4AAAAl7ZYiCAAQ//veBvzLLZD+qyXH5530srM885DxyXYmuuNAAAAMAAAMAAUeHteuN3YNbSdAAABrAA6QfwXkYMdAj4+RwjoHARIvEyV+8P7/iAaud+QVCPRiL6vi1SR0fD6rWe/SXmtHlR90CEUMVNhberOKG/fH2UIMp87uYJ8rbkNpHab0EM/P1ur7pfBmyXmLuUZ2gAyC2MkCZ7QbVBE2YLIk7XWwgeqGn4Ozu+vc07EfM+ni+G8XD0zs4cSxOa4hrMLGWFaORXFeiNK792enuG6ZQIf1YzITXbG1p4bObLFtlZpwNsNTRniawP0uu9kzFcW8jqIdAHaNjJIIOmg42s8kWf8LJh2YOAKF2Ap6Nkcq48cg/AaIzsCVMx4M6DTiik7EdbhNE2ABkj0xx0hvbqpnXL/yqr7oldkULcYt5Q2akbfecDTkYQ+B0It9O3qwb0nRxiXU8iJdorezpc5UEBf6ubOjL+DLyPpxgjGP1X+9FLfp+A6FPw34YBsXJI7brnC5hlHsCNQB3mJE7ceQwRM63dnpT6JLYdDRVd0ssKWHEicc3bFIERfDa7qkAP+uTzygtcaTytfOXNEWfkkvSvNgVDx8xwl6b/B4b3G//wgcaHMmr6oC0WxgGBkA0GcXGzZIToMNJqmZS1Z6f3TFowh3N10EuEfV+oC2/tq80T45JGDkpyhkk2rj6258I2kFWLYmtf/3VgTLo0fcWduH0wK+9dpG4jjJ6wdW39j8IR967PAOm3yC+DYFruxjEGuPzAU0vPbBdzRAASvWbFn8PMH5ocxVrDN2DkvS0SBTxgZ7w6RmwGzDHGbWpFNS/607628sxlfQQKGgtTf2Mh+kZSEnUzRCFZcHvhxeQFLG4gg2tLZc/mfZBi10p0Nn+N9DHAdOx3aT2/blXxAn/SrS3DOIS0oDLIOHVGLUfjVbZRO9Hk6B0hf6eRxL15nSQXtnYHZungB+alCZlDu3Zfc8Vi6afdwUF5SENPyW8M5mcVppGhOvAF6HHOlI45sZr/TEFDF5G7SdxYm9BoGiKhOzltdN4yDPuu13f8jgZI2Mmdh7fSQTTI+bTq7A4NaO9PNCI9g/biuBK+BFu0+eYBAy4qe62JFFWfR48LS1yhWujXEuzU3CNmt0axzUdKtqhwOSd0/uZ8ht2OnmXJwS5drCrq5+cG0Ly+0Xkx2S1xqFrN4H8C0vnRyvrqjVtw7kQ28qYL6hL3TZjnxh8gpxLc4QFo2D0n6N7MahZbyi4sl6E1fVFY5Bbw2iargVG6qBpc90F1dgTyFn4z27zlg+fw99vAoAevsxMUCJ4uX/ES0qkx2W0SkLGosyqTl9hmILSjDaEuuWoj/wJpTKq6jyDcyyzTNMv9kCcD2gGyJPZ3vfCH5LxpB3JicLUYz+RoNjfinxsQsaAIjvVNpiG4sjLVyIEKhNCl/069nDQ3APfzkgdQGv8dm0kAHY6S1f9H0HTA0B1ErXNkh+P3O2h2Ul+1aTBGekj2gYIzw+EX+8b5IKfoMJtmqM8UJP6oQYBWF1jeLXB9jgyL21Z/sWSZeDpCT/eMCIbrbluYtX+Zoq0gxky8kjTDLV9KPStzdysuFf0BNDcVEM0ZViYA/xnFjb/2fb8POuWg3PQsbm6c18rMUkNtfwKPYpcgx6jdTqpspgX4N5QqWBKZJo6ZS1gIeiLXksbcBgJ/tq2jpeP+NaRJfBF8RLbBIlT28Hcf+/WgnmffVfjGa19lQACFkLYi1ElDfBKaj9fRHi7W0gqzXRTPKwY2bExKMiCwhX08Y+JwJ4tzy5Vs1B0pb5OGpjXVmRpT0zXlKCwz6tjy+rnIVsrkT1hsAzsfQR3TUCn6DFpFvhG77OduKjAv9aWyzGZ/k2hmakPF7BWMqhDGvG6izz84PQhhvQYn/LFREkkbCU8X0dRPADBZIxy/H8BwouHITMJHDbd39InscSIRyyRyJs0uHOjvkhUazTBOHm+Pbse0noFZlmYWK8/DAhjRd/JrSEK9UxMrBBV/U3WUAbMz7CKRzpqLPCM+w9GRLDTBUbOZfd6+ihsMbEJPa48c2Gsqvb4YkUj6q7wlvef6zSc7fAverfajeabdqTQkCEuEr939CRGXnC4LqBOSC4CkV7lelJQ/iJUrGZX0v3QsSlWw9EFbiTpevUdXYhotw7lpWa14OsjpfeOBuC94d25aw/nnZWyeH18CwEB2oK+R2Hws0San46V5RFXOX3ISOADFX3Fm/FXsxkHNo1+aFJxK+KTzjvy+HQw1V1VuSw2xvAXvvommKyyDNgsom5fnC/5gHsNBr3X8YX2ASqEexMSHCynvJJCBmF4oodQ5HsrMrPfU/GtKtJfFFn6NkoBZvAk95IbNGHaPlBsTiT2FfZM3IjGk8vv6ve1R44DymnstboGHPtrKN+jgZUkc7zV0ZBzkzXGz2tmrbNJzG+0wgCJgzKr+vm74xGR/r6KnB5l+GnV+ZI8Agr2LBs2wnerThivVupunkvX9p4nQw8DbFj+h/62i5ZeZJaMBtaFer/TURDo4UvBnUO5/0x2mJzu2YYO0x0PaSyJav6vDV3fpxue5IUyEc8gmC65AZ9YAOqLPCfX479LhP8fByz5O/a/+A/26MwGOiKDU1wNxv3z8Pj85KPq4riChMu2lYGs4AAYMHJmKeoXQuOc3W17HX/ivMSb3U8odcdNSqexQG2Y8Tq0UqFEvMudn5bGaitePrB2Izbxs4LbyOXVYn6O7rjskNJVsc9brco4aahVoGkn1ashbbr1maCT9D448mKUtdeOQpwK/Xw7jw6hOZP9Zp8SqDl7m355q21AxHKiZTRjF8EVmzL23L+wnDgGNdMEgBXieAMiINe/yX7PDlaNpPe8rnx0wD01DkIFdYB0PE1X6/q9lIihaJubNv1V/GfJSxrq/LRNQlDT+Nipej1KRffwy2IQEuDHWbv66HNOCvHy1UE3DYlftdGsKEQqNPNfuAylCC9cfjNBQzzk5Z0Op5qXRP3XAG78Y0x0I5A2X8GTm9nBv8OBcV9HzmLPjsu96exldo++o7QwW/J5yku7xbzRacHgR6lOTl7oLkIo4qcqcH8k09RWGZYfl6w0ADabMqI2lxsYzqVqQ3ZTRZobnAQMS495ezjhUGW7pS480vm0mnpwYerSx71o85eQDCvQrzqIz6m+Dz2086vueDV1jJYm+lojyYcrlr8ZCjZe5omUzm3vjKneAAADAAATVygAAdGAe2BcYKaBAAABTkGaJGxDf/6nhAAAAwAqPvCsc0+BoYQH/chKPTh++oj9H2PlbL4APbCUDFi7fbkx6n1B4BAppHceFP9N+Zw3jqw9Ssca0VsZpZGzRy52rOW1I4bky2PKVZBne2XTWYFm7tTaNoOk9QC4DMYPpZSINO3KmVdf3CXMAU0DUSQjzycBsBfmiBlXA/HpmQ/yU1+EPKJJukSiAZV460PS6SDYDhXz+ZzaFJWhbz9U2zHljU5I6ENW2QqG4aNLk9szi02YQ3LTTgl9LaTkX1By27U0cVeWm4QDr9RHoJzP3C5636/fqPEIub2wmwTMloIfqsTSFtMfoYvqwbLFAKACIkGxMm9JQX9gGtGPV2Ltq6wJXLeyGIoaVtgALRyCCRlWQVinij21pnBC13AzUcwfKhpu25vJIRScN84QEF1n6h/lFLQIqjLZh9uO2DEztymu3zAAAACjQZ5CeIV/AAADACPT6sARIW+SXcKkKthJmZ7DDAp+LFS0vXcqTBpZMEf+8XKDzEt6ZBJI51kb5+8KFTcYu6nWiC318F0MsQ9KYxA4zKwUpGqS/LQhVEaZ5LoSbf139ooUjlYZvaUdALlSYMILdr7LrI+5OCycuNU77E4NE25pc0utNmAb5FKmcC5SHdhIf4ZPycoMHWfpSgAHo2DOZPG9kIBbQQAAAKwBnmF0Qn8AAAMALpnZa4t7lxkALBHu9i6y0L5fWetOCYja1YdVFqEoRcg2+UoDR6IO/7zl/BEbe6FRgKFIUwfNUPN/5P8+bR4FqhImqewazHIHKwO8BvSx++rRs7JiAF8QaHzG54AKWcFQNfu4cuuuJZRZvBvTOm7u18XFiXzowIUZu86fX6etKmhG432y4/0quPLGY51E2TnkrxpN2rcYy0l00HPokAxDNgb1AAAAiAGeY2pCfwAAAwAv8i6AKATVWhzmwiLw76mSBcbxviEUWMeY8Z4UG7sNaH6AKSIVA+XHqNlZLKios/g7KtzvikoEwfh8POnffv7KQHpWvHhrSgGjoq3Rrf66SJm4k/UsJNwDe7eNEASEsFJXymfAD2sW3BRsOmKYZhLLKT0XlD0b3Hi2x2lOAl4AAADaQZpoSahBaJlMCG///qeEAAADACbfItOCyAOhjpsJwVe+bnOFlrNgi9w0t7vVvlUFR+xdyrCv/nl2hLb4HhB7l+0OJdqejRK6xzsMo3cnVDrvzlGCjXwius1W6Vc3orVhxNse4jA8Mvwyx1JGNCNkrTE1LAZVVjk900HGzDNeboBmKi1eBfYKFgDtMK34/kvEZofkeq2Vy5jL8u1fqra3NUA95+gG2AvV5VD5KIvhll4twVE/+ZkTzCRy5ogRiHSc10SMS+YS6M0f/J0bXt62Cia8rYl0/v5hhRMAAADOQZ6GRREsK/8AAAMAHxAdgfMAAcCZdP2DCb88ubF+U9Ho68uCNMn3n6XHQQCrEcMgYW9Hs0xNprdr4IFfb+gjQauMKsJgn0Yw3A7traQx9b8E7oTFcyMO4gEJO05cOG8q9c5NxQPI9Cxg9VxXUqhzKWIxQz24j+09Pn5MTemLiFUaqziEBc/XQwYfjmEieD7cTzcL/gvIgoSa6QWLwqFcickujpuGlX8FAMFb5nLTmIuuLjLScjTv7s+MTAePL3NZv/HgU1WoRA6R+mboN6EAAAB+AZ6ldEJ/AAADACjxYQYLrNuawbYASuhepOprw1S57XoX8T79ABxJdoILHag3IeDyE8knnITnC6teWeQBck/26BXveiM7aPjEK+WOV1x4z//wVZ/k+YcYNZ6K4UC6EMCiPU8KGMHvmJ3IEDttg2LFJpj3hbCiadOPdLy2fR8wAAAAkgGep2pCfwAAAwAmsJ4noGJHicvBARq5C8udD+OEAxQA2sul+3OekST3pcls+7aorf4Bqgaip4M605EnOZV/BX7HyV/hj49R8wlsYbCJDjueskwnpVHKrjm4bHFxrxlU2HouqmeAXiLTcnLUCZ8N+Fkyfw3lOjZBVoWE2AtAIVK0Uh2MdGYgpQHywdoUNghsLhbRAAABOkGarEmoQWyZTAhv//6nhAAAAwAj3SyqdYwF7u0G2XcXuAIyjrueuZjOl6+2vV7ae6uknQZ1TUF/9TPPE+kWDVKJ9X18lmkeKR9UiXrDJZXZWYxrv93+NiSICAPm/kcwRxw/Q0QS/LEs6txG9iOFk2rmgTskhh36iGvM+UTx5yVZOJdxLxu14t9eeKCPdB9dYrcLjlL03V8XsUn3I71rHCHo+qvcq9vj0O5eclNTuTcDalDyZj4E5AQKwqHPPHj5xKAEdP6INyWO9AjQZQdrhO48hNhDt7LKFCs9RdQgtSibhmcNB2SUaQ20AuuFKGEyYfBFTFXhv0NA5r4drcupTmDaJ9sx8v6A+miDTQnd4zOtzY4ppF/0k08RJwRlYKVCvk/dCgUcWZ+YQBxZdwVCcorlKnAMtyIUOQGwAAAAvEGeykUVLCv/AAADABxQHYKDQBDx2ACsN522rqRhJz2L4zn+7882CMJo9mXxoTMjERanmSFxGfsm+133JEOwPquVhMcq5Ayxo9Bb0pc9VUvfgjbU7b8ef0BxEPgbcLKVXylQB92b0B8x4LvKkaPx7rzx6s0RlrKQgbWgJtGOnxkMTo0zkTVzZxszsrgiXaBuMzIYbONMo/1W9xOfAhO9QWomCKk2BKTMfEqcVWh/Nw3l7BCUGzp4Np+7jiGFAAAAngGe6XRCfwAAAwAlSVZN+H9gCjS5/QkOOndaX8dmVosd0qTYOht3FXWsL3VQ82kxCX8CPNHlEQ720e6eOxtPIdNf6PK3g/RsQNOQcZmzXn0WzoFWGQstwZdHXruDORaqQilTpMns3MT+JZQ+3ATc4UCVQF9ACucpRWL+WP2dpFLRSMoL4+opJgZHXjOF8Kj4CvgiTUIvpoD8YpZXfabhAAAAqAGe62pCfwAAAwAisK1L4M4jGAB0jmBks1dTITf9iZGDGA1mPkLM0BHykFL6DhPuazHUVOzWz4kEYGxaDtHqfKrup0YO/+hK8Vok7b/dhuRtIkS0Q50dZZffJGTttlan4unX4qaa3xVdUEBgsRIS2URDU9vZJleLnYvsgHXyg0fxiLvFPoElgJAyRBPMgzonfA8emxpHl+5AHXlszqsA0LLaRU5DTUgd0QAAAS1BmvBJqEFsmUwIb//+p4QAAAMADo+yh+zbjgBvUI7I34tD7c9DgST1F5GJ6Grk8PEN8OPYAXTyleL2buNz//5AR6cb2icONpiDFA8YgeHWg2us+45Gcfg+A4/+Ivtck3+2BOKgRa0+VwmokEhR8eWn4REvgMGhCc80llIiYp18yDc1/Gs3MuOKZbGGF9g0S79AADDxpp9KXqA/6WdhlwIBBPRoQiDx/babgpGudiiIAns5IkSd1ZXNRQmODQbX/xmtFby3YNitDUvMay32N8gBHDo8GxLqyY3gb6ibxYBlgo1a2c6pobGuDn9j/hA4ZQb7BjjZhIt68+fEDwiejljA2zh50SPmotKVmjqN+MPT51WrVlFevce7XH+5kgg9UFr2ja8LhULogCMCs60XAAAApUGfDkUVLCv/AAADAAvOdn7+aR1HgBO2LuXpcoAfeh0uIz8VFU/vJHWK6rQkTUIUL9mdF3xhfXNK+Kogs9VzG6kr4DsO7PIrKP8QgUtAqkYqM2kOmyVeqaqo1PzrPBQSOMhvA+/ROm4nJcyCW/Wje0zixd+kUiOnx/+sKa1ZbdTsEUgWJBndx1/nFR0Z7kDki2bDU8v0BVecZ3rWdDyy4zLW2z4lSQAAAHoBny10Qn8AAAMADwk6hRG+oAGzhlA8LAhkAg3lyNvzE5ymwAYQKKLtTjHdwaVxcI15Th0gmVG5YG1BqWCbLbyhs5NDM7AAm0+9NfV/HDWL7EiZ5Y3UFQWAkZ3qBE2Rs9KwvYaN35VsUyHgY4WWpETvRwLr96R3XExusAAAAE4Bny9qQn8AAAMADwk6h2k3gNmroZD38GqM/yAB+4QJB4Ic9Mz2vJTEgPqOTwEknf2LX9yqNXPNeJ3ci76rmadZdEercRNwM9iLGmqs0TEAAAErQZs0SahBbJlMCG///qeEAAADACPfBCUd0F3bbboAce5LsFH5OjiQ/51Ck/v+NHuRLYr+8MssL45hyP3OwA/PNSd+i4gkaPOPDDYLAmittRC1DY5g4pWEJPGMYw73auEGV8yPsurHtIKPk4ol+Guei+aTRDLBaT6u3oUN0w93AQGWEQTJv/L9jCQdnQlzWcEw5T1hvxJkfekgq3Uir26NwRehEF5Q7nTgT8imS+ZlvL2xorW/WKnkNQ8YbjbZxky2khd5cC9bjBbeikTVGRosbqoX9QwIG1OsH7CgpmpJ3JeNU2xMehzUaOrygWbYBKjhIr7e+g2EBCmd6YlO8WyFUxp0ACNHyaCttZe/OpTIKz9OxEjhK8EkUDDXHpJxDHt01JoLG/JbsngMW/AAAACSQZ9SRRUsK/8AAAMAHLTQ9xvJ44Y/i0AJxqbN4YizCRw7Kneoadz0bOvz5XJvkzrHF5KGJeIduEJxfnX9OKuoQjomtJa3kq7s9UBX6VksFMfWfqfXGHArGzz3kKKiG5Lta3jMMDGpoBmzs2rHwMJ2JyS86EvW4h03e7e/ChoZdEjTcNMo8FqrBc+wYftQzJbKIIAAAABSAZ9xdEJ/AAADAA8JOxiGA8HH+FYBodZgwAmhRnAfWK8JeUyMw+mlyOwPgHQM95vYV4UxTMlptkwlHkr60vYesXOwOvmioHbdufSRXGIgxYtgZQAAAFcBn3NqQn8AAAMAJbuBAgXHy31sDQAbQxUKA/Vlg87WawvGQw1lzYjjObFR+SyrveXsXwXIUtEUUoe7bWfEPn0D8J0gbfPgmgc6upxr6ZjyfanRz2Kym4EAAAGtQZt4SahBbJlMCG///qeEAAADAA4eXm6cS0hx1wBCNTObBcSdq7XHHT6LL+amtczT6hq6wgcDHd9vwyV/QAbhggcS7V/xxteLPmGMaW+pctNtLT1T6Jt7PIFpVysbl+BAQyIidCPOQevvZEF6WKYg4P9Wk6SqjCmlqeeQZj1hC8dB5pjc6QN6/ujKJSQfGcdkYHWQyfyAwWJKi31QPbVph3iyj/9YNE/LQAzdU3XmURsh5vftrZ0rb9NYIPoTU29VNmsqFkSBvaxevKPRnWTcDSv/HTpUe3FNaO8GQ9rAa/v90NXePrXDmiUll28JuH9y2hyQN93nbX9lUvZKf+CdtzGoJohHlkarl0ByhNL40T8JcSPxExldx5BpkfALB95KRjBwXdhpacYL5kKGAgJ/xEKWxu50FKjuD1L0VNTwUNpH+9s0S+B+q0V1IDhwJd5rBnTDnDoKxGe2RGzyN1kXEuAM6kSlQrIVqzxcVyL7KW2ha02tsbOBptbup6YX7GsI5YSHDW26SRt168c6KyImiPUGMQR4FUVNmdGqMd1kQJZ/lKSapIP1g8LWsCzhAAAAgkGflkUVLCv/AAADAAvOdodVMSJx6WgBEHdTfTpx0fz5WLd6uoi9/D3TzwXp1WTQ6y+gx5Ym7QYzv+q+ovUekcdYjCRNxaCXL/Ipuf+olb6vhVNUEjYoPhwQSIC36mHB//ZqUhv7OUz0FI3OIdb4BtTXP4LtD91EzMuYCg1fSAPv7rAAAABYAZ+1dEJ/AAADAA7RQcvN1cJiYAB/O4YkuvlN+NGKVfVYrtXJYnzMFIQdnQxqHAynFfLZVg+8HKjRe31Dtg+lW7xcY5+OZ/zoJb7M9RUpEHSsaRhK020TbgAAAFQBn7dqQn8AAAMADfk7NqVWlQAeXYsfGnG6qzAim+RoA+hrJZ8qTBXT9fQD41wABfCFj0a3f3V2MkRorjH9IzICIACRkS1wEwlmAMJ08KS726Z6w38AAAGPQZu7SahBbJlMCG///qeEAAADAA4ebfjjrjoT4AWBL8ubchQBidCTfzfA86amu1alp3VXjzYIvCc6U0/tFM/oRMriziBSib3Zu+Pvhind045vt7oW4giyVIC0In1bCeqh3DWjK5H/PJ4vDS3GA8JEv8miAoBoahcrbKWL2BPGFmcn1qlBZCvoA8HaJyipR7Iuslt9WvyQ8aGoDTSfVP8u3j4999QlXcg1ml/z1mMCT+U4IjprJu+1qi9gAL7Puw3bvNHPLlpyOaHtcIeOa8Z0mSUiAoL9m6dMTQ1hC5mgu8d+S/WtbtFB+BeKeol42dJ2bU1hO+J8AZZZQv4gyFK33wbYLPmgZtSdPrFeGNbL2W8NzOyJA+JF/5VM2mwAXC+PyWYDdEjzMliKCBVbQvZiUIR/iy06YPw7QJHLU+XaAcjLnAwESXTTWe2BWPy5mh9oYHQoSuNElSp7Em61/CRtoF5i3/15ZkzWRhkTdLQDtaUNrE+0ymSqXBvkq8hF/0g/54YrG29LDaeDkzg2lknAAAAAj0Gf2UUVLCv/AAADAAuQFP+SIAIgztLQKD9Jv4Sphmj59OHrrg46CossQawTiHXyQC3k5PQIg6NTBbI+k0ovmwMxUGRH7ephtxhZkHd9k1rtTNidBwMMvwwL3Evxo7fuUgb438OvelsIg/XsXZ79bcf+p+7EwJZ8/xekSh1BfCm8BCDgEMg8oc6n+hyaardwAAAAeQGf+mpCfwAAAwAPCTxwcbCgAATtxMdKMAhkqXAkeWxK7paNbrC1MG5npBv/zDSQ1zaVVukhVe2244k5dYt0EiMP2U+7aWPb1vORmi77O7b3zs4h5/vVF/s6qW5n3vVLUjFTlq9CxKt5W2VazBO2ODrF6ZU57riSsCEAAAEVQZv/SahBbJlMCG///qeEAAADAA8/Cef3AB9+9FWlLUOZApnEb0h7dJuPUfFESQVkF/zDc24RIKS7Dm+WD7nuZWwFjwYew+6bKF5k5sQK4+e6Sgh5PP8p8iSs/Alf82gBMw9K6YeuKt5LTaiLq+CHDC6k/KcMK+Gd2QnUGOmjEBGdHigOVMbS58S4OusuNpTOft3IR4XiAcqqEPT17nUC/Kp/MB18qgl01iBizzECo3v54j0SAmAv1XWx2wOKAAW6gtcDL0e5i+CeRnxRWm1WK4sdwCceLzvIcO4ETCZe3pcpkQF0EiADDNkCsPFFHLF2B6riAQ0NPK8c/Bny8lOtXS95GfWnW10C6nJYhoBG9v6rFEcywAAAAKZBnh1FFSwr/wAAAwAMk6GMX/ZFAAtchDbAA4Hywvcq9yw9Azb7lB9IaN8BTP5yCrSu7Vt6y97lk1XUtg8XAQf4KVxLSEG6qm37LZ/zC+MsuN6Szzv+Fi3Gc1p6QxZy97nVl7ogec3SkyGwZp/9PTCmBeAOBLvxZtgM/LwhLmPnXyH1FsE8lJ5KjDDz2nbUbyIR7vscCkSkVk9DPtdWVmNFQDmrWTpxAAAAfgGePHRCfwAAAwAPCTuabqADOvUmk6Cz/bOYVIQ16joS6LUq7XUmvipQrpsr+ePWFFvr1V2iyV0ejMdMZSNLXpMiVTnWUJbmitMq4FPAj7qitayHUSlGIGx98owfoIQE9E9Z51XAFMmgUx9SjVcGB1EWuIIQzMmqf7OiMHMm3QAAAGQBnj5qQn8AAAMAD+PC8/IAa7Sl9dbBVuRtfT3n7jtCVD2xY1px2eHs5N84KZecjTxzwf4VpjjqqPEy6Y7YjgNkdKEk7NIl13wp2lHtwZry804nquj54mPjgG8g/Fko/zq9uxWwAAAA5UGaI0moQWyZTAhv//6nhAAAAwAls+IUgC8/u5+DgzheikV4U5I96yn8XuLLhy3hpRgxym4duItxvDeu2Vs81Dj8FlYEvYTjSsSvfIvMnaOBvUtGkr1/EPUX6VOe0PotfJPPP2gvBnp8Zx4ES4viqgXWFSyGf1QFj2w3cFGrgtm7prT1zyf3s7GWsev/9bDH6M+nAsHWRa4PTkL/Pv3f+tRZ7D7KHkpLem/3JWdvXj0rUoIvbNLbjy+ieviAi/cy5Q/9qDiSR1QR760gcArKpFh6IypwewZrF3R6i2HGK/7CqN0Sm4EAAABkQZ5BRRUsK/8AAAMADRFfyx4AZ7IcmCNkYbypS6tuP0xB8lMR/n8DrGcIblfG2tyw8Ieyt05FzIKID4nVEKEEuHOg8/FSSDrGNHVqs33BTQZYdHF7oL/Dx/VruSrG/guyAk/PgAAAAEoBnmB0Qn8AAAMAEN8tZ6mwAQL8K+WZ3FabDDOpvhRDBtRtRpXy6bfO1LUOyhxLe3XRYt/V+sfQYAeSmHGuntcc3WFGnX3buARZgQAAAD4BnmJqQn8AAAMAEWiWAA2cVfEFy09PoHlv02UC7Cw77mIC/uchYo2LINSFZ6G2Lhup8NuqmsDX+kaNYsLkGQAAARlBmmdJqEFsmUwIb//+p4QAAAMAJbPgLgDjPHGa8xP6ZQGeMhlzvhkheI2PcBZNCACC9vP2lu8v7hgIeXc0130fzGskJ2zdZZIbqrESxsR4uTvnYGh0kgpEjCcy4G3+7Df0zGVBjqhg1vctOgQrDk/WKhbU1BVgVHxTgQI9sDDfZw8lAtZX3YReK9Gpp7OkxzrtLm8/6tDSI+0tji9+NXHtKInguyIJ79ahOovLPgUlKDbmnuKFs5xlToh59E7cy8S15cwdy2baCFCb5wPYqvBtc8gyFuqnUqlyQnVXlF50B9m27N86zS3w9kfOq+engg+XMt+5SFH694LMGFqa2IW8KTn5GVqQ0dGTd5su70KYJcOra8uCfGf48AAAAEtBnoVFFSwr/wAAAwAeYB0ijbf7Pxwy4hzzcNqr5NvGKe3SnCxjoALnkjXav4d639P0g8cR/2Dv+tJ3NARjHVGVYDGnTBUVlmLyexYAAAAvAZ6kdEJ/AAADACWtSvbdXgDgAAbP3BRhA02VZ+neRC0osUTZk3mgES5UjJTYQvEAAAAjAZ6makJ/AAADACW7gZ6mPTbZwhTFsOWRwp5TuJw4RHeEjekAAACpQZqrSahBbJlMCG///qeEAAADAA4eP9+prqQAVYZ3GViX8pQUWtwDEO1wPbT9LvcGmrLGXyUZ2UtIrC6PCtruDRXDuVuLKOujDB8h9C3wxpFSUMT/LckhvoWKzd8NUvoykr21CqH+8n69oNY1EmfSm0XOelQXbpb4hQfC+J1YDEllSWoK0wzdsnfOM/SungAp379ddMzGR7ygzfHarW0zxl6ORtMg8widJQAAADNBnslFFSwr/wAAAwAdCvTPurzqM/HaZzSvqEmpz/dK+gCeYnnIms/pmJn0UkcNOLs4doAAAAAfAZ7odEJ/AAADACWtSvbdX9ZjQxcfQWs6fpCk63rbgQAAACIBnupqQn8AAAMAJbuBnqY8o1MV7QQdHIYdrny9xEo8NA6ZAAAAcUGa70moQWyZTAhv//6nhAAAAwAOIPo0AFh1AQESXYGiCMi+TNg873T/fO5QgSVhToPhfQfQmcOVeTB252Ajif+tkoqzLesOlUTBzpfEFGM/KWCtVOSxx3FWmvbYHAzjhKmLqljQkfe0dp8dvL4hpG7pAAAAJ0GfDUUVLCv/AAADAB0K9M+6vO1XmYEQTb/nwtj5yKqgHVoTL5OCBQAAAB4Bnyx0Qn8AAAMAJa1K9t1f1mNDFaIbCvKUVDFKAi4AAAAfAZ8uakJ/AAADACW7gZ6mPWP2LKQn7LPzcr0AyKBWwAAAACdBmzNJqEFsmUwIb//+p4QAAAMADiMAwz237A7wXID31nXkYWRW8YEAAAAjQZ9RRRUsK/8AAAMAHQr0z7q86Nnxq0Xp0YLuzz3h12z8BVwAAAAeAZ9wdEJ/AAADACWtSvbdXfUK/tBIQKHgpNMhShswAAAAGwGfcmpCfwAAAwAlu4Gepj022j/NuL+gBoB1wQAAABhBm3dJqEFsmUwIb//+p4QAAAMAAAMA1IEAAAAgQZ+VRRUsK/8AAAMAHQr0z7q87UDaEjHWqukwlxmAakEAAAAaAZ+0dEJ/AAADACWtSvbdX3y1A9RZtpFqAh4AAAAbAZ+2akJ/AAADACW7gZ6mPTbaP824v6AGgHXAAAAAGEGbu0moQWyZTAhv//6nhAAAAwAAAwDUgQAAACBBn9lFFSwr/wAAAwAdCvTPurztQNoSMdaq6TCXGYBqQAAAABoBn/h0Qn8AAAMAJa1K9t1ffLUD1Fm2kWoCHgAAABsBn/pqQn8AAAMAJbuBnqY9Nto/zbi/oAaAdcEAAAAXQZv/SahBbJlMCGf//p4QAAADAAADAz4AAAAgQZ4dRRUsK/8AAAMAHQr0z7q87UDaEjHWqukwlxmAakEAAAAaAZ48dEJ/AAADACWtSvbdX3y1A9RZtpFqAh8AAAAbAZ4+akJ/AAADACW7gZ6mPTbaP824v6AGgHXAAAAAF0GaI0moQWyZTAhf//6MsAAAAwAAAwNDAAAAIEGeQUUVLCv/AAADAB0K9M+6vO1A2hIx1qrpMJcZgGpAAAAAGgGeYHRCfwAAAwAlrUr23V98tQPUWbaRagIfAAAAGwGeYmpCfwAAAwAlu4Gepj022j/NuL+gBoB1wQAAABdBmmZJqEFsmUwIT//98QAAAwAAAwAekAAAACBBnoRFFSwr/wAAAwAdCvTPurztQNoSMdaq6TCXGYBqQAAAABsBnqVqQn8AAAMAJbuBnqY9Nto/zbi/oAaAdcEAABHibW9vdgAAAGxtdmhkAAAAAAAAAAAAAAAAAAAD6AAAKcwAAQAAAQAAAAAAAAAAAAAAAAEAAAAAAAAAAAAAAAAAAAABAAAAAAAAAAAAAAAAAABAAAAAAAAAAAAAAAAAAAAAAAAAAAAAAAAAAAAAAAAAAgAAEQx0cmFrAAAAXHRraGQAAAADAAAAAAAAAAAAAAABAAAAAAAAKcwAAAAAAAAAAAAAAAAAAAAAAAEAAAAAAAAAAAAAAAAAAAABAAAAAAAAAAAAAAAAAABAAAAAAmAAAAGQAAAAAAAkZWR0cwAAABxlbHN0AAAAAAAAAAEAACnMAAAEAAABAAAAABCEbWRpYQAAACBtZGhkAAAAAAAAAAAAAAAAAAA8AAACggBVxAAAAAAALWhkbHIAAAAAAAAAAHZpZGUAAAAAAAAAAAAAAABWaWRlb0hhbmRsZXIAAAAQL21pbmYAAAAUdm1oZAAAAAEAAAAAAAAAAAAAACRkaW5mAAAAHGRyZWYAAAAAAAAAAQAAAAx1cmwgAAAAAQAAD+9zdGJsAAAAl3N0c2QAAAAAAAAAAQAAAIdhdmMxAAAAAAAAAAEAAAAAAAAAAAAAAAAAAAAAAmABkABIAAAASAAAAAAAAAABAAAAAAAAAAAAAAAAAAAAAAAAAAAAAAAAAAAAAAAAAAAAGP//AAAAMWF2Y0MBZAAe/+EAGGdkAB6s2UCYM6EAAAMAAQAAAwA8DxYtlgEABmjr48siwAAAABhzdHRzAAAAAAAAAAEAAAFBAAACAAAAABhzdHNzAAAAAAAAAAIAAAABAAAA+wAACdhjdHRzAAAAAAAAATkAAAABAAAEAAAAAAEAAAoAAAAAAQAABAAAAAABAAAAAAAAAAEAAAIAAAAAAQAACgAAAAABAAAEAAAAAAEAAAAAAAAAAQAAAgAAAAABAAAKAAAAAAEAAAQAAAAAAQAAAAAAAAABAAACAAAAAAEAAAoAAAAAAQAABAAAAAABAAAAAAAAAAEAAAIAAAAAAQAACgAAAAABAAAEAAAAAAEAAAAAAAAAAQAAAgAAAAABAAAKAAAAAAEAAAQAAAAAAQAAAAAAAAABAAACAAAAAAEAAAoAAAAAAQAABAAAAAABAAAAAAAAAAEAAAIAAAAAAQAACgAAAAABAAAEAAAAAAEAAAAAAAAAAQAAAgAAAAABAAAGAAAAAAEAAAIAAAAAAQAABAAAAAABAAAGAAAAAAEAAAIAAAAAAQAABgAAAAABAAACAAAAAAEAAAYAAAAAAQAAAgAAAAABAAAIAAAAAAIAAAIAAAAAAQAACgAAAAABAAAEAAAAAAEAAAAAAAAAAQAAAgAAAAABAAAIAAAAAAIAAAIAAAAAAQAACgAAAAABAAAEAAAAAAEAAAAAAAAAAQAAAgAAAAABAAAKAAAAAAEAAAQAAAAAAQAAAAAAAAABAAACAAAAAAEAAAoAAAAAAQAABAAAAAABAAAAAAAAAAEAAAIAAAAAAQAACAAAAAACAAACAAAAAAEAAAgAAAAAAgAAAgAAAAABAAAKAAAAAAEAAAQAAAAAAQAAAAAAAAABAAACAAAAAAEAAAoAAAAAAQAABAAAAAABAAAAAAAAAAEAAAIAAAAAAQAACgAAAAABAAAEAAAAAAEAAAAAAAAAAQAAAgAAAAABAAAKAAAAAAEAAAQAAAAAAQAAAAAAAAABAAACAAAAAAEAAAoAAAAAAQAABAAAAAABAAAAAAAAAAEAAAIAAAAAAQAACgAAAAABAAAEAAAAAAEAAAAAAAAAAQAAAgAAAAABAAAKAAAAAAEAAAQAAAAAAQAAAAAAAAABAAACAAAAAAEAAAoAAAAAAQAABAAAAAABAAAAAAAAAAEAAAIAAAAAAQAACgAAAAABAAAEAAAAAAEAAAAAAAAAAQAAAgAAAAABAAAKAAAAAAEAAAQAAAAAAQAAAAAAAAABAAACAAAAAAEAAAoAAAAAAQAABAAAAAABAAAAAAAAAAEAAAIAAAAAAQAACgAAAAABAAAEAAAAAAEAAAAAAAAAAQAAAgAAAAABAAAKAAAAAAEAAAQAAAAAAQAAAAAAAAABAAACAAAAAAEAAAoAAAAAAQAABAAAAAABAAAAAAAAAAEAAAIAAAAAAQAACgAAAAABAAAEAAAAAAEAAAAAAAAAAQAAAgAAAAABAAAKAAAAAAEAAAQAAAAAAQAAAAAAAAABAAACAAAAAAEAAAYAAAAAAQAAAgAAAAABAAAKAAAAAAEAAAQAAAAAAQAAAAAAAAABAAACAAAAAAEAAAoAAAAAAQAABAAAAAABAAAAAAAAAAEAAAIAAAAAAQAACgAAAAABAAAEAAAAAAEAAAAAAAAAAQAAAgAAAAABAAAKAAAAAAEAAAQAAAAAAQAAAAAAAAABAAACAAAAAAEAAAoAAAAAAQAABAAAAAABAAAAAAAAAAEAAAIAAAAAAQAACAAAAAACAAACAAAAAAEAAAoAAAAAAQAABAAAAAABAAAAAAAAAAEAAAIAAAAAAQAACgAAAAABAAAEAAAAAAEAAAAAAAAAAQAAAgAAAAABAAAKAAAAAAEAAAQAAAAAAQAAAAAAAAABAAACAAAAAAEAAAoAAAAAAQAABAAAAAABAAAAAAAAAAEAAAIAAAAAAQAACgAAAAABAAAEAAAAAAEAAAAAAAAAAQAAAgAAAAABAAAKAAAAAAEAAAQAAAAAAQAAAAAAAAABAAACAAAAAAEAAAoAAAAAAQAABAAAAAABAAAAAAAAAAEAAAIAAAAAAQAACgAAAAABAAAEAAAAAAEAAAAAAAAAAQAAAgAAAAABAAAKAAAAAAEAAAQAAAAAAQAAAAAAAAABAAACAAAAAAEAAAoAAAAAAQAABAAAAAABAAAAAAAAAAEAAAIAAAAAAQAACgAAAAABAAAEAAAAAAEAAAAAAAAAAQAAAgAAAAABAAAKAAAAAAEAAAQAAAAAAQAAAAAAAAABAAACAAAAAAEAAAoAAAAAAQAABAAAAAABAAAAAAAAAAEAAAIAAAAAAQAACgAAAAABAAAEAAAAAAEAAAAAAAAAAQAAAgAAAAABAAAKAAAAAAEAAAQAAAAAAQAAAAAAAAABAAACAAAAAAEAAAoAAAAAAQAABAAAAAABAAAAAAAAAAEAAAIAAAAAAQAACgAAAAABAAAEAAAAAAEAAAAAAAAAAQAAAgAAAAABAAAKAAAAAAEAAAQAAAAAAQAAAAAAAAABAAACAAAAAAEAAAoAAAAAAQAABAAAAAABAAAAAAAAAAEAAAIAAAAAAQAACgAAAAABAAAEAAAAAAEAAAAAAAAAAQAAAgAAAAABAAAKAAAAAAEAAAQAAAAAAQAAAAAAAAABAAACAAAAAAEAAAoAAAAAAQAABAAAAAABAAAAAAAAAAEAAAIAAAAAAQAACAAAAAACAAACAAAAAAEAAAQAAAAAAQAACgAAAAABAAAEAAAAAAEAAAAAAAAAAQAAAgAAAAABAAAKAAAAAAEAAAQAAAAAAQAAAAAAAAABAAACAAAAAAEAAAoAAAAAAQAABAAAAAABAAAAAAAAAAEAAAIAAAAAAQAACgAAAAABAAAEAAAAAAEAAAAAAAAAAQAAAgAAAAABAAAKAAAAAAEAAAQAAAAAAQAAAAAAAAABAAACAAAAAAEAAAoAAAAAAQAABAAAAAABAAAAAAAAAAEAAAIAAAAAAQAACAAAAAACAAACAAAAAAEAAAoAAAAAAQAABAAAAAABAAAAAAAAAAEAAAIAAAAAAQAACgAAAAABAAAEAAAAAAEAAAAAAAAAAQAAAgAAAAABAAAKAAAAAAEAAAQAAAAAAQAAAAAAAAABAAACAAAAAAEAAAoAAAAAAQAABAAAAAABAAAAAAAAAAEAAAIAAAAAAQAACgAAAAABAAAEAAAAAAEAAAAAAAAAAQAAAgAAAAABAAAKAAAAAAEAAAQAAAAAAQAAAAAAAAABAAACAAAAAAEAAAoAAAAAAQAABAAAAAABAAAAAAAAAAEAAAIAAAAAAQAACgAAAAABAAAEAAAAAAEAAAAAAAAAAQAAAgAAAAABAAAKAAAAAAEAAAQAAAAAAQAAAAAAAAABAAACAAAAAAEAAAoAAAAAAQAABAAAAAABAAAAAAAAAAEAAAIAAAAAAQAACAAAAAACAAACAAAAABxzdHNjAAAAAAAAAAEAAAABAAABQQAAAAEAAAUYc3RzegAAAAAAAAAAAAABQQAACcUAAAFCAAAAeAAAAEQAAABaAAAAmgAAAEcAAAAzAAAAQwAAAFAAAABHAAAAPgAAACQAAAB+AAAALgAAAB0AAAAdAAAAOwAAACkAAAAgAAAAIgAAAIoAAAAvAAAAHQAAADoAAAC+AAAANQAAACcAAAAsAAAA5gAAAFEAAAAwAAAAPwAAAMIAAAA+AAAAjgAAAOIAAAA8AAAAywAAADMAAAEsAAAAXQAAAf8AAAB8AAAAigAAAYwAAADSAAAAoAAAAOIAAAFdAAAA0wAAAMgAAAFYAAAAzgAAALwAAAC/AAABaAAAAO4AAAD0AAAAywAAAVAAAADvAAAA2wAAALwAAAFpAAAA6wAAAMwAAAFyAAAA2wAAAKQAAAFlAAAAyAAAAL4AAADwAAABIAAAAOsAAADpAAAA0wAAATcAAADMAAAA0gAAAQQAAAExAAAAvgAAAOcAAACfAAABPgAAAL4AAADTAAAA0gAAARMAAAC8AAAA2gAAAOgAAAE/AAAA7wAAALwAAADaAAABHAAAAOMAAAC1AAAAwwAAAUYAAAB5AAAAgwAAAG4AAAExAAAAggAAAGkAAABvAAAA+wAAAIoAAABnAAAASQAAAL4AAABeAAAATAAAAF8AAAFEAAAAegAAAEUAAAB4AAABNAAAAKUAAACBAAAAlAAAASYAAACvAAAAlwAAAJ8AAAFYAAAAzQAAAKEAAAC9AAABcgAAANsAAAFhAAABGwAAAN4AAADWAAABUAAAAN4AAAC7AAAA1AAAAQoAAADpAAAA1wAAAKQAAAEXAAAAxwAAAK4AAACaAAAA4AAAANgAAACCAAAAkAAAARMAAACrAAAAkQAAAS8AAAC2AAAAlgAAAMcAAAEeAAAA+AAAALgAAADEAAAA/AAAAMAAAACKAAAAqgAAAOUAAADCAAAAwQAAALoAAAEbAAAAmAAAAH8AAACXAAAA2AAAALYAAACrAAAApgAAAS8AAADIAAAAiQAAAMAAAAFGAAAAywAAAI4AAACkAAABNgAAAJQAAACrAAAAegAAASgAAADCAAAAswAAALEAAAEbAAAAvgAAAIYAAAB6AAABAgAAALYAAACAAAAAjwAAAPUAAACNAAAAYQAAAHsAAAEPAAAAngAAAJQAAACOAAABNAAAAJcAAAB2AAAAewAAASUAAACiAAAAsAAAALcAAAESAAAAsQAAAI4AAACyAAABUQAAAK4AAACdAAAAtAAAAYMAAADnAAAAvgAAALAAAAECAAAAsQAAAOAAAACyAAABawAAANcAAADCAAAA0wAAAWAAAADcAAAA1wAAALAAAADTAAAAlAAAAKQAAAl/AAABUgAAAKcAAACwAAAAjAAAAN4AAADSAAAAggAAAJYAAAE+AAAAwAAAAKIAAACsAAABMQAAAKkAAAB+AAAAUgAAAS8AAACWAAAAVgAAAFsAAAGxAAAAhgAAAFwAAABYAAABkwAAAJMAAAB9AAABGQAAAKoAAACCAAAAaAAAAOkAAABoAAAATgAAAEIAAAEdAAAATwAAADMAAAAnAAAArQAAADcAAAAjAAAAJgAAAHUAAAArAAAAIgAAACMAAAArAAAAJwAAACIAAAAfAAAAHAAAACQAAAAeAAAAHwAAABwAAAAkAAAAHgAAAB8AAAAbAAAAJAAAAB4AAAAfAAAAGwAAACQAAAAeAAAAHwAAABsAAAAkAAAAHwAAABRzdGNvAAAAAAAAAAEAAAAwAAAAYnVkdGEAAABabWV0YQAAAAAAAAAhaGRscgAAAAAAAAAAbWRpcmFwcGwAAAAAAAAAAAAAAAAtaWxzdAAAACWpdG9vAAAAHWRhdGEAAAABAAAAAExhdmY1OC4yOS4xMDA=\" type=\"video/mp4\">\n",
       "    Your browser does not support the video tag.\n",
       "    </video>"
      ],
      "text/plain": [
       "<IPython.core.display.HTML object>"
      ]
     },
     "execution_count": 118,
     "metadata": {},
     "output_type": "execute_result"
    }
   ],
   "source": [
    "filename = \"./videos/lunar_lander.mp4\"\n",
    "\n",
    "utils.create_video(filename, env, q_network)\n",
    "utils.embed_mp4(filename)"
   ]
  },
  {
   "cell_type": "markdown",
   "metadata": {},
   "source": [
    "<a name=\"11\"></a>\n",
    "## 11 - Congratulations!\n",
    "\n",
    "You have successfully used Deep Q-Learning with Experience Replay to train an agent to land a lunar lander safely on a landing pad on the surface of the moon. Congratulations!"
   ]
  },
  {
   "cell_type": "markdown",
   "metadata": {},
   "source": [
    "<a name=\"12\"></a>\n",
    "## 12 - References\n",
    "\n",
    "If you would like to learn more about Deep Q-Learning, we recommend you check out the following papers.\n",
    "\n",
    "\n",
    "* Mnih, V., Kavukcuoglu, K., Silver, D. et al. Human-level control through deep reinforcement learning. Nature 518, 529–533 (2015).\n",
    "\n",
    "\n",
    "* Lillicrap, T. P., Hunt, J. J., Pritzel, A., et al. Continuous Control with Deep Reinforcement Learning. ICLR (2016).\n",
    "\n",
    "\n",
    "* Mnih, V., Kavukcuoglu, K., Silver, D. et al. Playing Atari with Deep Reinforcement Learning. arXiv e-prints.  arXiv:1312.5602 (2013)."
   ]
  },
  {
   "cell_type": "code",
   "execution_count": null,
   "metadata": {},
   "outputs": [],
   "source": []
  }
 ],
 "metadata": {
  "accelerator": "GPU",
  "colab": {
   "collapsed_sections": [],
   "name": "TensorFlow - Lunar Lander.ipynb",
   "provenance": []
  },
  "kernelspec": {
   "display_name": "Python 3",
   "language": "python",
   "name": "python3"
  },
  "language_info": {
   "codemirror_mode": {
    "name": "ipython",
    "version": 3
   },
   "file_extension": ".py",
   "mimetype": "text/x-python",
   "name": "python",
   "nbconvert_exporter": "python",
   "pygments_lexer": "ipython3",
   "version": "3.7.6"
  }
 },
 "nbformat": 4,
 "nbformat_minor": 1
}
